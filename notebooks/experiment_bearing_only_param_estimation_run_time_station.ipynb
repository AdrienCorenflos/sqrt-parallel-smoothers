{
 "cells": [
  {
   "cell_type": "code",
   "execution_count": 1,
   "metadata": {
    "pycharm": {
     "name": "#%%\n"
    }
   },
   "outputs": [],
   "source": [
    "import jax\n",
    "import numpy as np\n",
    "import jax.numpy as jnp\n",
    "import scipy\n",
    "import time\n",
    "import pickle\n",
    "import pandas as pd\n",
    "from scipy.optimize import minimize\n",
    "import tqdm.auto as tqdm\n",
    "\n",
    "import matplotlib.pyplot as plt\n",
    "\n",
    "jax.config.update(\"jax_enable_x64\", True)\n",
    "\n",
    "from parsmooth._base import MVNStandard, FunctionalModel, MVNSqrt\n",
    "from parsmooth.linearization import extended, cubature, unscented, gauss_hermite\n",
    "from parsmooth.methods import iterated_smoothing\n",
    "from bearing_data_pe import get_data, make_parameters, inverse_bearings\n"
   ]
  },
  {
   "cell_type": "code",
   "execution_count": 2,
   "metadata": {
    "scrolled": true,
    "pycharm": {
     "name": "#%%\n"
    }
   },
   "outputs": [],
   "source": [
    "s1 = jnp.array([-1., 0.5])  # First sensor location\n",
    "s2 = jnp.array([1., 1.])  # Second sensor location\n",
    "x0 = jnp.array([0.1, 0.2, 1, 0])  # initial true location\n",
    "dt = 0.01  # discretization time step\n",
    "qc = 0.1  # discretization noise\n",
    "qw = 0.1  # discretization noise\n",
    "\n",
    "n_run = 25\n",
    "Ts = [1, 2, 4, 8, 16, 32, 64, 128, 256, 512, 1024, 2048, 4096]\n",
    "r_true = 0.05\n",
    "n_loops = 5"
   ]
  },
  {
   "cell_type": "code",
   "execution_count": 3,
   "outputs": [],
   "source": [
    "# Data = []\n",
    "# for t, T in enumerate(tqdm.tqdm(Ts)):\n",
    "#     data = []\n",
    "#     for i in range(n_run):\n",
    "#         _, _, ys = get_data(x0, dt, r_true, T, s1, s2)\n",
    "#         positions = inverse_bearings(ys, s1, s2)\n",
    "#         states = jnp.concatenate([jnp.concatenate([jnp.zeros((1,2)), positions], axis = 0),\n",
    "#                               jnp.zeros((T+1,3))], axis = 1)\n",
    "#\n",
    "#         initial_states =  MVNStandard(states,0.1*jnp.repeat(jnp.eye(5).reshape(1, 5, 5), T + 1, axis=0))\n",
    "#         initial_states_sqrt = MVNSqrt(states,jnp.sqrt(0.1)*jnp.repeat(jnp.eye(5).reshape(1, 5, 5), T + 1, axis=0))\n",
    "#         data.append({'ys': ys, 'initial_states': initial_states, 'initial_states_sqrt': initial_states_sqrt})\n",
    "#     Data.append(data)\n",
    "#\n",
    "# with  open(\"outputs/ell-runtime-output/data.pkl\", \"wb\") as open_file:\n",
    "#     pickle.dump(Data, open_file)\n",
    "\n",
    "\n",
    "with open(\"outputs/ell-runtime-output/data.pkl\", \"rb\") as open_file:\n",
    "    Data = pickle.load(open_file)"
   ],
   "metadata": {
    "collapsed": false,
    "pycharm": {
     "name": "#%%\n"
    }
   }
  },
  {
   "cell_type": "code",
   "execution_count": 4,
   "outputs": [],
   "source": [
    "Q, _, observation_function, transition_function = make_parameters(qc, qw, r_true, dt, s1, s2)\n",
    "\n",
    "chol_Q = jnp.linalg.cholesky(Q)\n",
    "\n",
    "m0 = jnp.array([2., 0, 0, 0, 0])\n",
    "P0 = jnp.diag(jnp.array([0.5**2, 0.5**2, 0.5**2, 0.5**2, 1.]))\n",
    "chol_P0 = scipy.linalg.cholesky(P0)\n",
    "\n",
    "init = MVNStandard(m0, P0)\n",
    "chol_init = MVNSqrt(m0, chol_P0)\n",
    "\n",
    "\n",
    "sqrt_transition_model = FunctionalModel(transition_function, MVNSqrt(jnp.zeros((5,)), chol_Q))\n",
    "transition_model = FunctionalModel(transition_function, MVNStandard(jnp.zeros((5,)), Q))\n"
   ],
   "metadata": {
    "collapsed": false,
    "pycharm": {
     "name": "#%%\n"
    }
   }
  },
  {
   "cell_type": "code",
   "execution_count": 5,
   "outputs": [],
   "source": [
    "@jax.jit\n",
    "def runtime_get_ell_std_extended_par(observations, initial_points, iteration, prec_r):\n",
    "    r = 1 / prec_r[0]\n",
    "    R = jnp.diag(jnp.array([r ** 2, 0.1 ** 2]))\n",
    "    observation_model = FunctionalModel(observation_function, MVNStandard(jnp.zeros((2,)), R))\n",
    "\n",
    "    _, ell = iterated_smoothing(observations, init, transition_model, observation_model,\n",
    "                                               extended, initial_points, True,\n",
    "                                               criterion=lambda i, *_: i < iteration,\n",
    "                                               return_loglikelihood = True)\n",
    "    return -ell\n",
    "\n",
    "@jax.jit\n",
    "def runtime_get_ell_std_cubature_par(observations, initial_points, iteration, prec_r):\n",
    "    r = 1 / prec_r[0]\n",
    "    R = jnp.diag(jnp.array([r ** 2, 0.1 ** 2]))\n",
    "    observation_model = FunctionalModel(observation_function, MVNStandard(jnp.zeros((2,)), R))\n",
    "\n",
    "    _, ell = iterated_smoothing(observations, init, transition_model, observation_model,\n",
    "                                               cubature, initial_points, True,\n",
    "                                               criterion=lambda i, *_: i < iteration,\n",
    "                                               return_loglikelihood = True)\n",
    "    return -ell\n",
    "\n",
    "@jax.jit\n",
    "def runtime_get_ell_std_unscented_par(observations, initial_points, iteration, prec_r):\n",
    "    r = 1 / prec_r[0]\n",
    "    R = jnp.diag(jnp.array([r ** 2, 0.1 ** 2]))\n",
    "    observation_model = FunctionalModel(observation_function, MVNStandard(jnp.zeros((2,)), R))\n",
    "\n",
    "    _, ell = iterated_smoothing(observations, init, transition_model, observation_model,\n",
    "                                               unscented, initial_points, True,\n",
    "                                               criterion=lambda i, *_: i < iteration,\n",
    "                                               return_loglikelihood = True)\n",
    "    return -ell\n",
    "\n",
    "@jax.jit\n",
    "def runtime_get_ell_std_gh_par(observations, initial_points, iteration, prec_r):\n",
    "    r = 1 / prec_r[0]\n",
    "    R = jnp.diag(jnp.array([r ** 2, 0.1 ** 2]))\n",
    "    observation_model = FunctionalModel(observation_function, MVNStandard(jnp.zeros((2,)), R))\n",
    "\n",
    "    _, ell = iterated_smoothing(observations, init, transition_model, observation_model,\n",
    "                                               gauss_hermite, initial_points, True,\n",
    "                                               criterion=lambda i, *_: i < iteration,\n",
    "                                               return_loglikelihood = True)\n",
    "    return -ell\n",
    "\n",
    "@jax.jit\n",
    "def runtime_get_ell_std_extended_seq(observations, initial_points, iteration, prec_r):\n",
    "    r = 1 / prec_r[0]\n",
    "    R = jnp.diag(jnp.array([r ** 2, 0.1 ** 2]))\n",
    "    observation_model = FunctionalModel(observation_function, MVNStandard(jnp.zeros((2,)), R))\n",
    "\n",
    "    _, ell = iterated_smoothing(observations, init, transition_model, observation_model,\n",
    "                                               extended, initial_points, False,\n",
    "                                               criterion=lambda i, *_: i < iteration,\n",
    "                                               return_loglikelihood = True)\n",
    "    return -ell\n",
    "\n",
    "@jax.jit\n",
    "def runtime_get_ell_std_cubature_seq(observations, initial_points, iteration, prec_r):\n",
    "    r = 1 / prec_r[0]\n",
    "    R = jnp.diag(jnp.array([r ** 2, 0.1 ** 2]))\n",
    "    observation_model = FunctionalModel(observation_function, MVNStandard(jnp.zeros((2,)), R))\n",
    "\n",
    "    _, ell = iterated_smoothing(observations, init, transition_model, observation_model,\n",
    "                                               cubature, initial_points, False,\n",
    "                                               criterion=lambda i, *_: i < iteration,\n",
    "                                               return_loglikelihood = True)\n",
    "    return -ell\n",
    "\n",
    "@jax.jit\n",
    "def runtime_get_ell_std_unscented_seq(observations, initial_points, iteration, prec_r):\n",
    "    r = 1 / prec_r[0]\n",
    "    R = jnp.diag(jnp.array([r ** 2, 0.1 ** 2]))\n",
    "    observation_model = FunctionalModel(observation_function, MVNStandard(jnp.zeros((2,)), R))\n",
    "\n",
    "    _, ell = iterated_smoothing(observations, init, transition_model, observation_model,\n",
    "                                               unscented, initial_points, False,\n",
    "                                               criterion=lambda i, *_: i < iteration,\n",
    "                                               return_loglikelihood = True)\n",
    "    return -ell\n",
    "\n",
    "@jax.jit\n",
    "def runtime_get_ell_std_gh_seq(observations, initial_points, iteration, prec_r):\n",
    "    r = 1 / prec_r[0]\n",
    "    R = jnp.diag(jnp.array([r ** 2, 0.1 ** 2]))\n",
    "    observation_model = FunctionalModel(observation_function, MVNStandard(jnp.zeros((2,)), R))\n",
    "\n",
    "    _, ell = iterated_smoothing(observations, init, transition_model, observation_model,\n",
    "                                               gauss_hermite, initial_points, False,\n",
    "                                               criterion=lambda i, *_: i < iteration,\n",
    "                                               return_loglikelihood = True)\n",
    "    return -ell"
   ],
   "metadata": {
    "collapsed": false,
    "pycharm": {
     "name": "#%%\n"
    }
   }
  },
  {
   "cell_type": "code",
   "execution_count": 6,
   "outputs": [],
   "source": [
    "#parallel\n",
    "def func(method, lengths, data, n_runs=5, n_iter=15, sqrt=False, mth='extended-std-par'):\n",
    "    SdR11s = []\n",
    "    Times = []\n",
    "    for t, _ in enumerate(tqdm.tqdm(lengths)):\n",
    "        sdR11_res = []\n",
    "        run_times = []\n",
    "        r0 = np.array([10.])\n",
    "        method_res = lambda r: method(*args,r)\n",
    "        grad_func = jax.jit(jax.value_and_grad(method_res), backend=\"gpu\")\n",
    "        for i in tqdm.trange(n_runs, leave=False):\n",
    "            observations_slice = data[t][i]['ys']\n",
    "            if sqrt:\n",
    "                init_linearizations_states = data[t][i]['initial_states_sqrt']\n",
    "                args = observations_slice, init_linearizations_states, n_iter\n",
    "            else:\n",
    "                init_linearizations_states = data[t][i]['initial_states']\n",
    "                args = observations_slice, init_linearizations_states, n_iter\n",
    "\n",
    "            def wrap_func(r):\n",
    "                loss, grad_val = grad_func(r)\n",
    "                return np.array(loss, dtype=np.float64), np.array(grad_val, dtype=np.float64)\n",
    "\n",
    "            tic = time.time()\n",
    "            sdR11 = r0\n",
    "            for _ in range(n_loops):\n",
    "                sdR11 = minimize(wrap_func, r0, jac=True, method=\"L-BFGS-B\", bounds=[(0, 100)]).x\n",
    "            toc = time.time()\n",
    "            run_times.append(toc - tic)\n",
    "            sdR11_res.append(sdR11)\n",
    "        SdR11s.append(sdR11_res)\n",
    "        Times.append(run_times)\n",
    "        np.savez(\"outputs/ell-runtime-output/TIME-GPU-\"+mth+\"-\"+str(t), time = np.array(run_times) )\n",
    "        np.savez(\"outputs/ell-runtime-output/sdR11-GPU-\"+mth+\"-\"+str(t), sdR11 = np.array(sdR11_res) )\n",
    "\n",
    "    return np.array(Times), np.array(SdR11s)\n"
   ],
   "metadata": {
    "collapsed": false,
    "pycharm": {
     "name": "#%%\n"
    }
   }
  },
  {
   "cell_type": "code",
   "execution_count": 7,
   "outputs": [
    {
     "data": {
      "text/plain": "  0%|          | 0/13 [00:00<?, ?it/s]",
      "application/vnd.jupyter.widget-view+json": {
       "version_major": 2,
       "version_minor": 0,
       "model_id": "8c19ba907b4e4bbfa66ea73cd7d27b17"
      }
     },
     "metadata": {},
     "output_type": "display_data"
    },
    {
     "data": {
      "text/plain": "  0%|          | 0/25 [00:00<?, ?it/s]",
      "application/vnd.jupyter.widget-view+json": {
       "version_major": 2,
       "version_minor": 0,
       "model_id": "c3932395031b4c1abef118d338d31844"
      }
     },
     "metadata": {},
     "output_type": "display_data"
    },
    {
     "data": {
      "text/plain": "  0%|          | 0/25 [00:00<?, ?it/s]",
      "application/vnd.jupyter.widget-view+json": {
       "version_major": 2,
       "version_minor": 0,
       "model_id": "43c3a3992d014e9ca1b43e62f28e02f2"
      }
     },
     "metadata": {},
     "output_type": "display_data"
    },
    {
     "data": {
      "text/plain": "  0%|          | 0/25 [00:00<?, ?it/s]",
      "application/vnd.jupyter.widget-view+json": {
       "version_major": 2,
       "version_minor": 0,
       "model_id": "3ba9dce39ddf459683c5d2f87ddd5cad"
      }
     },
     "metadata": {},
     "output_type": "display_data"
    },
    {
     "data": {
      "text/plain": "  0%|          | 0/25 [00:00<?, ?it/s]",
      "application/vnd.jupyter.widget-view+json": {
       "version_major": 2,
       "version_minor": 0,
       "model_id": "c10b60db412a4c379b4791e7f57c1778"
      }
     },
     "metadata": {},
     "output_type": "display_data"
    },
    {
     "data": {
      "text/plain": "  0%|          | 0/25 [00:00<?, ?it/s]",
      "application/vnd.jupyter.widget-view+json": {
       "version_major": 2,
       "version_minor": 0,
       "model_id": "d599b6c8b4704848929be28f753ab2e7"
      }
     },
     "metadata": {},
     "output_type": "display_data"
    },
    {
     "data": {
      "text/plain": "  0%|          | 0/25 [00:00<?, ?it/s]",
      "application/vnd.jupyter.widget-view+json": {
       "version_major": 2,
       "version_minor": 0,
       "model_id": "7861cc0754fd45728a5053aec255fb85"
      }
     },
     "metadata": {},
     "output_type": "display_data"
    },
    {
     "data": {
      "text/plain": "  0%|          | 0/25 [00:00<?, ?it/s]",
      "application/vnd.jupyter.widget-view+json": {
       "version_major": 2,
       "version_minor": 0,
       "model_id": "53ff423818784fe69e34171803c1e6e5"
      }
     },
     "metadata": {},
     "output_type": "display_data"
    },
    {
     "data": {
      "text/plain": "  0%|          | 0/25 [00:00<?, ?it/s]",
      "application/vnd.jupyter.widget-view+json": {
       "version_major": 2,
       "version_minor": 0,
       "model_id": "c823180733bb4aa8ae3594d4cf1656b9"
      }
     },
     "metadata": {},
     "output_type": "display_data"
    },
    {
     "data": {
      "text/plain": "  0%|          | 0/25 [00:00<?, ?it/s]",
      "application/vnd.jupyter.widget-view+json": {
       "version_major": 2,
       "version_minor": 0,
       "model_id": "131d8d3a26cc471894a9cea170dc052b"
      }
     },
     "metadata": {},
     "output_type": "display_data"
    },
    {
     "data": {
      "text/plain": "  0%|          | 0/25 [00:00<?, ?it/s]",
      "application/vnd.jupyter.widget-view+json": {
       "version_major": 2,
       "version_minor": 0,
       "model_id": "677dfaf9cf104434befa20a2213abfe8"
      }
     },
     "metadata": {},
     "output_type": "display_data"
    },
    {
     "data": {
      "text/plain": "  0%|          | 0/25 [00:00<?, ?it/s]",
      "application/vnd.jupyter.widget-view+json": {
       "version_major": 2,
       "version_minor": 0,
       "model_id": "6180089d9d904eac85a28f30074e47a1"
      }
     },
     "metadata": {},
     "output_type": "display_data"
    },
    {
     "data": {
      "text/plain": "  0%|          | 0/25 [00:00<?, ?it/s]",
      "application/vnd.jupyter.widget-view+json": {
       "version_major": 2,
       "version_minor": 0,
       "model_id": "513dd69c39584209b17ba315abcba51b"
      }
     },
     "metadata": {},
     "output_type": "display_data"
    },
    {
     "data": {
      "text/plain": "  0%|          | 0/25 [00:00<?, ?it/s]",
      "application/vnd.jupyter.widget-view+json": {
       "version_major": 2,
       "version_minor": 0,
       "model_id": "d977a32d2fcf480aad084d1e0816e1b7"
      }
     },
     "metadata": {},
     "output_type": "display_data"
    }
   ],
   "source": [
    "time_gpu_extended_std_par, sd_gpu_extended_std_par= func(runtime_get_ell_std_extended_par, Ts, Data, n_run,sqrt=False, mth='extended-std-par')\n",
    "np.savez(\"outputs/ell-runtime-output/TIME-GPU-extended-std-par\",\n",
    "          time_gpu_extended_std_par = time_gpu_extended_std_par)\n",
    "np.savez(\"outputs/ell-runtime-output/sdR11-GPU-extended-std-par\",\n",
    "          sd_gpu_extended_std_par = sd_gpu_extended_std_par)"
   ],
   "metadata": {
    "collapsed": false,
    "pycharm": {
     "name": "#%%\n"
    }
   }
  },
  {
   "cell_type": "code",
   "execution_count": 8,
   "outputs": [],
   "source": [
    "# Parallel other Methods"
   ],
   "metadata": {
    "collapsed": false,
    "pycharm": {
     "name": "#%%\n"
    }
   }
  },
  {
   "cell_type": "code",
   "execution_count": 9,
   "outputs": [
    {
     "data": {
      "text/plain": "  0%|          | 0/13 [00:00<?, ?it/s]",
      "application/vnd.jupyter.widget-view+json": {
       "version_major": 2,
       "version_minor": 0,
       "model_id": "a3d925e6f69d494d98ae2b50c7041d89"
      }
     },
     "metadata": {},
     "output_type": "display_data"
    },
    {
     "data": {
      "text/plain": "  0%|          | 0/25 [00:00<?, ?it/s]",
      "application/vnd.jupyter.widget-view+json": {
       "version_major": 2,
       "version_minor": 0,
       "model_id": "2bb4d2ae07a3459c9a47500358d7a4e4"
      }
     },
     "metadata": {},
     "output_type": "display_data"
    },
    {
     "data": {
      "text/plain": "  0%|          | 0/25 [00:00<?, ?it/s]",
      "application/vnd.jupyter.widget-view+json": {
       "version_major": 2,
       "version_minor": 0,
       "model_id": "899aec2acdec4987aaddb5874a42c2b9"
      }
     },
     "metadata": {},
     "output_type": "display_data"
    },
    {
     "data": {
      "text/plain": "  0%|          | 0/25 [00:00<?, ?it/s]",
      "application/vnd.jupyter.widget-view+json": {
       "version_major": 2,
       "version_minor": 0,
       "model_id": "6d545b21bba546c79891e4a5380622d8"
      }
     },
     "metadata": {},
     "output_type": "display_data"
    },
    {
     "data": {
      "text/plain": "  0%|          | 0/25 [00:00<?, ?it/s]",
      "application/vnd.jupyter.widget-view+json": {
       "version_major": 2,
       "version_minor": 0,
       "model_id": "fafc70fa6ab8410da2abc02cb79ced92"
      }
     },
     "metadata": {},
     "output_type": "display_data"
    },
    {
     "data": {
      "text/plain": "  0%|          | 0/25 [00:00<?, ?it/s]",
      "application/vnd.jupyter.widget-view+json": {
       "version_major": 2,
       "version_minor": 0,
       "model_id": "2d67c6ec669144ec8af6ad27241d631c"
      }
     },
     "metadata": {},
     "output_type": "display_data"
    },
    {
     "data": {
      "text/plain": "  0%|          | 0/25 [00:00<?, ?it/s]",
      "application/vnd.jupyter.widget-view+json": {
       "version_major": 2,
       "version_minor": 0,
       "model_id": "2a5eb99992ff417c9fa1868437bf8cf6"
      }
     },
     "metadata": {},
     "output_type": "display_data"
    },
    {
     "data": {
      "text/plain": "  0%|          | 0/25 [00:00<?, ?it/s]",
      "application/vnd.jupyter.widget-view+json": {
       "version_major": 2,
       "version_minor": 0,
       "model_id": "5da9ccd01fb04068a0133a21671d7e68"
      }
     },
     "metadata": {},
     "output_type": "display_data"
    },
    {
     "data": {
      "text/plain": "  0%|          | 0/25 [00:00<?, ?it/s]",
      "application/vnd.jupyter.widget-view+json": {
       "version_major": 2,
       "version_minor": 0,
       "model_id": "7f6088a3cf2945c4936c0a7cdc1677d6"
      }
     },
     "metadata": {},
     "output_type": "display_data"
    },
    {
     "data": {
      "text/plain": "  0%|          | 0/25 [00:00<?, ?it/s]",
      "application/vnd.jupyter.widget-view+json": {
       "version_major": 2,
       "version_minor": 0,
       "model_id": "c96bf8869eb14f7dbdd94625c3c3b86f"
      }
     },
     "metadata": {},
     "output_type": "display_data"
    },
    {
     "data": {
      "text/plain": "  0%|          | 0/25 [00:00<?, ?it/s]",
      "application/vnd.jupyter.widget-view+json": {
       "version_major": 2,
       "version_minor": 0,
       "model_id": "9ad48a38ec964b34b9a5a2404b3fd587"
      }
     },
     "metadata": {},
     "output_type": "display_data"
    },
    {
     "data": {
      "text/plain": "  0%|          | 0/25 [00:00<?, ?it/s]",
      "application/vnd.jupyter.widget-view+json": {
       "version_major": 2,
       "version_minor": 0,
       "model_id": "219a411d79b24e18bc50120119936bc4"
      }
     },
     "metadata": {},
     "output_type": "display_data"
    },
    {
     "data": {
      "text/plain": "  0%|          | 0/25 [00:00<?, ?it/s]",
      "application/vnd.jupyter.widget-view+json": {
       "version_major": 2,
       "version_minor": 0,
       "model_id": "21af579bff114310b2f75e74d5cf47c2"
      }
     },
     "metadata": {},
     "output_type": "display_data"
    },
    {
     "data": {
      "text/plain": "  0%|          | 0/25 [00:00<?, ?it/s]",
      "application/vnd.jupyter.widget-view+json": {
       "version_major": 2,
       "version_minor": 0,
       "model_id": "550d3141d5ee462f8e67c8fee61084b6"
      }
     },
     "metadata": {},
     "output_type": "display_data"
    }
   ],
   "source": [
    "time_gpu_cubature_std_par, sd_gpu_cubature_std_par= func(runtime_get_ell_std_cubature_par, Ts, Data, n_run,sqrt=False, mth='cubature-std-par')\n",
    "np.savez(\"outputs/ell-runtime-output/TIME-GPU-cubature-std-par\",\n",
    "          time_gpu_cubature_std_par = time_gpu_cubature_std_par)\n",
    "np.savez(\"outputs/ell-runtime-output/sdR11-GPU-cubature-std-par\",\n",
    "          sd_gpu_cubature_std_par = sd_gpu_cubature_std_par)"
   ],
   "metadata": {
    "collapsed": false,
    "pycharm": {
     "name": "#%%\n"
    }
   }
  },
  {
   "cell_type": "code",
   "execution_count": 10,
   "outputs": [
    {
     "data": {
      "text/plain": "  0%|          | 0/13 [00:00<?, ?it/s]",
      "application/vnd.jupyter.widget-view+json": {
       "version_major": 2,
       "version_minor": 0,
       "model_id": "ae4fc5b4ffa54fa9904375cbb7439cb7"
      }
     },
     "metadata": {},
     "output_type": "display_data"
    },
    {
     "data": {
      "text/plain": "  0%|          | 0/25 [00:00<?, ?it/s]",
      "application/vnd.jupyter.widget-view+json": {
       "version_major": 2,
       "version_minor": 0,
       "model_id": "302cbb76e3b8426ead45d96acc055678"
      }
     },
     "metadata": {},
     "output_type": "display_data"
    },
    {
     "data": {
      "text/plain": "  0%|          | 0/25 [00:00<?, ?it/s]",
      "application/vnd.jupyter.widget-view+json": {
       "version_major": 2,
       "version_minor": 0,
       "model_id": "92297e1f47af4aeba6eba57f8ebf405c"
      }
     },
     "metadata": {},
     "output_type": "display_data"
    },
    {
     "data": {
      "text/plain": "  0%|          | 0/25 [00:00<?, ?it/s]",
      "application/vnd.jupyter.widget-view+json": {
       "version_major": 2,
       "version_minor": 0,
       "model_id": "63ee5e397bfc47d4a2716abcc627f3b9"
      }
     },
     "metadata": {},
     "output_type": "display_data"
    },
    {
     "data": {
      "text/plain": "  0%|          | 0/25 [00:00<?, ?it/s]",
      "application/vnd.jupyter.widget-view+json": {
       "version_major": 2,
       "version_minor": 0,
       "model_id": "25d72d75287a48548f947b0576253989"
      }
     },
     "metadata": {},
     "output_type": "display_data"
    },
    {
     "data": {
      "text/plain": "  0%|          | 0/25 [00:00<?, ?it/s]",
      "application/vnd.jupyter.widget-view+json": {
       "version_major": 2,
       "version_minor": 0,
       "model_id": "d686f620c59e45ab92a61d9ffcabcefe"
      }
     },
     "metadata": {},
     "output_type": "display_data"
    },
    {
     "data": {
      "text/plain": "  0%|          | 0/25 [00:00<?, ?it/s]",
      "application/vnd.jupyter.widget-view+json": {
       "version_major": 2,
       "version_minor": 0,
       "model_id": "ad29ce6ff3fd45beb9c11727acae613c"
      }
     },
     "metadata": {},
     "output_type": "display_data"
    },
    {
     "data": {
      "text/plain": "  0%|          | 0/25 [00:00<?, ?it/s]",
      "application/vnd.jupyter.widget-view+json": {
       "version_major": 2,
       "version_minor": 0,
       "model_id": "be06f15b5db44c358dff4dfa9afbe3d8"
      }
     },
     "metadata": {},
     "output_type": "display_data"
    },
    {
     "data": {
      "text/plain": "  0%|          | 0/25 [00:00<?, ?it/s]",
      "application/vnd.jupyter.widget-view+json": {
       "version_major": 2,
       "version_minor": 0,
       "model_id": "6883e8fd8c6d432f9ba7337a46f5be08"
      }
     },
     "metadata": {},
     "output_type": "display_data"
    },
    {
     "data": {
      "text/plain": "  0%|          | 0/25 [00:00<?, ?it/s]",
      "application/vnd.jupyter.widget-view+json": {
       "version_major": 2,
       "version_minor": 0,
       "model_id": "856f28d053024721b995bb7a5ceabd97"
      }
     },
     "metadata": {},
     "output_type": "display_data"
    },
    {
     "data": {
      "text/plain": "  0%|          | 0/25 [00:00<?, ?it/s]",
      "application/vnd.jupyter.widget-view+json": {
       "version_major": 2,
       "version_minor": 0,
       "model_id": "0a9c828351dd4d9982717e7af937ca32"
      }
     },
     "metadata": {},
     "output_type": "display_data"
    },
    {
     "data": {
      "text/plain": "  0%|          | 0/25 [00:00<?, ?it/s]",
      "application/vnd.jupyter.widget-view+json": {
       "version_major": 2,
       "version_minor": 0,
       "model_id": "2da487d7f81447ee9894771551ab1967"
      }
     },
     "metadata": {},
     "output_type": "display_data"
    },
    {
     "data": {
      "text/plain": "  0%|          | 0/25 [00:00<?, ?it/s]",
      "application/vnd.jupyter.widget-view+json": {
       "version_major": 2,
       "version_minor": 0,
       "model_id": "01452f406f8d4cfb97d85c5507727696"
      }
     },
     "metadata": {},
     "output_type": "display_data"
    },
    {
     "data": {
      "text/plain": "  0%|          | 0/25 [00:00<?, ?it/s]",
      "application/vnd.jupyter.widget-view+json": {
       "version_major": 2,
       "version_minor": 0,
       "model_id": "dd6deff9f73348dca27681d0393afb85"
      }
     },
     "metadata": {},
     "output_type": "display_data"
    }
   ],
   "source": [
    "time_gpu_unscented_std_par, sd_gpu_unscented_std_par= func(runtime_get_ell_std_unscented_par, Ts, Data, n_run,sqrt=False, mth='unscented-std-par')\n",
    "np.savez(\"outputs/ell-runtime-output/TIME-GPU-unscented-std-par\",\n",
    "          time_gpu_unscented_std_par = time_gpu_unscented_std_par)\n",
    "np.savez(\"outputs/ell-runtime-output/sdR11-GPU-unscented-std-par\",\n",
    "          sd_gpu_unscented_std_par = sd_gpu_unscented_std_par)"
   ],
   "metadata": {
    "collapsed": false,
    "pycharm": {
     "name": "#%%\n"
    }
   }
  },
  {
   "cell_type": "code",
   "execution_count": 9,
   "outputs": [
    {
     "data": {
      "text/plain": "  0%|          | 0/2 [00:00<?, ?it/s]",
      "application/vnd.jupyter.widget-view+json": {
       "version_major": 2,
       "version_minor": 0,
       "model_id": "fdd07b7832a7477784c58fef2953c251"
      }
     },
     "metadata": {},
     "output_type": "display_data"
    },
    {
     "data": {
      "text/plain": "  0%|          | 0/25 [00:00<?, ?it/s]",
      "application/vnd.jupyter.widget-view+json": {
       "version_major": 2,
       "version_minor": 0,
       "model_id": "6e498e1325424557b9f466dfc8c54c21"
      }
     },
     "metadata": {},
     "output_type": "display_data"
    },
    {
     "data": {
      "text/plain": "  0%|          | 0/25 [00:00<?, ?it/s]",
      "application/vnd.jupyter.widget-view+json": {
       "version_major": 2,
       "version_minor": 0,
       "model_id": "20ddd61d3afd41fb97b4eb5b3bee7b37"
      }
     },
     "metadata": {},
     "output_type": "display_data"
    }
   ],
   "source": [
    "time_gpu_gh_std_par, sd_gpu_gh_std_par= func(runtime_get_ell_std_gh_par, Ts, Data, n_run,sqrt=False, mth='gh-std-par')\n",
    "np.savez(\"outputs/ell-runtime-output/TIME-GPU-gh-std-par\",\n",
    "          time_gpu_gh_std_par = time_gpu_gh_std_par)\n",
    "np.savez(\"outputs/ell-runtime-output/sdR11-GPU-gh-std-par\",\n",
    "          sd_gpu_gh_std_par = sd_gpu_gh_std_par)"
   ],
   "metadata": {
    "collapsed": false,
    "pycharm": {
     "name": "#%%\n"
    }
   }
  },
  {
   "cell_type": "code",
   "execution_count": 19,
   "outputs": [],
   "source": [
    "# mth='gh-std-par'\n",
    "# time_gpu_gh_std_par = []\n",
    "# sd_gpu_gh_std_par = []\n",
    "# for t in range(len(Ts)):\n",
    "#     with np.load(\"outputs/ell-runtime-output/TIME-GPU-\"+mth+\"-\"+str(t)+\".npz\") as loaded:\n",
    "#         time_gpu_gh_std_par.append(loaded[\"time\"])\n",
    "#     with np.load(\"outputs/ell-runtime-output/sdR11-GPU-\"+mth+\"-\"+str(t)+\".npz\") as loaded:\n",
    "#         sd_gpu_gh_std_par.append(loaded[\"sdR11\"])\n",
    "#\n",
    "# np.savez(\"outputs/ell-runtime-output/TIME-GPU-gh-std-par\",\n",
    "#           time_gpu_gh_std_par = np.array(time_gpu_gh_std_par))\n",
    "# np.savez(\"outputs/ell-runtime-output/sdR11-GPU-gh-std-par\",\n",
    "#           sd_gpu_gh_std_par = np.array(sd_gpu_gh_std_par))"
   ],
   "metadata": {
    "collapsed": false,
    "pycharm": {
     "name": "#%%\n"
    }
   }
  },
  {
   "cell_type": "code",
   "execution_count": null,
   "outputs": [],
   "source": [
    "# Sequential"
   ],
   "metadata": {
    "collapsed": false,
    "pycharm": {
     "name": "#%%\n"
    }
   }
  },
  {
   "cell_type": "code",
   "execution_count": 7,
   "outputs": [
    {
     "data": {
      "text/plain": "  0%|          | 0/13 [00:00<?, ?it/s]",
      "application/vnd.jupyter.widget-view+json": {
       "version_major": 2,
       "version_minor": 0,
       "model_id": "1a456ac7760342da81ebaa976c235710"
      }
     },
     "metadata": {},
     "output_type": "display_data"
    },
    {
     "data": {
      "text/plain": "  0%|          | 0/25 [00:00<?, ?it/s]",
      "application/vnd.jupyter.widget-view+json": {
       "version_major": 2,
       "version_minor": 0,
       "model_id": "55f05b877bf145868426740611dff40a"
      }
     },
     "metadata": {},
     "output_type": "display_data"
    },
    {
     "data": {
      "text/plain": "  0%|          | 0/25 [00:00<?, ?it/s]",
      "application/vnd.jupyter.widget-view+json": {
       "version_major": 2,
       "version_minor": 0,
       "model_id": "9becec35503942e39aa46c35fa879fd4"
      }
     },
     "metadata": {},
     "output_type": "display_data"
    },
    {
     "data": {
      "text/plain": "  0%|          | 0/25 [00:00<?, ?it/s]",
      "application/vnd.jupyter.widget-view+json": {
       "version_major": 2,
       "version_minor": 0,
       "model_id": "3f60bb18f51649e7bcae6cbb7cec5a52"
      }
     },
     "metadata": {},
     "output_type": "display_data"
    },
    {
     "data": {
      "text/plain": "  0%|          | 0/25 [00:00<?, ?it/s]",
      "application/vnd.jupyter.widget-view+json": {
       "version_major": 2,
       "version_minor": 0,
       "model_id": "9a9987a8b6f44f2e953b20b74a5897bc"
      }
     },
     "metadata": {},
     "output_type": "display_data"
    },
    {
     "data": {
      "text/plain": "  0%|          | 0/25 [00:00<?, ?it/s]",
      "application/vnd.jupyter.widget-view+json": {
       "version_major": 2,
       "version_minor": 0,
       "model_id": "71c5336c03f440fc821eb25d82a6f6d3"
      }
     },
     "metadata": {},
     "output_type": "display_data"
    },
    {
     "data": {
      "text/plain": "  0%|          | 0/25 [00:00<?, ?it/s]",
      "application/vnd.jupyter.widget-view+json": {
       "version_major": 2,
       "version_minor": 0,
       "model_id": "92d5060568e84619be18d94ae47c6dd2"
      }
     },
     "metadata": {},
     "output_type": "display_data"
    },
    {
     "data": {
      "text/plain": "  0%|          | 0/25 [00:00<?, ?it/s]",
      "application/vnd.jupyter.widget-view+json": {
       "version_major": 2,
       "version_minor": 0,
       "model_id": "08d362d4c74f48119211144ac180099e"
      }
     },
     "metadata": {},
     "output_type": "display_data"
    },
    {
     "data": {
      "text/plain": "  0%|          | 0/25 [00:00<?, ?it/s]",
      "application/vnd.jupyter.widget-view+json": {
       "version_major": 2,
       "version_minor": 0,
       "model_id": "562173b7a9524dc3b80598078aedf832"
      }
     },
     "metadata": {},
     "output_type": "display_data"
    },
    {
     "data": {
      "text/plain": "  0%|          | 0/25 [00:00<?, ?it/s]",
      "application/vnd.jupyter.widget-view+json": {
       "version_major": 2,
       "version_minor": 0,
       "model_id": "0a7351ec1df24734820f92ce6689616c"
      }
     },
     "metadata": {},
     "output_type": "display_data"
    },
    {
     "data": {
      "text/plain": "  0%|          | 0/25 [00:00<?, ?it/s]",
      "application/vnd.jupyter.widget-view+json": {
       "version_major": 2,
       "version_minor": 0,
       "model_id": "8c8d4e5aaf0b4cf9afd3ea41d544d316"
      }
     },
     "metadata": {},
     "output_type": "display_data"
    },
    {
     "data": {
      "text/plain": "  0%|          | 0/25 [00:00<?, ?it/s]",
      "application/vnd.jupyter.widget-view+json": {
       "version_major": 2,
       "version_minor": 0,
       "model_id": "d3ad64f5d3ff494ca6d41ac10740d52a"
      }
     },
     "metadata": {},
     "output_type": "display_data"
    },
    {
     "data": {
      "text/plain": "  0%|          | 0/25 [00:00<?, ?it/s]",
      "application/vnd.jupyter.widget-view+json": {
       "version_major": 2,
       "version_minor": 0,
       "model_id": "22617c2a548a47f1b95e0e6dc3c7c7d1"
      }
     },
     "metadata": {},
     "output_type": "display_data"
    },
    {
     "data": {
      "text/plain": "  0%|          | 0/25 [00:00<?, ?it/s]",
      "application/vnd.jupyter.widget-view+json": {
       "version_major": 2,
       "version_minor": 0,
       "model_id": "b665639303524729893719dfb3e2259f"
      }
     },
     "metadata": {},
     "output_type": "display_data"
    }
   ],
   "source": [
    "time_gpu_extended_std_seq, sd_gpu_extended_std_seq= func(runtime_get_ell_std_extended_seq, Ts, Data, n_run, sqrt=False, mth='extended-std-seq')\n",
    "np.savez(\"outputs/ell-runtime-output/TIME-GPU-extended-std-seq\",\n",
    "          time_gpu_extended_std_seq = time_gpu_extended_std_seq)\n",
    "np.savez(\"outputs/ell-runtime-output/sdR11-GPU-extended-std-seq\",\n",
    "          sd_gpu_extended_std_seq = sd_gpu_extended_std_seq)"
   ],
   "metadata": {
    "collapsed": false,
    "pycharm": {
     "name": "#%%\n"
    }
   }
  },
  {
   "cell_type": "code",
   "execution_count": 8,
   "outputs": [
    {
     "data": {
      "text/plain": "  0%|          | 0/13 [00:00<?, ?it/s]",
      "application/vnd.jupyter.widget-view+json": {
       "version_major": 2,
       "version_minor": 0,
       "model_id": "705d7a138f304866a2ffc374234d8117"
      }
     },
     "metadata": {},
     "output_type": "display_data"
    },
    {
     "data": {
      "text/plain": "  0%|          | 0/25 [00:00<?, ?it/s]",
      "application/vnd.jupyter.widget-view+json": {
       "version_major": 2,
       "version_minor": 0,
       "model_id": "94ca99b301b04f3c9f1c08d8f26c5861"
      }
     },
     "metadata": {},
     "output_type": "display_data"
    },
    {
     "data": {
      "text/plain": "  0%|          | 0/25 [00:00<?, ?it/s]",
      "application/vnd.jupyter.widget-view+json": {
       "version_major": 2,
       "version_minor": 0,
       "model_id": "a27d8726652c4f04ac6d10af4b6bcb1a"
      }
     },
     "metadata": {},
     "output_type": "display_data"
    },
    {
     "data": {
      "text/plain": "  0%|          | 0/25 [00:00<?, ?it/s]",
      "application/vnd.jupyter.widget-view+json": {
       "version_major": 2,
       "version_minor": 0,
       "model_id": "6728b0d035564e898746d2c8d2c7df9a"
      }
     },
     "metadata": {},
     "output_type": "display_data"
    },
    {
     "data": {
      "text/plain": "  0%|          | 0/25 [00:00<?, ?it/s]",
      "application/vnd.jupyter.widget-view+json": {
       "version_major": 2,
       "version_minor": 0,
       "model_id": "60e6ad1b94ea4a5dbbfb535a532f05b8"
      }
     },
     "metadata": {},
     "output_type": "display_data"
    },
    {
     "data": {
      "text/plain": "  0%|          | 0/25 [00:00<?, ?it/s]",
      "application/vnd.jupyter.widget-view+json": {
       "version_major": 2,
       "version_minor": 0,
       "model_id": "2751f0201f8b442395abe046a525e475"
      }
     },
     "metadata": {},
     "output_type": "display_data"
    },
    {
     "data": {
      "text/plain": "  0%|          | 0/25 [00:00<?, ?it/s]",
      "application/vnd.jupyter.widget-view+json": {
       "version_major": 2,
       "version_minor": 0,
       "model_id": "d07c268b4d1141239d962db411900bfb"
      }
     },
     "metadata": {},
     "output_type": "display_data"
    },
    {
     "data": {
      "text/plain": "  0%|          | 0/25 [00:00<?, ?it/s]",
      "application/vnd.jupyter.widget-view+json": {
       "version_major": 2,
       "version_minor": 0,
       "model_id": "c531b598cc934b5c9347365fa046d7a8"
      }
     },
     "metadata": {},
     "output_type": "display_data"
    },
    {
     "data": {
      "text/plain": "  0%|          | 0/25 [00:00<?, ?it/s]",
      "application/vnd.jupyter.widget-view+json": {
       "version_major": 2,
       "version_minor": 0,
       "model_id": "8b3f71141cbb4ad69bee59359a480d63"
      }
     },
     "metadata": {},
     "output_type": "display_data"
    },
    {
     "data": {
      "text/plain": "  0%|          | 0/25 [00:00<?, ?it/s]",
      "application/vnd.jupyter.widget-view+json": {
       "version_major": 2,
       "version_minor": 0,
       "model_id": "92e03fc4940a42eca717ed6649afff1e"
      }
     },
     "metadata": {},
     "output_type": "display_data"
    },
    {
     "data": {
      "text/plain": "  0%|          | 0/25 [00:00<?, ?it/s]",
      "application/vnd.jupyter.widget-view+json": {
       "version_major": 2,
       "version_minor": 0,
       "model_id": "e29063a9ccaa4a648563c9785bb761a6"
      }
     },
     "metadata": {},
     "output_type": "display_data"
    },
    {
     "data": {
      "text/plain": "  0%|          | 0/25 [00:00<?, ?it/s]",
      "application/vnd.jupyter.widget-view+json": {
       "version_major": 2,
       "version_minor": 0,
       "model_id": "6c5bf112a40546b3b7f3e1a1f806e2b6"
      }
     },
     "metadata": {},
     "output_type": "display_data"
    },
    {
     "data": {
      "text/plain": "  0%|          | 0/25 [00:00<?, ?it/s]",
      "application/vnd.jupyter.widget-view+json": {
       "version_major": 2,
       "version_minor": 0,
       "model_id": "5f96ad42381a407f88ad8036ebadb461"
      }
     },
     "metadata": {},
     "output_type": "display_data"
    },
    {
     "data": {
      "text/plain": "  0%|          | 0/25 [00:00<?, ?it/s]",
      "application/vnd.jupyter.widget-view+json": {
       "version_major": 2,
       "version_minor": 0,
       "model_id": "2fd402841eb3435cbe966814e14842bb"
      }
     },
     "metadata": {},
     "output_type": "display_data"
    }
   ],
   "source": [
    "time_gpu_cubature_std_seq, sd_gpu_cubature_std_seq= func(runtime_get_ell_std_cubature_seq, Ts, Data, n_run, sqrt=False, mth='cubature-std-seq')\n",
    "np.savez(\"outputs/ell-runtime-output/TIME-GPU-cubature-std-seq\",\n",
    "          time_gpu_cubature_std_seq = time_gpu_cubature_std_seq)\n",
    "np.savez(\"outputs/ell-runtime-output/sdR11-GPU-cubature-std-seq\",\n",
    "          sd_gpu_cubature_std_seq = sd_gpu_cubature_std_seq)"
   ],
   "metadata": {
    "collapsed": false,
    "pycharm": {
     "name": "#%%\n"
    }
   }
  },
  {
   "cell_type": "code",
   "execution_count": null,
   "outputs": [
    {
     "data": {
      "text/plain": "  0%|          | 0/13 [00:00<?, ?it/s]",
      "application/vnd.jupyter.widget-view+json": {
       "version_major": 2,
       "version_minor": 0,
       "model_id": "0061d49eacea44b6a6ae7ad5d9bc90f3"
      }
     },
     "metadata": {},
     "output_type": "display_data"
    },
    {
     "data": {
      "text/plain": "  0%|          | 0/25 [00:00<?, ?it/s]",
      "application/vnd.jupyter.widget-view+json": {
       "version_major": 2,
       "version_minor": 0,
       "model_id": "7355d4b927ed45fa95ac08b20d357fa6"
      }
     },
     "metadata": {},
     "output_type": "display_data"
    },
    {
     "data": {
      "text/plain": "  0%|          | 0/25 [00:00<?, ?it/s]",
      "application/vnd.jupyter.widget-view+json": {
       "version_major": 2,
       "version_minor": 0,
       "model_id": "97a5e4bc7d2a4ff2b2476b008b414dd8"
      }
     },
     "metadata": {},
     "output_type": "display_data"
    },
    {
     "data": {
      "text/plain": "  0%|          | 0/25 [00:00<?, ?it/s]",
      "application/vnd.jupyter.widget-view+json": {
       "version_major": 2,
       "version_minor": 0,
       "model_id": "3506dbcb5f0740ccab876f1ee896d6dc"
      }
     },
     "metadata": {},
     "output_type": "display_data"
    },
    {
     "data": {
      "text/plain": "  0%|          | 0/25 [00:00<?, ?it/s]",
      "application/vnd.jupyter.widget-view+json": {
       "version_major": 2,
       "version_minor": 0,
       "model_id": "c15d220ef0a540bea85499d4085f5ce5"
      }
     },
     "metadata": {},
     "output_type": "display_data"
    },
    {
     "data": {
      "text/plain": "  0%|          | 0/25 [00:00<?, ?it/s]",
      "application/vnd.jupyter.widget-view+json": {
       "version_major": 2,
       "version_minor": 0,
       "model_id": "e6c062b9a7c74021ae2162c69601c227"
      }
     },
     "metadata": {},
     "output_type": "display_data"
    },
    {
     "data": {
      "text/plain": "  0%|          | 0/25 [00:00<?, ?it/s]",
      "application/vnd.jupyter.widget-view+json": {
       "version_major": 2,
       "version_minor": 0,
       "model_id": "4a2d91831be946789d6c50ed04e991d3"
      }
     },
     "metadata": {},
     "output_type": "display_data"
    },
    {
     "data": {
      "text/plain": "  0%|          | 0/25 [00:00<?, ?it/s]",
      "application/vnd.jupyter.widget-view+json": {
       "version_major": 2,
       "version_minor": 0,
       "model_id": "79a9507ea5f44afc9b85d14bc0754b65"
      }
     },
     "metadata": {},
     "output_type": "display_data"
    },
    {
     "data": {
      "text/plain": "  0%|          | 0/25 [00:00<?, ?it/s]",
      "application/vnd.jupyter.widget-view+json": {
       "version_major": 2,
       "version_minor": 0,
       "model_id": "a4b51758850b4ef3ba2a20a5f010c9f6"
      }
     },
     "metadata": {},
     "output_type": "display_data"
    },
    {
     "data": {
      "text/plain": "  0%|          | 0/25 [00:00<?, ?it/s]",
      "application/vnd.jupyter.widget-view+json": {
       "version_major": 2,
       "version_minor": 0,
       "model_id": "4e6c2479658843a184e8d3ee6be4e894"
      }
     },
     "metadata": {},
     "output_type": "display_data"
    },
    {
     "data": {
      "text/plain": "  0%|          | 0/25 [00:00<?, ?it/s]",
      "application/vnd.jupyter.widget-view+json": {
       "version_major": 2,
       "version_minor": 0,
       "model_id": "378d5adb76224ccaafbdc4703b1fb5d0"
      }
     },
     "metadata": {},
     "output_type": "display_data"
    },
    {
     "data": {
      "text/plain": "  0%|          | 0/25 [00:00<?, ?it/s]",
      "application/vnd.jupyter.widget-view+json": {
       "version_major": 2,
       "version_minor": 0,
       "model_id": "0179e7c4c67a47fa80ee592f3317bbdb"
      }
     },
     "metadata": {},
     "output_type": "display_data"
    },
    {
     "data": {
      "text/plain": "  0%|          | 0/25 [00:00<?, ?it/s]",
      "application/vnd.jupyter.widget-view+json": {
       "version_major": 2,
       "version_minor": 0,
       "model_id": "15bcfde967ad45a6993273bed27e055c"
      }
     },
     "metadata": {},
     "output_type": "display_data"
    },
    {
     "data": {
      "text/plain": "  0%|          | 0/25 [00:00<?, ?it/s]",
      "application/vnd.jupyter.widget-view+json": {
       "version_major": 2,
       "version_minor": 0,
       "model_id": "2d41537e5f454d3a99efd75b51c0af86"
      }
     },
     "metadata": {},
     "output_type": "display_data"
    }
   ],
   "source": [
    "time_gpu_unscented_std_seq, sd_gpu_unscented_std_seq= func(runtime_get_ell_std_unscented_seq, Ts, Data, n_run, sqrt=False, mth='unscented-std-seq')\n",
    "np.savez(\"outputs/ell-runtime-output/TIME-GPU-unscented-std-seq\",\n",
    "          time_gpu_unscented_std_seq = time_gpu_unscented_std_seq)\n",
    "np.savez(\"outputs/ell-runtime-output/sdR11-GPU-unscented-std-seq\",\n",
    "          sd_gpu_unscented_std_seq = sd_gpu_unscented_std_seq)"
   ],
   "metadata": {
    "collapsed": false,
    "pycharm": {
     "name": "#%%\n",
     "is_executing": true
    }
   }
  },
  {
   "cell_type": "code",
   "execution_count": null,
   "outputs": [],
   "source": [
    "time_gpu_gh_std_seq, sd_gpu_gh_std_seq= func(runtime_get_ell_std_gh_seq, Ts, Data, n_run, sqrt=False, mth='gh-std-seq')\n",
    "np.savez(\"outputs/ell-runtime-output/TIME-GPU-gh-std-seq\",\n",
    "          time_gpu_gh_std_seq = time_gpu_gh_std_seq)\n",
    "np.savez(\"outputs/ell-runtime-output/sdR11-GPU-gh-std-seq\",\n",
    "          sd_gpu_gh_std_seq = sd_gpu_gh_std_seq)"
   ],
   "metadata": {
    "collapsed": false,
    "pycharm": {
     "name": "#%%\n",
     "is_executing": true
    }
   }
  },
  {
   "cell_type": "code",
   "execution_count": null,
   "outputs": [],
   "source": [
    "# mth='extended-std-seq'\n",
    "# time_gpu_extended_std_seq = []\n",
    "# sd_gpu_extended_std_seq = []\n",
    "# for t in range(len(Ts)):\n",
    "#     with np.load(\"outputs/ell-runtime-output/TIME-GPU-\"+mth+\"-\"+str(t)+\".npz\") as loaded:\n",
    "#         time_gpu_extended_std_seq.append(loaded[\"time\"])\n",
    "#     with np.load(\"outputs/ell-runtime-output/sdR11-GPU-\"+mth+\"-\"+str(t)+\".npz\") as loaded:\n",
    "#         sd_gpu_extended_std_seq.append(loaded[\"sdR11\"])\n",
    "#\n",
    "# np.savez(\"outputs/ell-runtime-output/TIME-GPU-extended-std-seq\",\n",
    "#           time_gpu_extended_std_seq = time_gpu_extended_std_seq)\n",
    "# np.savez(\"outputs/ell-runtime-output/sdR11-GPU-extended-std-seq\",\n",
    "#           sd_gpu_extended_std_seq = sd_gpu_extended_std_seq)"
   ],
   "metadata": {
    "collapsed": false,
    "pycharm": {
     "name": "#%%\n"
    }
   }
  },
  {
   "cell_type": "code",
   "execution_count": null,
   "outputs": [],
   "source": [
    "with np.load(\"outputs/ell-runtime-output/TIME-GPU-extended-std-par.npz\") as loaded:\n",
    "    time_extended_par=np.mean(loaded[\"time_gpu_extended_std_par\"],axis=1)\n",
    "\n",
    "with np.load(\"outputs/ell-runtime-output/TIME-GPU-extended-std-seq.npz\") as loaded:\n",
    "    time_extended_seq=np.mean(loaded[\"time_gpu_extended_std_seq\"],axis=1)\n",
    "\n",
    "with np.load(\"outputs/ell-runtime-output/TIME-GPU-cubature-std-par.npz\") as loaded:\n",
    "    time_cubature_par=np.mean(loaded[\"time_gpu_cubature_std_par\"],axis=1)\n",
    "\n",
    "with np.load(\"outputs/ell-runtime-output/TIME-GPU-cubature-std-seq.npz\") as loaded:\n",
    "    time_cubature_seq=np.mean(loaded[\"time_gpu_cubature_std_seq\"],axis=1)\n",
    "\n",
    "with np.load(\"outputs/ell-runtime-output/TIME-GPU-unscented-std-par.npz\") as loaded:\n",
    "    time_unscented_par=np.mean(loaded[\"time_gpu_unscented_std_par\"],axis=1)\n",
    "\n",
    "with np.load(\"outputs/ell-runtime-output/TIME-GPU-unscented-std-seq.npz\") as loaded:\n",
    "    time_unscented_seq=np.mean(loaded[\"time_gpu_unscented_std_seq\"],axis=1)\n",
    "\n",
    "with np.load(\"outputs/ell-runtime-output/TIME-GPU-gh-std-par.npz\") as loaded:\n",
    "    time_gh_par=np.mean(loaded[\"time_gpu_gh_std_par\"],axis=1)\n",
    "\n",
    "with np.load(\"outputs/ell-runtime-output/TIME-GPU-gh-std-seq.npz\") as loaded:\n",
    "    time_gh_seq=np.mean(loaded[\"time_gpu_gh_std_seq\"],axis=1)"
   ],
   "metadata": {
    "collapsed": false,
    "pycharm": {
     "name": "#%%\n"
    }
   }
  },
  {
   "cell_type": "code",
   "execution_count": null,
   "outputs": [],
   "source": [
    "plt.figure(figsize=(20,8))\n",
    "plt.loglog(np.array(Ts), time_extended_par, \"*--\", label = \"par-extended\")\n",
    "plt.loglog(np.array(Ts), time_extended_seq, \"o--\", label = \"seq-extended\")\n",
    "plt.loglog(np.array(Ts), time_cubature_par, \"*--\", label = \"par-cubature\")\n",
    "plt.loglog(np.array(Ts), time_cubature_seq, \"o--\", label = \"seq-cubature\")\n",
    "plt.loglog(np.array(Ts), time_unscented_par, \"*--\", label = \"par-unscented\")\n",
    "plt.loglog(np.array(Ts), time_unscented_seq, \"o--\", label = \"seq-unscented\")\n",
    "plt.loglog(np.array(Ts), time_gh_par, \"*--\", label = \"par-GaussHermite\")\n",
    "plt.loglog(np.array(Ts), time_gh_seq, \"o--\", label = \"seq-GaussHermite\")\n",
    "plt.title(\"GPU runtime of estimating the standard deviation of the first sensor\")\n",
    "plt.xlabel(\"number of data points\")\n",
    "plt.ylabel(\"GPU runtime (seconds)\")\n",
    "plt.grid()\n",
    "plt.legend();"
   ],
   "metadata": {
    "collapsed": false,
    "pycharm": {
     "name": "#%%\n"
    }
   }
  },
  {
   "cell_type": "code",
   "execution_count": null,
   "outputs": [],
   "source": [
    "# plt.figure(figsize=(20,8))\n",
    "# plt.plot(np.array(Ts)[[0,1,8,10,11]], time1[[0,1,8,10,11]], \"*--\", label = \"par\")\n",
    "# plt.plot(np.array(Ts)[[0,1,8,10,11]], time2[[0,1,8,10,11]], \"o--\", label = \"seq\")\n",
    "# plt.grid()\n",
    "# plt.legend();"
   ],
   "metadata": {
    "collapsed": false,
    "pycharm": {
     "name": "#%%\n"
    }
   }
  },
  {
   "cell_type": "code",
   "execution_count": null,
   "outputs": [],
   "source": [
    "with np.load(\"outputs/ell-runtime-output/sdR11-GPU-extended-std-par.npz\") as loaded:\n",
    "    sdR11_1=loaded[\"sd_gpu_extended_std_par\"]\n",
    "\n",
    "rmse_extended_par = np.mean(np.abs(1/np.array(sdR11_1).squeeze()-r_true)**2,axis=1)**0.5\n",
    "\n",
    "with np.load(\"outputs/ell-runtime-output/sdR11-GPU-extended-std-seq.npz\") as loaded:\n",
    "    sdR11_2=loaded[\"sd_gpu_extended_std_seq\"]\n",
    "\n",
    "rmse_extended_seq = np.mean(np.abs(1/np.array(sdR11_2).squeeze()-r_true)**2,axis=1)**0.5\n",
    "\n",
    "with np.load(\"outputs/ell-runtime-output/sdR11-GPU-cubature-std-seq.npz\") as loaded:\n",
    "    sdR11_6=loaded[\"sd_gpu_cubature_std_seq\"]\n",
    "\n",
    "rmse_cubature_seq = np.mean(np.abs(1/np.array(sdR11_6).squeeze()-r_true)**2,axis=1)**0.5\n",
    "\n",
    "with np.load(\"outputs/ell-runtime-output/sdR11-GPU-cubature-std-par.npz\") as loaded:\n",
    "    sdR11_3=loaded[\"sd_gpu_cubature_std_par\"]\n",
    "\n",
    "rmse_cubature_par = np.mean(np.abs(1/np.array(sdR11_3).squeeze()-r_true)**2,axis=1)**0.5\n",
    "\n",
    "with np.load(\"outputs/ell-runtime-output/sdR11-GPU-unscented-std-par.npz\") as loaded:\n",
    "    sdR11_4=loaded[\"sd_gpu_unscented_std_par\"]\n",
    "\n",
    "rmse_unscented_par = np.mean(np.abs(1/np.array(sdR11_4).squeeze()-r_true)**2,axis=1)**0.5\n",
    "\n",
    "with np.load(\"outputs/ell-runtime-output/sdR11-GPU-gh-std-par.npz\") as loaded:\n",
    "    sdR11_5=loaded[\"sd_gpu_gh_std_par\"]\n",
    "\n",
    "rmse_gh_par = np.mean(np.abs(1/np.array(sdR11_5).squeeze()-r_true)**2,axis=1)**0.5"
   ],
   "metadata": {
    "collapsed": false,
    "pycharm": {
     "name": "#%%\n"
    }
   }
  },
  {
   "cell_type": "code",
   "execution_count": null,
   "outputs": [],
   "source": [
    "plt.figure(figsize=(20,8))\n",
    "plt.plot(np.array(Ts), rmse_extended_par, \"*--\", label = \"par-extended\")\n",
    "plt.plot(np.array(Ts), rmse_cubature_par, \"o--\", label = \"par-cubature\")\n",
    "plt.plot(np.array(Ts), rmse_unscented_par, \"o--\", label = \"par-unscented\")\n",
    "plt.plot(np.array(Ts), rmse_gh_par, \"o--\", label = \"par-Gauss-Hermite\")\n",
    "plt.title(\"RMSE of the standard deviation of the first sensor\")\n",
    "plt.xlabel(\"number of data points\")\n",
    "plt.ylabel(\"RMSE\")\n",
    "plt.grid()\n",
    "plt.legend();"
   ],
   "metadata": {
    "collapsed": false,
    "pycharm": {
     "name": "#%%\n"
    }
   }
  },
  {
   "cell_type": "code",
   "execution_count": null,
   "outputs": [],
   "source": [
    "data_csv_time = np.stack([Ts,\n",
    "                 time_extended_par,\n",
    "                 time_extended_seq,\n",
    "                 time_cubature_par,\n",
    "                 time_cubature_seq,\n",
    "                 time_gh_par,\n",
    "                 time_gh_seq],\n",
    "                axis=1)\n",
    "\n",
    "columns = [\"time_steps\",\n",
    "           \"time_extended_par\",\n",
    "           \"time_extended_seq\",\n",
    "           \"time_cubature_par\",\n",
    "           \"time_cubature_seq\",\n",
    "           \"time_gh_par\",\n",
    "           \"time_gh_seq\"]\n",
    "\n",
    "df = pd.DataFrame(data=data_csv_time, columns=columns)\n",
    "df.to_csv(\"outputs/ell-runtime-output/GPU_sdR11_runtime.csv\")"
   ],
   "metadata": {
    "collapsed": false,
    "pycharm": {
     "name": "#%%\n"
    }
   }
  },
  {
   "cell_type": "code",
   "execution_count": null,
   "outputs": [],
   "source": [
    "data_csv_sdR11 = np.stack([Ts,\n",
    "                 rmse_extended_par,\n",
    "                 rmse_cubature_par,\n",
    "                 rmse_unscented_par,\n",
    "                 rmse_gh_par],\n",
    "                axis=1)\n",
    "\n",
    "columns_sdR11 = [\"time_steps\",\n",
    "           \"rmse_extended_par\",\n",
    "           \"rmse_cubature_par\",\n",
    "           \"rmse_unscented_par\",\n",
    "           \"rmse_gh_par\"]\n",
    "\n",
    "df_rmse = pd.DataFrame(data=data_csv_sdR11, columns=columns_sdR11)\n",
    "# df_rmse.to_csv(\"outputs/ell-runtime-output/GPU_sdR11_rmse.csv\")"
   ],
   "metadata": {
    "collapsed": false,
    "pycharm": {
     "name": "#%%\n"
    }
   }
  }
 ],
 "metadata": {
  "kernelspec": {
   "display_name": "Python 3",
   "language": "python",
   "name": "python3"
  },
  "language_info": {
   "codemirror_mode": {
    "name": "ipython",
    "version": 3
   },
   "file_extension": ".py",
   "mimetype": "text/x-python",
   "name": "python",
   "nbconvert_exporter": "python",
   "pygments_lexer": "ipython3",
   "version": "3.8.8"
  }
 },
 "nbformat": 4,
 "nbformat_minor": 1
}