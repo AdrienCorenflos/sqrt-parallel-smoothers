{
 "cells": [
  {
   "cell_type": "code",
   "execution_count": 1,
   "metadata": {},
   "outputs": [],
   "source": [
    "import sys\n",
    "sys.path.append('..//')\n",
    "\n",
    "import jax\n",
    "import numpy as np\n",
    "import jax.numpy as jnp\n",
    "import scipy\n",
    "from functools import partial\n",
    "from jax.test_util import check_grads\n",
    "from scipy.optimize import fmin_bfgs\n",
    "from scipy.optimize import fmin\n",
    "from scipy.optimize import minimize\n",
    "import matplotlib.pyplot as plt\n",
    "\n",
    "jax.config.update(\"jax_enable_x64\", True)\n",
    "\n",
    "from parsmooth._base import MVNStandard, FunctionalModel, MVNSqrt\n",
    "from parsmooth.linearization import cubature, extended, gauss_hermite\n",
    "from parsmooth.methods import iterated_smoothing\n",
    "from bearings_utils import make_parameters\n",
    "from bearing_data import get_data, inverse_bearings\n"
   ]
  },
  {
   "cell_type": "code",
   "execution_count": 2,
   "metadata": {
    "scrolled": true
   },
   "outputs": [
    {
     "name": "stderr",
     "output_type": "stream",
     "text": [
      "WARNING:absl:No GPU/TPU found, falling back to CPU. (Set TF_CPP_MIN_LOG_LEVEL=0 and rerun for more info.)\n"
     ]
    }
   ],
   "source": [
    "linearization_method = extended\n",
    "\n",
    "s1 = jnp.array([-1., 0.5])  # First sensor location\n",
    "s2 = jnp.array([1., 1.])  # Second sensor location\n",
    "x0 = jnp.array([0.1, 0.2, 1, 0])  # initial true location\n",
    "dt = 0.01  # discretization time step\n",
    "qc = 0.1  # discretization noise\n",
    "qw = 0.1  # discretization noise\n",
    "\n",
    "r_true = 0.05\n",
    "\n",
    "T = 50\n",
    "_, true_states, ys = get_data(x0, dt, r_true, T, s1, s2)\n",
    "Q, _, observation_function, transition_function = make_parameters(qc, qw, r_true, dt, s1, s2)\n",
    "\n",
    "chol_Q = jnp.linalg.cholesky(Q)\n",
    "# chol_R = jnp.linalg.cholesky(R)\n",
    "\n",
    "m0 = jnp.array([2., 0, 0, 0, 0])\n",
    "P0 = jnp.diag(jnp.array([0.5**2, 0.5**2, 0.5**2, 0.5**2, 1.]))\n",
    "chol_P0 = scipy.linalg.cholesky(P0)\n",
    "\n",
    "init = MVNStandard(m0, P0)\n",
    "chol_init = MVNSqrt(m0, chol_P0)\n",
    "\n",
    "initial_states =  MVNStandard(jnp.repeat(jnp.array([[0.4, 0.15, 0.9, 1, 1]]),T + 1, axis=0),\n",
    "                                                     jnp.repeat(jnp.eye(5).reshape(1, 5, 5), T + 1, axis=0))\n",
    "initial_states_sqrt = MVNSqrt(jnp.repeat(jnp.array([[0.4, 0.15, 0.9, 1, 1]]),T + 1, axis=0),\n",
    "                              jnp.repeat(jnp.eye(5).reshape(1, 5, 5), T + 1, axis=0))\n",
    "\n",
    "\n",
    "sqrt_transition_model = FunctionalModel(transition_function, MVNSqrt(jnp.zeros((5,)), chol_Q))\n",
    "transition_model = FunctionalModel(transition_function, MVNStandard(jnp.zeros((5,)), Q))\n",
    "\n",
    "\n",
    "# true_states = true_states.astype(np.float64)"
   ]
  },
  {
   "cell_type": "code",
   "execution_count": 3,
   "metadata": {},
   "outputs": [],
   "source": [
    "#standard\n",
    "@jax.jit\n",
    "def get_ell_std(prec_r):\n",
    "    r = 1 / prec_r[0]\n",
    "    R = jnp.diag(jnp.array([r ** 2, 0.1 ** 2]))\n",
    "    observation_model = FunctionalModel(observation_function, MVNStandard(jnp.zeros((2,)), R))  \n",
    "    \n",
    "    _, ell = iterated_smoothing(ys, init, transition_model, observation_model,\n",
    "                                               linearization_method, initial_states, True,\n",
    "                                               criterion=lambda i, *_: i < 50,\n",
    "                                               return_loglikelihood = True)\n",
    "    return -ell\n",
    "\n",
    "grad_ell_std = jax.jit(jax.value_and_grad(get_ell_std))"
   ]
  },
  {
   "cell_type": "code",
   "execution_count": null,
   "metadata": {},
   "outputs": [],
   "source": [
    "gpu_get_ell_std = jit(get_ell_std, backend=\"gpu\")"
   ]
  },
  {
   "cell_type": "code",
   "execution_count": 8,
   "metadata": {},
   "outputs": [
    {
     "data": {
      "text/plain": [
       "      fun: array(6332.15304817)\n",
       " hess_inv: <1x1 LbfgsInvHessProduct with dtype=float64>\n",
       "      jac: array([1.81889024e+32])\n",
       "  message: 'ABNORMAL_TERMINATION_IN_LNSRCH'\n",
       "     nfev: 2\n",
       "      nit: 0\n",
       "     njev: 2\n",
       "   status: 2\n",
       "  success: False\n",
       "        x: array([10.])"
      ]
     },
     "execution_count": 8,
     "metadata": {},
     "output_type": "execute_result"
    }
   ],
   "source": [
    "def wrap_func_std(r):\n",
    "    loss, grad_val = gpu_get_ell_std(r)\n",
    "    return np.array(loss, dtype=np.float64), np.array(grad_val, dtype=np.float64)\n",
    "r0 = np.array([10.])\n",
    "minimize(wrap_func_std, r0, jac=True, method=\"L-BFGS-B\", bounds=[(0, 100)])"
   ]
  },
  {
   "cell_type": "code",
   "execution_count": 5,
   "metadata": {},
   "outputs": [],
   "source": [
    "#square-root\n",
    "@jax.jit\n",
    "def get_ell_sqrt(prec_r):\n",
    "    r = 1 / prec_r[0]\n",
    "    chol_R = jnp.diag(jnp.array([r, 0.1]))\n",
    "    observation_model_sqrt = FunctionalModel(observation_function, MVNSqrt(jnp.zeros((2,)), chol_R)) \n",
    "    \n",
    "    _, ell = iterated_smoothing(ys, chol_init, sqrt_transition_model, observation_model_sqrt,\n",
    "                                               linearization_method, initial_states_sqrt, True,\n",
    "                                               criterion=lambda i, *_: i < 50,\n",
    "                                               return_loglikelihood = True)\n",
    "    return -ell\n",
    "\n",
    "grad_ell_sqrt = jax.jit(jax.value_and_grad(get_ell_sqrt))\n"
   ]
  },
  {
   "cell_type": "code",
   "execution_count": null,
   "metadata": {},
   "outputs": [],
   "source": [
    "gpu_get_ell_sqrt = jit(get_ell_sqrt, backend=\"gpu\")"
   ]
  },
  {
   "cell_type": "code",
   "execution_count": 6,
   "metadata": {},
   "outputs": [
    {
     "data": {
      "text/plain": [
       "      fun: array(-90.18252045)\n",
       " hess_inv: <1x1 LbfgsInvHessProduct with dtype=float64>\n",
       "      jac: array([-1.54931878])\n",
       "  message: 'CONVERGENCE: REL_REDUCTION_OF_F_<=_FACTR*EPSMCH'\n",
       "     nfev: 4\n",
       "      nit: 2\n",
       "     njev: 4\n",
       "   status: 0\n",
       "  success: True\n",
       "        x: array([13.21008244])"
      ]
     },
     "execution_count": 6,
     "metadata": {},
     "output_type": "execute_result"
    }
   ],
   "source": [
    "def wrap_func_sqrt(r):\n",
    "    loss, grad_val = gpu_get_ell_sqrt(r)\n",
    "    return np.array(loss, dtype=np.float64), np.array(grad_val, dtype=np.float64)\n",
    "r0 = np.array([10.])\n",
    "minimize(wrap_func_sqrt, r0, jac=True, method=\"L-BFGS-B\", bounds=[(0, 100)])"
   ]
  },
  {
   "cell_type": "code",
   "execution_count": 7,
   "metadata": {},
   "outputs": [],
   "source": [
    "# jnp.savez(\"pe_ell_std_extended_T50\",\n",
    "#           ell_std_extended_T50 = np.array(jax.vmap(lambda r: get_ell_std(r))(np.linspace(10, 50)[:, None])))\n",
    "\n",
    "# jnp.savez(\"pe_ell_sqrt_extended_T50\",\n",
    "#           ell_sqrt_extended_T50 = np.array(jax.vmap(lambda r: get_ell_sqrt(r))(np.linspace(10, 50)[:, None])))\n",
    "\n",
    "jnp.savez(\"pe_ell_std_extended_T50_par\",\n",
    "          ell_std_extended_T50_par = np.array(jax.vmap(lambda r: get_ell_std(r))(np.linspace(10, 50)[:, None])))\n",
    "\n",
    "jnp.savez(\"pe_ell_sqrt_extended_T50_par\",\n",
    "          ell_sqrt_extended_T50_par = np.array(jax.vmap(lambda r: get_ell_sqrt(r))(np.linspace(10, 50)[:, None])))\n",
    "\n",
    "\n",
    "\n",
    "\n",
    "# jnp.savez(\"pe_ell_std_cubature_T50\",\n",
    "#           ell_std_cubature_T50 = np.array(jax.vmap(lambda r: get_ell_std(r))(np.linspace(10, 50)[:, None])))\n",
    "\n",
    "# jnp.savez(\"pe_ell_sqrt_cubature_T50\",\n",
    "#           ell_sqrt_cubature_T50 = np.array(jax.vmap(lambda r: get_ell_sqrt(r))(np.linspace(10, 50)[:, None])))"
   ]
  },
  {
   "cell_type": "code",
   "execution_count": 4,
   "metadata": {},
   "outputs": [
    {
     "data": {
      "text/plain": [
       "[<matplotlib.lines.Line2D at 0x7ff52d8b9be0>]"
      ]
     },
     "execution_count": 4,
     "metadata": {},
     "output_type": "execute_result"
    },
    {
     "data": {
      "image/png": "[encoded data removed]",
      "text/plain": [
       "<Figure size 432x288 with 1 Axes>"
      ]
     },
     "metadata": {
      "needs_background": "light"
     },
     "output_type": "display_data"
    }
   ],
   "source": [
    "# with np.load(\"pe_ell_std_extended_T50.npz\") as loaded:\n",
    "#     ell_std_extended_T50 = loaded[\"ell_std_extended_T50\"]\n",
    "    \n",
    "# with np.load(\"pe_ell_sqrt_extended_T50.npz\") as loaded:\n",
    "#     ell_sqrt_extended_T50 = loaded[\"ell_sqrt_extended_T50\"]\n",
    "\n",
    "with np.load(\"pe_ell_std_extended_T50_par.npz\") as loaded:\n",
    "    ell_std_extended_T50_par = loaded[\"ell_std_extended_T50_par\"]\n",
    "    \n",
    "with np.load(\"pe_ell_sqrt_extended_T50_par.npz\") as loaded:\n",
    "    ell_sqrt_extended_T50_par = loaded[\"ell_sqrt_extended_T50_par\"]\n",
    "\n",
    "# with np.load(\"pe_ell_std_cubature_T50.npz\") as loaded:\n",
    "#     ell_std_cubature_T50 = loaded[\"ell_std_cubature_T50\"]\n",
    "    \n",
    "# with np.load(\"pe_ell_sqrt_cubature_T50.npz\") as loaded:\n",
    "#     ell_sqrt_cubature_T50 = loaded[\"ell_sqrt_cubature_T50\"]\n",
    "\n",
    "# plt.plot(np.linspace(10, 50), ell_std_extended_T50)\n",
    "# plt.plot(np.linspace(10, 50), ell_sqrt_extended_T50)"
   ]
  },
  {
   "cell_type": "code",
   "execution_count": null,
   "metadata": {},
   "outputs": [],
   "source": []
  },
  {
   "cell_type": "code",
   "execution_count": 10,
   "metadata": {},
   "outputs": [
    {
     "data": {
      "text/plain": [
       "[<matplotlib.lines.Line2D at 0x7fe457f91e20>]"
      ]
     },
     "execution_count": 10,
     "metadata": {},
     "output_type": "execute_result"
    },
    {
     "data": {
      "image/png": "[encoded data removed]",
      "text/plain": [
       "<Figure size 432x288 with 1 Axes>"
      ]
     },
     "metadata": {
      "needs_background": "light"
     },
     "output_type": "display_data"
    }
   ],
   "source": [
    "plt.plot(np.linspace(10, 50), \n",
    "         np.array(jax.vmap(lambda r: get_ell_std(r))(np.linspace(10, 50)[:, None])))\n",
    "plt.plot(np.linspace(10, 50), \n",
    "         np.array(jax.vmap(lambda r: get_ell_sqrt(r))(np.linspace(10, 50)[:, None])))"
   ]
  },
  {
   "cell_type": "code",
   "execution_count": 14,
   "metadata": {},
   "outputs": [
    {
     "data": {
      "text/plain": [
       "[<matplotlib.lines.Line2D at 0x7fe45eaaf070>]"
      ]
     },
     "execution_count": 14,
     "metadata": {},
     "output_type": "execute_result"
    },
    {
     "data": {
      "image/png": "[encoded data removed]",
      "text/plain": [
       "<Figure size 432x288 with 1 Axes>"
      ]
     },
     "metadata": {
      "needs_background": "light"
     },
     "output_type": "display_data"
    }
   ],
   "source": [
    "# plt.plot(np.linspace(10, 50), \n",
    "#          np.array(jax.vmap(lambda r: grad_ell_std(r))(np.linspace(10, 50)[:, None])[1]))\n",
    "plt.plot(np.linspace(11, 14), \n",
    "         np.array(jax.vmap(lambda r: grad_ell_sqrt(r))(np.linspace(11, 14)[:, None])[1]))"
   ]
  },
  {
   "cell_type": "code",
   "execution_count": null,
   "metadata": {},
   "outputs": [],
   "source": []
  }
 ],
 "metadata": {
  "kernelspec": {
   "display_name": "Python 3",
   "language": "python",
   "name": "python3"
  },
  "language_info": {
   "codemirror_mode": {
    "name": "ipython",
    "version": 3
   },
   "file_extension": ".py",
   "mimetype": "text/x-python",
   "name": "python",
   "nbconvert_exporter": "python",
   "pygments_lexer": "ipython3",
   "version": "3.8.8"
  }
 },
 "nbformat": 4,
 "nbformat_minor": 1
}
