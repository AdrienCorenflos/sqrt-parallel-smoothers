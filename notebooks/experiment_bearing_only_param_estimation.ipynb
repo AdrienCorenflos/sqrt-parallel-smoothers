{
 "cells": [
  {
   "cell_type": "code",
   "execution_count": 1,
   "metadata": {
    "pycharm": {
     "name": "#%%\n"
    }
   },
   "outputs": [],
   "source": [
    "import sys\n",
    "sys.path.append('..//')\n",
    "\n",
    "import jax\n",
    "import numpy as np\n",
    "import jax.numpy as jnp\n",
    "import scipy\n",
    "from scipy.optimize import minimize\n",
    "import matplotlib.pyplot as plt\n",
    "import pandas as pd\n",
    "\n",
    "jax.config.update(\"jax_enable_x64\", True)\n",
    "\n",
    "from parsmooth._base import MVNStandard, FunctionalModel, MVNSqrt\n",
    "from parsmooth.linearization import extended, cubature, unscented, gauss_hermite\n",
    "from parsmooth.methods import iterated_smoothing\n",
    "from bearing_data_pe import get_data, make_parameters, inverse_bearings\n"
   ]
  },
  {
   "cell_type": "code",
   "execution_count": 2,
   "metadata": {
    "scrolled": true,
    "pycharm": {
     "name": "#%%\n"
    }
   },
   "outputs": [],
   "source": [
    "s1 = jnp.array([-1., 0.5])  # First sensor location\n",
    "s2 = jnp.array([1., 1.])  # Second sensor location\n",
    "x0 = jnp.array([0.1, 0.2, 1, 0])  # initial true location\n",
    "dt = 0.01  # discretization time step\n",
    "qc = 0.1  # discretization noise\n",
    "qw = 0.1  # discretization noise\n",
    "\n",
    "r_true = 0.05\n",
    "T = 50\n",
    "_, true_states, ys = get_data(x0, dt, r_true, T, s1, s2)\n",
    "Q, _, observation_function, transition_function = make_parameters(qc, qw, r_true, dt, s1, s2)\n",
    "\n",
    "chol_Q = jnp.linalg.cholesky(Q)\n",
    "\n",
    "m0 = jnp.array([2., 0, 0, 0, 0])\n",
    "P0 = jnp.diag(jnp.array([0.5**2, 0.5**2, 0.5**2, 0.5**2, 1.]))\n",
    "chol_P0 = scipy.linalg.cholesky(P0)\n",
    "\n",
    "init = MVNStandard(m0, P0)\n",
    "chol_init = MVNSqrt(m0, chol_P0)\n",
    "\n",
    "\n",
    "positions = inverse_bearings(ys, s1, s2)\n",
    "states = jnp.concatenate([jnp.concatenate([jnp.zeros((1,2)), positions], axis = 0), \n",
    "                          jnp.zeros((T+1,3))], axis = 1)\n",
    "\n",
    "initial_states =  MVNStandard(states,0.1*jnp.repeat(jnp.eye(5).reshape(1, 5, 5), T + 1, axis=0))\n",
    "initial_states_sqrt = MVNSqrt(states,jnp.sqrt(0.1)*jnp.repeat(jnp.eye(5).reshape(1, 5, 5), T + 1, axis=0))\n",
    "\n",
    "\n",
    "sqrt_transition_model = FunctionalModel(transition_function, MVNSqrt(jnp.zeros((5,)), chol_Q))\n",
    "transition_model = FunctionalModel(transition_function, MVNStandard(jnp.zeros((5,)), Q))\n"
   ]
  },
  {
   "cell_type": "code",
   "execution_count": 3,
   "metadata": {
    "pycharm": {
     "name": "#%%\n"
    }
   },
   "outputs": [],
   "source": [
    "#standard\n",
    "@jax.jit\n",
    "def get_ell_std_extended(prec_r):\n",
    "    r = 1 / prec_r[0]\n",
    "    R = jnp.diag(jnp.array([r ** 2, 0.1 ** 2]))\n",
    "    observation_model = FunctionalModel(observation_function, MVNStandard(jnp.zeros((2,)), R))  \n",
    "    \n",
    "    _, ell = iterated_smoothing(ys, init, transition_model, observation_model,\n",
    "                                               extended, initial_states, True,\n",
    "                                               criterion=lambda i, *_: i < 50,\n",
    "                                               return_loglikelihood = True)\n",
    "    return -ell\n",
    "\n",
    "def get_ell_std_cubature(prec_r):\n",
    "    r = 1 / prec_r[0]\n",
    "    R = jnp.diag(jnp.array([r ** 2, 0.1 ** 2]))\n",
    "    observation_model = FunctionalModel(observation_function, MVNStandard(jnp.zeros((2,)), R))\n",
    "\n",
    "    _, ell = iterated_smoothing(ys, init, transition_model, observation_model,\n",
    "                                               cubature, initial_states, True,\n",
    "                                               criterion=lambda i, *_: i < 50,\n",
    "                                               return_loglikelihood = True)\n",
    "    return -ell\n",
    "\n",
    "def get_ell_std_unscented(prec_r):\n",
    "    r = 1 / prec_r[0]\n",
    "    R = jnp.diag(jnp.array([r ** 2, 0.1 ** 2]))\n",
    "    observation_model = FunctionalModel(observation_function, MVNStandard(jnp.zeros((2,)), R))\n",
    "\n",
    "    _, ell = iterated_smoothing(ys, init, transition_model, observation_model,\n",
    "                                               unscented, initial_states, True,\n",
    "                                               criterion=lambda i, *_: i < 50,\n",
    "                                               return_loglikelihood = True)\n",
    "    return -ell\n",
    "\n",
    "def get_ell_std_gh(prec_r):\n",
    "    r = 1 / prec_r[0]\n",
    "    R = jnp.diag(jnp.array([r ** 2, 0.1 ** 2]))\n",
    "    observation_model = FunctionalModel(observation_function, MVNStandard(jnp.zeros((2,)), R))\n",
    "\n",
    "    _, ell = iterated_smoothing(ys, init, transition_model, observation_model,\n",
    "                                               gauss_hermite, initial_states, True,\n",
    "                                               criterion=lambda i, *_: i < 50,\n",
    "                                               return_loglikelihood = True)\n",
    "    return -ell\n",
    "\n",
    "grad_ell_std_extended = jax.jit(jax.value_and_grad(get_ell_std_extended))\n",
    "grad_ell_std_cubature= jax.jit(jax.value_and_grad(get_ell_std_cubature))\n",
    "grad_ell_std_unscented = jax.jit(jax.value_and_grad(get_ell_std_unscented))\n",
    "grad_ell_std_gh = jax.jit(jax.value_and_grad(get_ell_std_gh))"
   ]
  },
  {
   "cell_type": "code",
   "execution_count": 4,
   "metadata": {
    "pycharm": {
     "name": "#%%\n"
    }
   },
   "outputs": [],
   "source": [
    "gpu_grad_ell_std_extended = jax.jit(grad_ell_std_extended, backend=\"gpu\")\n",
    "gpu_grad_ell_std_cubature = jax.jit(grad_ell_std_cubature, backend=\"gpu\")\n",
    "gpu_grad_ell_std_unscented = jax.jit(grad_ell_std_unscented, backend=\"gpu\")\n",
    "gpu_grad_ell_std_gh = jax.jit(grad_ell_std_gh, backend=\"gpu\")\n"
   ]
  },
  {
   "cell_type": "code",
   "execution_count": 5,
   "outputs": [],
   "source": [
    "def wrap_func_std_extended(r):\n",
    "    loss, grad_val = gpu_grad_ell_std_extended(r)\n",
    "    return np.array(loss, dtype=np.float64), np.array(grad_val, dtype=np.float64)\n",
    "\n",
    "def wrap_func_std_cubature(r):\n",
    "    loss, grad_val = gpu_grad_ell_std_cubature(r)\n",
    "    return np.array(loss, dtype=np.float64), np.array(grad_val, dtype=np.float64)\n",
    "\n",
    "def wrap_func_std_unscented(r):\n",
    "    loss, grad_val = gpu_grad_ell_std_unscented(r)\n",
    "    return np.array(loss, dtype=np.float64), np.array(grad_val, dtype=np.float64)\n",
    "\n",
    "def wrap_func_std_gh(r):\n",
    "    loss, grad_val = gpu_grad_ell_std_gh(r)\n",
    "    return np.array(loss, dtype=np.float64), np.array(grad_val, dtype=np.float64)\n"
   ],
   "metadata": {
    "collapsed": false,
    "pycharm": {
     "name": "#%%\n"
    }
   }
  },
  {
   "cell_type": "code",
   "execution_count": 6,
   "outputs": [
    {
     "name": "stderr",
     "output_type": "stream",
     "text": [
      "\n",
      "KeyboardInterrupt\n",
      "\n"
     ]
    }
   ],
   "source": [
    "r0 = np.array([10.])\n",
    "\n",
    "r_cubature = 1 / minimize(wrap_func_std_cubature, r0, jac=True, method=\"L-BFGS-B\", bounds=[(0, 100)]).x\n",
    "r_unscented =  1 / minimize(wrap_func_std_unscented, r0, jac=True, method=\"L-BFGS-B\", bounds=[(0, 100)]).x\n",
    "r_gh = 1 / minimize(wrap_func_std_gh, r0, jac=True, method=\"L-BFGS-B\", bounds=[(0, 100)]).x\n",
    "r_extended = 1 / minimize(wrap_func_std_extended, r0, jac=True, method=\"L-BFGS-B\", bounds=[(0, 100)]).x"
   ],
   "metadata": {
    "collapsed": false,
    "pycharm": {
     "name": "#%%\n"
    }
   }
  },
  {
   "cell_type": "code",
   "execution_count": null,
   "outputs": [],
   "source": [
    "print(\"r_extended\", r_extended)\n",
    "print(\"r_cubature\", r_cubature)\n",
    "print(\"r_unscented\", r_unscented)\n",
    "print(\"r_gauss_hermite\", r_gh)"
   ],
   "metadata": {
    "collapsed": false,
    "pycharm": {
     "name": "#%%\n"
    }
   }
  },
  {
   "cell_type": "code",
   "execution_count": null,
   "outputs": [],
   "source": [
    "# log-likelihood plot\n",
    "ell_extended =  np.array(jax.vmap(lambda r: get_ell_std_extended(r))(np.linspace(10, 50)[:, None]))\n",
    "ell_cubature =  np.array(jax.vmap(lambda r: get_ell_std_cubature(r))(np.linspace(10, 50)[:, None]))\n",
    "ell_unscented =  np.array(jax.vmap(lambda r: get_ell_std_unscented(r))(np.linspace(10, 50)[:, None]))\n",
    "ell_gh =  np.array(jax.vmap(lambda r: get_ell_std_gh(r))(np.linspace(10, 50)[:, None]))\n"
   ],
   "metadata": {
    "collapsed": false,
    "pycharm": {
     "name": "#%%\n"
    }
   }
  },
  {
   "cell_type": "code",
   "execution_count": null,
   "outputs": [],
   "source": [
    "plt.figure(figsize=(10,8))\n",
    "plt.plot(np.flip(1/np.linspace(10, 50)),np.flip(ell_extended),'r--')\n",
    "plt.plot(np.flip(1/np.linspace(10, 50)),np.flip(ell_cubature),'b')\n",
    "plt.plot(np.flip(1/np.linspace(10, 50)),np.flip(ell_unscented))\n",
    "plt.plot(np.flip(1/np.linspace(10, 50)),np.flip(ell_gh),'*')\n",
    "plt.grid()\n"
   ],
   "metadata": {
    "collapsed": false,
    "pycharm": {
     "name": "#%%\n"
    }
   }
  },
  {
   "cell_type": "code",
   "execution_count": null,
   "outputs": [],
   "source": [
    "grad_ell_std_extended_T50_par = np.array(jax.vmap(lambda r: grad_ell_std_extended(r))(np.linspace(10, 50)[:, None])[1])\n",
    "grad_ell_std_cubature_T50_par = np.array(jax.vmap(lambda r: grad_ell_std_cubature(r))(np.linspace(10, 50)[:, None])[1])\n",
    "grad_ell_std_unscented_T50_par = np.array(jax.vmap(lambda r: grad_ell_std_unscented(r))(np.linspace(10, 50)[:, None])[1])\n",
    "grad_ell_std_gh_T50_par = np.array(jax.vmap(lambda r: grad_ell_std_gh(r))(np.linspace(10, 50)[:, None])[1])"
   ],
   "metadata": {
    "collapsed": false,
    "pycharm": {
     "name": "#%%\n"
    }
   }
  },
  {
   "cell_type": "code",
   "execution_count": null,
   "outputs": [],
   "source": [
    "plt.figure(figsize=(10,8))\n",
    "plt.plot(np.flip(1/np.linspace(10, 50)),np.flip(grad_ell_std_extended_T50_par))\n",
    "plt.plot(np.flip(1/np.linspace(10, 50)),np.flip(grad_ell_std_cubature_T50_par))\n",
    "plt.plot(np.flip(1/np.linspace(10, 50)),np.flip(grad_ell_std_unscented_T50_par))\n",
    "plt.plot(np.flip(1/np.linspace(10, 50)),np.flip(grad_ell_std_gh_T50_par))\n",
    "plt.axhline(y = 0, color = 'r', linestyle = '--')\n",
    "plt.grid()\n",
    "\n"
   ],
   "metadata": {
    "collapsed": false,
    "pycharm": {
     "name": "#%%\n"
    }
   }
  },
  {
   "cell_type": "code",
   "execution_count": null,
   "outputs": [],
   "source": [],
   "metadata": {
    "collapsed": false,
    "pycharm": {
     "name": "#%%\n"
    }
   }
  },
  {
   "cell_type": "code",
   "execution_count": 3,
   "outputs": [],
   "source": [
    "#square-root\n",
    "@jax.jit\n",
    "def get_ell_sqrt_extended(prec_r):\n",
    "    r = 1 / prec_r[0]\n",
    "    chol_R = jnp.diag(jnp.array([r, 0.1]))\n",
    "    sqrt_observation_model = FunctionalModel(observation_function, MVNSqrt(jnp.zeros((2,)), chol_R))\n",
    "\n",
    "    _, ell = iterated_smoothing(ys, chol_init, sqrt_transition_model, sqrt_observation_model,\n",
    "                                               extended, initial_states_sqrt, True,\n",
    "                                               criterion=lambda i, *_: i < 50,\n",
    "                                               return_loglikelihood = True)\n",
    "    return -ell\n",
    "\n",
    "def get_ell_sqrt_cubature(prec_r):\n",
    "    r = 1 / prec_r[0]\n",
    "    chol_R = jnp.diag(jnp.array([r, 0.1]))\n",
    "    sqrt_observation_model = FunctionalModel(observation_function, MVNSqrt(jnp.zeros((2,)), chol_R))\n",
    "\n",
    "    _, ell = iterated_smoothing(ys, chol_init, sqrt_transition_model, sqrt_observation_model,\n",
    "                                               cubature, initial_states_sqrt, True,\n",
    "                                               criterion=lambda i, *_: i < 50,\n",
    "                                               return_loglikelihood = True)\n",
    "    return -ell\n",
    "\n",
    "def get_ell_sqrt_unscented(prec_r):\n",
    "    r = 1 / prec_r[0]\n",
    "    chol_R = jnp.diag(jnp.array([r, 0.1]))\n",
    "    sqrt_observation_model = FunctionalModel(observation_function, MVNSqrt(jnp.zeros((2,)), chol_R))\n",
    "\n",
    "    _, ell = iterated_smoothing(ys, chol_init, sqrt_transition_model, sqrt_observation_model,\n",
    "                                               unscented, initial_states_sqrt, True,\n",
    "                                               criterion=lambda i, *_: i < 50,\n",
    "                                               return_loglikelihood = True)\n",
    "    return -ell\n",
    "\n",
    "def get_ell_sqrt_gh(prec_r):\n",
    "    r = 1 / prec_r[0]\n",
    "    chol_R = jnp.diag(jnp.array([r, 0.1]))\n",
    "    sqrt_observation_model = FunctionalModel(observation_function, MVNSqrt(jnp.zeros((2,)), chol_R))\n",
    "\n",
    "    _, ell = iterated_smoothing(ys, chol_init, sqrt_transition_model, sqrt_observation_model,\n",
    "                                               gauss_hermite, initial_states_sqrt, True,\n",
    "                                               criterion=lambda i, *_: i < 50,\n",
    "                                               return_loglikelihood = True)\n",
    "    return -ell\n",
    "\n",
    "grad_ell_sqrt_extended = jax.jit(jax.value_and_grad(get_ell_sqrt_extended))\n",
    "grad_ell_sqrt_cubature= jax.jit(jax.value_and_grad(get_ell_sqrt_cubature))\n",
    "grad_ell_sqrt_unscented = jax.jit(jax.value_and_grad(get_ell_sqrt_unscented))\n",
    "grad_ell_sqrt_gh = jax.jit(jax.value_and_grad(get_ell_sqrt_gh))"
   ],
   "metadata": {
    "collapsed": false,
    "pycharm": {
     "name": "#%%\n"
    }
   }
  },
  {
   "cell_type": "code",
   "execution_count": 4,
   "metadata": {
    "pycharm": {
     "name": "#%%\n"
    }
   },
   "outputs": [],
   "source": [
    "gpu_grad_ell_sqrt_extended = jax.jit(grad_ell_sqrt_extended, backend=\"gpu\")\n",
    "gpu_grad_ell_sqrt_cubature = jax.jit(grad_ell_sqrt_cubature, backend=\"gpu\")\n",
    "gpu_grad_ell_sqrt_unscented = jax.jit(grad_ell_sqrt_unscented, backend=\"gpu\")\n",
    "gpu_grad_ell_sqrt_gh = jax.jit(grad_ell_sqrt_gh, backend=\"gpu\")"
   ]
  },
  {
   "cell_type": "code",
   "execution_count": 5,
   "metadata": {
    "pycharm": {
     "name": "#%%\n"
    }
   },
   "outputs": [],
   "source": [
    "def wrap_func_sqrt_extended(r):\n",
    "    loss, grad_val = gpu_grad_ell_sqrt_extended(r)\n",
    "    return np.array(loss, dtype=np.float64), np.array(grad_val, dtype=np.float64)\n",
    "\n",
    "def wrap_func_sqrt_cubature(r):\n",
    "    loss, grad_val = gpu_grad_ell_sqrt_cubature(r)\n",
    "    return np.array(loss, dtype=np.float64), np.array(grad_val, dtype=np.float64)\n",
    "\n",
    "def wrap_func_sqrt_unscented(r):\n",
    "    loss, grad_val = gpu_grad_ell_sqrt_unscented(r)\n",
    "    return np.array(loss, dtype=np.float64), np.array(grad_val, dtype=np.float64)\n",
    "\n",
    "def wrap_func_sqrt_gh(r):\n",
    "    loss, grad_val = gpu_grad_ell_sqrt_gh(r)\n",
    "    return np.array(loss, dtype=np.float64), np.array(grad_val, dtype=np.float64)\n"
   ]
  },
  {
   "cell_type": "code",
   "execution_count": 6,
   "outputs": [],
   "source": [
    "r0 = np.array([10.])\n",
    "r_extended_sqrt = 1 / minimize(wrap_func_sqrt_extended, r0, jac=True, method=\"L-BFGS-B\", bounds=[(0, 100)]).x\n",
    "r_cubature_sqrt = 1 / minimize(wrap_func_sqrt_cubature, r0, jac=True, method=\"L-BFGS-B\", bounds=[(0, 100)]).x\n",
    "r_unscented_sqrt =  1 / minimize(wrap_func_sqrt_unscented, r0, jac=True, method=\"L-BFGS-B\", bounds=[(0, 100)]).x\n",
    "r_gh_sqrt = 1 / minimize(wrap_func_sqrt_gh, r0, jac=True, method=\"L-BFGS-B\", bounds=[(0, 100)]).x\n"
   ],
   "metadata": {
    "collapsed": false,
    "pycharm": {
     "name": "#%%\n"
    }
   }
  },
  {
   "cell_type": "code",
   "execution_count": 7,
   "outputs": [
    {
     "name": "stdout",
     "output_type": "stream",
     "text": [
      "r_extended [0.04746554]\n"
     ]
    }
   ],
   "source": [
    "print(\"r_extended\", r_extended_sqrt)\n",
    "print(\"r_cubature\", r_cubature_sqrt)\n",
    "print(\"r_unscented\", r_unscented_sqrt)\n",
    "print(\"r_gauss_hermite\", r_gh_sqrt)"
   ],
   "metadata": {
    "collapsed": false,
    "pycharm": {
     "name": "#%%\n"
    }
   }
  },
  {
   "cell_type": "code",
   "execution_count": 8,
   "outputs": [],
   "source": [
    "# log-likelihood plot\n",
    "ell_extended_sqrt =  np.array(jax.vmap(lambda r: get_ell_sqrt_extended(r))(np.linspace(10, 50)[:, None]))\n",
    "ell_cubature_sqrt =  np.array(jax.vmap(lambda r: get_ell_sqrt_cubature(r))(np.linspace(10, 50)[:, None]))\n",
    "ell_unscented_sqrt =  np.array(jax.vmap(lambda r: get_ell_sqrt_unscented(r))(np.linspace(10, 50)[:, None]))\n",
    "ell_gh_sqrt =  np.array(jax.vmap(lambda r: get_ell_sqrt_gh(r))(np.linspace(10, 50)[:, None]))"
   ],
   "metadata": {
    "collapsed": false,
    "pycharm": {
     "name": "#%%\n"
    }
   }
  },
  {
   "cell_type": "code",
   "execution_count": 9,
   "outputs": [
    {
     "data": {
      "text/plain": "<Figure size 720x576 with 1 Axes>",
      "image/png": "[encoded data removed]"
     },
     "metadata": {
      "needs_background": "light"
     },
     "output_type": "display_data"
    }
   ],
   "source": [
    "plt.figure(figsize=(10,8))\n",
    "plt.plot(np.flip(1/np.linspace(10, 50)),np.flip(ell_extended_sqrt),'r--')\n",
    "plt.plot(np.flip(1/np.linspace(10, 50)),np.flip(ell_cubature_sqrt),'b')\n",
    "plt.plot(np.flip(1/np.linspace(10, 50)),np.flip(ell_unscented_sqrt))\n",
    "plt.plot(np.flip(1/np.linspace(10, 50)),np.flip(ell_gh_sqrt),'*')\n",
    "plt.grid()\n"
   ],
   "metadata": {
    "collapsed": false,
    "pycharm": {
     "name": "#%%\n"
    }
   }
  },
  {
   "cell_type": "code",
   "execution_count": 14,
   "outputs": [],
   "source": [
    "grad_ell_sqrt_extended_T50_par = np.array(jax.vmap(lambda r: grad_ell_sqrt_extended(r))(np.linspace(10, 50)[:, None])[1])\n",
    "grad_ell_sqrt_cubature_T50_par = np.array(jax.vmap(lambda r: grad_ell_sqrt_cubature(r))(np.linspace(10, 50)[:, None])[1])\n",
    "grad_ell_sqrt_unscented_T50_par = np.array(jax.vmap(lambda r: grad_ell_sqrt_unscented(r))(np.linspace(10, 50)[:, None])[1])\n",
    "grad_ell_sqrt_gh_T50_par = np.array(jax.vmap(lambda r: grad_ell_sqrt_gh(r))(np.linspace(10, 50)[:, None])[1])\n"
   ],
   "metadata": {
    "collapsed": false,
    "pycharm": {
     "name": "#%%\n"
    }
   }
  },
  {
   "cell_type": "code",
   "execution_count": 15,
   "outputs": [
    {
     "data": {
      "text/plain": "<Figure size 720x576 with 1 Axes>",
      "image/png": "[encoded data removed]"
     },
     "metadata": {
      "needs_background": "light"
     },
     "output_type": "display_data"
    }
   ],
   "source": [
    "plt.figure(figsize=(10,8))\n",
    "plt.plot(np.flip(1/np.linspace(10, 50)),np.flip(grad_ell_sqrt_extended_T50_par))\n",
    "plt.plot(np.flip(1/np.linspace(10, 50)),np.flip(grad_ell_sqrt_cubature_T50_par))\n",
    "plt.plot(np.flip(1/np.linspace(10, 50)),np.flip(grad_ell_sqrt_unscented_T50_par))\n",
    "plt.plot(np.flip(1/np.linspace(10, 50)),np.flip(grad_ell_sqrt_gh_T50_par))\n",
    "plt.axhline(y = 0, color = 'r', linestyle = '--')\n",
    "plt.grid()\n"
   ],
   "metadata": {
    "collapsed": false,
    "pycharm": {
     "name": "#%%\n"
    }
   }
  },
  {
   "cell_type": "raw",
   "metadata": {
    "pycharm": {
     "name": "#%% raw\n"
    }
   },
   "source": [
    "jnp.savez(\"pe_ell_std_extended_T50_par\",\n",
    "          ell_std_extended_T50_par = np.array(jax.vmap(lambda r: get_ell_std(r))(np.linspace(10, 50)[:, None])),\n",
    "          grad_ell_std_extended_T50_par = np.array(jax.vmap(lambda r: grad_ell_std(r))(np.linspace(10, 50)[:, None])[1]),\n",
    "          theta_par_std = 1 / minimize(wrap_func_std, r0, jac=True, method=\"L-BFGS-B\", bounds=[(0, 100)]).x)\n",
    "\n",
    "jnp.savez(\"pe_ell_sqrt_extended_T50_par\",\n",
    "          ell_sqrt_extended_T50_par = np.array(jax.vmap(lambda r: get_ell_sqrt(r))(np.linspace(10, 50)[:, None])),\n",
    "          grad_ell_sqrt_extended_T50_par = np.array(jax.vmap(lambda r: grad_ell_sqrt(r))(np.linspace(10, 50)[:, None])[1]),\n",
    "          theta_par_sqrt = 1 / minimize(wrap_func_sqrt, r0, jac=True, method=\"L-BFGS-B\", bounds=[(0, 100)]).x)\n",
    "\n"
   ]
  },
  {
   "cell_type": "code",
   "execution_count": null,
   "metadata": {
    "pycharm": {
     "name": "#%%\n"
    }
   },
   "outputs": [],
   "source": [
    "# with np.load(\"pe_ell_std_extended_T50_par.npz\") as loaded:\n",
    "#     ell_std_extended_T50_par = loaded[\"ell_std_extended_T50_par\"]\n",
    "#     grad_ell_std_extended_T50_par = loaded[\"grad_ell_std_extended_T50_par\"]\n",
    "#     theta_par_std = loaded[\"theta_par_std\"]\n",
    "#\n",
    "# with np.load(\"pe_ell_sqrt_extended_T50_par.npz\") as loaded:\n",
    "#     ell_sqrt_extended_T50_par = loaded[\"ell_sqrt_extended_T50_par\"]\n",
    "#     grad_ell_sqrt_extended_T50_par = loaded[\"grad_ell_sqrt_extended_T50_par\"]\n",
    "#     theta_par_sqrt = loaded[\"theta_par_sqrt\"]\n",
    "\n"
   ]
  },
  {
   "cell_type": "code",
   "execution_count": null,
   "metadata": {
    "pycharm": {
     "name": "#%%\n"
    }
   },
   "outputs": [],
   "source": [
    "# plt.figure(figsize=(10,8))\n",
    "# plt.plot(np.flip(1/np.linspace(10, 50)),np.flip(ell_std_extended_T50_par))\n",
    "# plt.plot(np.flip(1/np.linspace(10, 50)),np.flip(ell_sqrt_extended_T50_par))\n",
    "# plt.grid()\n",
    "#\n",
    "# print(theta_par_std)\n",
    "# print(theta_par_sqrt)\n",
    "\n"
   ]
  },
  {
   "cell_type": "code",
   "execution_count": null,
   "metadata": {
    "pycharm": {
     "name": "#%%\n"
    }
   },
   "outputs": [],
   "source": [
    "# plt.figure(figsize=(10,8))\n",
    "# plt.plot(np.flip(1/np.linspace(10, 50)),np.flip(grad_ell_std_extended_T50_par))\n",
    "# plt.plot(np.flip(1/np.linspace(10, 50)),np.flip(grad_ell_sqrt_extended_T50_par))\n",
    "# plt.axhline(y = 0, color = 'r', linestyle = '--')\n",
    "# plt.grid()"
   ]
  },
  {
   "cell_type": "code",
   "execution_count": null,
   "metadata": {
    "pycharm": {
     "name": "#%%\n"
    }
   },
   "outputs": [],
   "source": [
    "# data = np.stack([np.flip(1/np.linspace(10, 50)),\n",
    "#                  np.flip(ell_std_extended_T50_par),\n",
    "#                  np.flip(ell_sqrt_extended_T50_par),\n",
    "#                  np.flip(grad_ell_std_extended_T50_par[:,0]),\n",
    "#                  np.flip(grad_ell_sqrt_extended_T50_par)[:,0]],\n",
    "#                  axis=1)\n",
    "#\n",
    "# columns = [\"ell\",\n",
    "#            \"ell_std_extended_par\",\n",
    "#            \"ell_sqrt_extended_par\",\n",
    "#            \"grad_ell_std_extended_par\",\n",
    "#            \"grad_ell_sqrt_extended_par\"]\n",
    "#\n",
    "# df = pd.DataFrame(data=data, columns=columns)\n",
    "# df.to_csv(\"outputs/pe_extended_ell_par.csv\")"
   ]
  },
  {
   "cell_type": "code",
   "execution_count": null,
   "metadata": {
    "pycharm": {
     "name": "#%%\n"
    }
   },
   "outputs": [],
   "source": [
    "RunTime Comparison"
   ]
  },
  {
   "cell_type": "code",
   "execution_count": null,
   "outputs": [],
   "source": [
    "T = 5000\n",
    "_, _, ys = get_data(x0, dt, r_true, T, s1, s2)\n",
    "positions = inverse_bearings(ys, s1, s2)\n",
    "states = jnp.concatenate([jnp.concatenate([jnp.zeros((1,2)), positions], axis = 0),\n",
    "                          jnp.zeros((T+1,3))], axis = 1)\n",
    "\n",
    "initial_states_rt =  MVNStandard(states,jnp.repeat(jnp.eye(5).reshape(1, 5, 5), T + 1, axis=0))\n",
    "initial_states_sqrt_rt = MVNSqrt(states,jnp.repeat(jnp.eye(5).reshape(1, 5, 5), T + 1, axis=0))"
   ],
   "metadata": {
    "collapsed": false,
    "pycharm": {
     "name": "#%%\n"
    }
   }
  },
  {
   "cell_type": "code",
   "execution_count": null,
   "outputs": [],
   "source": [
    "#parallel\n",
    "def func(method, lengths, prec_r, n_runs=100, n_iter=10, sqrt=False):\n",
    "    res_mean = []\n",
    "    res_median = []\n",
    "    for k, j in enumerate(lengths):\n",
    "        print(f\"Iteration {k+1} out of {len(lengths)}\", end=\"\\r\")\n",
    "        observations_slice = ys[:j]\n",
    "\n",
    "        if sqrt:\n",
    "            init_linearizations_points_slice = initial_states_sqrt_rt.mean[:j+1]\n",
    "            init_linearizations_chols_slice = initial_states_sqrt.chol[:j+1]\n",
    "            init_linearizations_states = MVNSqrt(init_linearizations_points_slice, init_linearizations_chols_slice)\n",
    "            args = observations_slice, init_linearizations_states, n_iter\n",
    "        else:\n",
    "            init_linearizations_points_slice = initial_states.mean[:j+1]\n",
    "            init_linearizations_covs_slice = initial_states.cov[:j+1]\n",
    "            init_linearizations_states = MVNStandard(init_linearizations_points_slice, init_linearizations_covs_slice)\n",
    "            args = observations_slice, init_linearizations_states, n_iter\n",
    "\n",
    "        s = method(*args)\n",
    "        s.mean.block_until_ready()\n",
    "        run_times = []\n",
    "        for _ in range(n_runs):\n",
    "            tic = time.time()\n",
    "            s_states = method(*args)\n",
    "            s_states.mean.block_until_ready()\n",
    "            toc = time.time()\n",
    "            run_times.append(toc - tic)\n",
    "        res_mean.append(np.mean(run_times))\n",
    "        res_median.append(np.median(run_times))\n",
    "    print()\n",
    "    return np.array(res_mean), np.array(res_median)\n",
    "\n",
    "lengths_space = np.logspace(2, int(np.log2(T)), num=10, base=2, dtype=int)"
   ],
   "metadata": {
    "collapsed": false,
    "pycharm": {
     "name": "#%%\n"
    }
   }
  },
  {
   "cell_type": "code",
   "execution_count": 22,
   "outputs": [
    {
     "data": {
      "text/plain": "array([   4,    8,   18,   40,   87,  188,  406,  877, 1896, 4096])"
     },
     "execution_count": 22,
     "metadata": {},
     "output_type": "execute_result"
    }
   ],
   "source": [
    "lengths_space = np.logspace(2, int(np.log2(5000)), num=10, base=2, dtype=int)\n",
    "lengths_space"
   ],
   "metadata": {
    "collapsed": false,
    "pycharm": {
     "name": "#%%\n"
    }
   }
  },
  {
   "cell_type": "code",
   "execution_count": null,
   "outputs": [],
   "source": [],
   "metadata": {
    "collapsed": false,
    "pycharm": {
     "name": "#%%\n"
    }
   }
  }
 ],
 "metadata": {
  "kernelspec": {
   "display_name": "Python 3",
   "language": "python",
   "name": "python3"
  },
  "language_info": {
   "codemirror_mode": {
    "name": "ipython",
    "version": 3
   },
   "file_extension": ".py",
   "mimetype": "text/x-python",
   "name": "python",
   "nbconvert_exporter": "python",
   "pygments_lexer": "ipython3",
   "version": "3.8.8"
  }
 },
 "nbformat": 4,
 "nbformat_minor": 1
}