{
 "cells": [
  {
   "cell_type": "code",
   "execution_count": 2,
   "metadata": {
    "pycharm": {
     "name": "#%%\n"
    }
   },
   "outputs": [],
   "source": [
    "import sys\n",
    "sys.path.append('..//')\n",
    "\n",
    "import jax\n",
    "import numpy as np\n",
    "import jax.numpy as jnp\n",
    "import scipy\n",
    "from scipy.optimize import minimize\n",
    "import matplotlib.pyplot as plt\n",
    "import pandas as pd\n",
    "\n",
    "jax.config.update(\"jax_enable_x64\", True)\n",
    "\n",
    "from parsmooth._base import MVNStandard, FunctionalModel, MVNSqrt\n",
    "from parsmooth.linearization import extended, cubature, unscented, gauss_hermite\n",
    "from parsmooth.methods import iterated_smoothing\n",
    "from bearing_data_pe import get_data, make_parameters, inverse_bearings\n"
   ]
  },
  {
   "cell_type": "code",
   "execution_count": 3,
   "metadata": {
    "scrolled": true,
    "pycharm": {
     "name": "#%%\n"
    }
   },
   "outputs": [],
   "source": [
    "s1 = jnp.array([-1., 0.5])  # First sensor location\n",
    "s2 = jnp.array([1., 1.])  # Second sensor location\n",
    "x0 = jnp.array([0.1, 0.2, 1, 0])  # initial true location\n",
    "dt = 0.01  # discretization time step\n",
    "qc = 0.1  # discretization noise\n",
    "qw = 0.1  # discretization noise\n",
    "\n",
    "r_true = 0.05\n",
    "T = 50\n",
    "_, true_states, ys = get_data(x0, dt, r_true, T, s1, s2)\n",
    "Q, _, observation_function, transition_function = make_parameters(qc, qw, r_true, dt, s1, s2)\n",
    "\n",
    "chol_Q = jnp.linalg.cholesky(Q)\n",
    "\n",
    "m0 = jnp.array([2., 0, 0, 0, 0])\n",
    "P0 = jnp.diag(jnp.array([0.5**2, 0.5**2, 0.5**2, 0.5**2, 1.]))\n",
    "chol_P0 = scipy.linalg.cholesky(P0)\n",
    "\n",
    "init = MVNStandard(m0, P0)\n",
    "chol_init = MVNSqrt(m0, chol_P0)\n",
    "\n",
    "\n",
    "positions = inverse_bearings(ys, s1, s2)\n",
    "states = jnp.concatenate([jnp.concatenate([jnp.zeros((1,2)), positions], axis = 0), \n",
    "                          jnp.zeros((T+1,3))], axis = 1)\n",
    "\n",
    "initial_states =  MVNStandard(states,jnp.repeat(jnp.eye(5).reshape(1, 5, 5), T + 1, axis=0))\n",
    "initial_states_sqrt = MVNSqrt(states,jnp.repeat(jnp.eye(5).reshape(1, 5, 5), T + 1, axis=0))\n",
    "\n",
    "\n",
    "sqrt_transition_model = FunctionalModel(transition_function, MVNSqrt(jnp.zeros((5,)), chol_Q))\n",
    "transition_model = FunctionalModel(transition_function, MVNStandard(jnp.zeros((5,)), Q))\n"
   ]
  },
  {
   "cell_type": "code",
   "execution_count": 5,
   "metadata": {
    "pycharm": {
     "name": "#%%\n"
    }
   },
   "outputs": [],
   "source": [
    "#standard\n",
    "@jax.jit\n",
    "def get_ell_std_extended(prec_r):\n",
    "    r = 1 / prec_r[0]\n",
    "    R = jnp.diag(jnp.array([r ** 2, 0.1 ** 2]))\n",
    "    observation_model = FunctionalModel(observation_function, MVNStandard(jnp.zeros((2,)), R))  \n",
    "    \n",
    "    _, ell = iterated_smoothing(ys, init, transition_model, observation_model,\n",
    "                                               extended, initial_states, True,\n",
    "                                               criterion=lambda i, *_: i < 50,\n",
    "                                               return_loglikelihood = True)\n",
    "    return -ell\n",
    "\n",
    "def get_ell_std_cubature(prec_r):\n",
    "    r = 1 / prec_r[0]\n",
    "    R = jnp.diag(jnp.array([r ** 2, 0.1 ** 2]))\n",
    "    observation_model = FunctionalModel(observation_function, MVNStandard(jnp.zeros((2,)), R))\n",
    "\n",
    "    _, ell = iterated_smoothing(ys, init, transition_model, observation_model,\n",
    "                                               cubature, initial_states, True,\n",
    "                                               criterion=lambda i, *_: i < 50,\n",
    "                                               return_loglikelihood = True)\n",
    "    return -ell\n",
    "\n",
    "def get_ell_std_unscented(prec_r):\n",
    "    r = 1 / prec_r[0]\n",
    "    R = jnp.diag(jnp.array([r ** 2, 0.1 ** 2]))\n",
    "    observation_model = FunctionalModel(observation_function, MVNStandard(jnp.zeros((2,)), R))\n",
    "\n",
    "    _, ell = iterated_smoothing(ys, init, transition_model, observation_model,\n",
    "                                               unscented, initial_states, True,\n",
    "                                               criterion=lambda i, *_: i < 50,\n",
    "                                               return_loglikelihood = True)\n",
    "    return -ell\n",
    "\n",
    "def get_ell_std_gh(prec_r):\n",
    "    r = 1 / prec_r[0]\n",
    "    R = jnp.diag(jnp.array([r ** 2, 0.1 ** 2]))\n",
    "    observation_model = FunctionalModel(observation_function, MVNStandard(jnp.zeros((2,)), R))\n",
    "\n",
    "    _, ell = iterated_smoothing(ys, init, transition_model, observation_model,\n",
    "                                               gauss_hermite, initial_states, True,\n",
    "                                               criterion=lambda i, *_: i < 50,\n",
    "                                               return_loglikelihood = True)\n",
    "    return -ell\n",
    "\n",
    "grad_ell_std_extended = jax.jit(jax.value_and_grad(get_ell_std_extended))\n",
    "grad_ell_std_cubature= jax.jit(jax.value_and_grad(get_ell_std_cubature))\n",
    "grad_ell_std_unscented = jax.jit(jax.value_and_grad(get_ell_std_unscented))\n",
    "grad_ell_std_gh = jax.jit(jax.value_and_grad(get_ell_std_gh))"
   ]
  },
  {
   "cell_type": "code",
   "execution_count": 13,
   "metadata": {
    "pycharm": {
     "name": "#%%\n"
    }
   },
   "outputs": [
    {
     "ename": "NameError",
     "evalue": "name 'grad_ell_std_extended' is not defined",
     "output_type": "error",
     "traceback": [
      "\u001B[0;31m---------------------------------------------------------------------------\u001B[0m",
      "\u001B[0;31mNameError\u001B[0m                                 Traceback (most recent call last)",
      "Input \u001B[0;32mIn [13]\u001B[0m, in \u001B[0;36m<cell line: 1>\u001B[0;34m()\u001B[0m\n\u001B[0;32m----> 1\u001B[0m gpu_grad_ell_std_extended \u001B[38;5;241m=\u001B[39m jax\u001B[38;5;241m.\u001B[39mjit(\u001B[43mgrad_ell_std_extended\u001B[49m, backend\u001B[38;5;241m=\u001B[39m\u001B[38;5;124m\"\u001B[39m\u001B[38;5;124mgpu\u001B[39m\u001B[38;5;124m\"\u001B[39m)\n\u001B[1;32m      2\u001B[0m gpu_grad_ell_std_extended \u001B[38;5;241m=\u001B[39m jax\u001B[38;5;241m.\u001B[39mjit(grad_ell_std_extended, backend\u001B[38;5;241m=\u001B[39m\u001B[38;5;124m\"\u001B[39m\u001B[38;5;124mgpu\u001B[39m\u001B[38;5;124m\"\u001B[39m)\n\u001B[1;32m      3\u001B[0m gpu_grad_ell_std_extended \u001B[38;5;241m=\u001B[39m jax\u001B[38;5;241m.\u001B[39mjit(grad_ell_std_extended, backend\u001B[38;5;241m=\u001B[39m\u001B[38;5;124m\"\u001B[39m\u001B[38;5;124mgpu\u001B[39m\u001B[38;5;124m\"\u001B[39m)\n",
      "\u001B[0;31mNameError\u001B[0m: name 'grad_ell_std_extended' is not defined"
     ]
    }
   ],
   "source": [
    "gpu_grad_ell_std_extended = jax.jit(grad_ell_std_extended, backend=\"gpu\")\n",
    "gpu_grad_ell_std_cubature = jax.jit(grad_ell_std_cubature, backend=\"gpu\")\n",
    "gpu_grad_ell_std_unscented = jax.jit(grad_ell_std_unscented, backend=\"gpu\")\n",
    "gpu_grad_ell_std_gh = jax.jit(grad_ell_std_gh, backend=\"gpu\")\n"
   ]
  },
  {
   "cell_type": "code",
   "execution_count": 7,
   "outputs": [
    {
     "data": {
      "text/plain": "      fun: -112.99485133901851\n hess_inv: <1x1 LbfgsInvHessProduct with dtype=float64>\n      jac: array([-0.03703517])\n  message: 'CONVERGENCE: NORM_OF_PROJECTED_GRADIENT_<=_PGTOL'\n     nfev: 5\n      nit: 4\n     njev: 5\n   status: 0\n  success: True\n        x: array([20.])"
     },
     "execution_count": 7,
     "metadata": {},
     "output_type": "execute_result"
    }
   ],
   "source": [
    "def wrap_func_std_extended(r):\n",
    "    loss, grad_val = gpu_grad_ell_std_extended(r)\n",
    "    return np.array(loss, dtype=np.float64), np.array(grad_val, dtype=np.float64)\n",
    "\n",
    "def wrap_func_std_cubature(r):\n",
    "    loss, grad_val = gpu_grad_ell_std_cubature(r)\n",
    "    return np.array(loss, dtype=np.float64), np.array(grad_val, dtype=np.float64)\n",
    "\n",
    "def wrap_func_std_unscented(r):\n",
    "    loss, grad_val = gpu_grad_ell_std_unscented(r)\n",
    "    return np.array(loss, dtype=np.float64), np.array(grad_val, dtype=np.float64)\n",
    "\n",
    "def wrap_func_std_gh(r):\n",
    "    loss, grad_val = gpu_grad_ell_std_gh(r)\n",
    "    return np.array(loss, dtype=np.float64), np.array(grad_val, dtype=np.float64)\n"
   ],
   "metadata": {
    "collapsed": false,
    "pycharm": {
     "name": "#%%\n"
    }
   }
  },
  {
   "cell_type": "code",
   "execution_count": null,
   "outputs": [],
   "source": [
    "r0 = np.array([10.])\n",
    "r_extended = 1 / minimize(wrap_func_std_extended, r0, jac=True, method=\"L-BFGS-B\", bounds=[(0, 100)]).x\n",
    "r_cubature = 1 / minimize(wrap_func_std_cubature, r0, jac=True, method=\"L-BFGS-B\", bounds=[(0, 100)]).x\n",
    "r_unscented =  1 / minimize(wrap_func_std_unscented, r0, jac=True, method=\"L-BFGS-B\", bounds=[(0, 100)]).x\n",
    "r_gh = 1 / minimize(wrap_func_std_gh, r0, jac=True, method=\"L-BFGS-B\", bounds=[(0, 100)]).x"
   ],
   "metadata": {
    "collapsed": false,
    "pycharm": {
     "name": "#%%\n"
    }
   }
  },
  {
   "cell_type": "code",
   "execution_count": null,
   "outputs": [],
   "source": [],
   "metadata": {
    "collapsed": false,
    "pycharm": {
     "name": "#%%\n"
    }
   }
  },
  {
   "cell_type": "code",
   "execution_count": 63,
   "metadata": {
    "pycharm": {
     "name": "#%%\n"
    }
   },
   "outputs": [
    {
     "data": {
      "text/plain": "      fun: -98.3942657017294\n hess_inv: <1x1 LbfgsInvHessProduct with dtype=float64>\n      jac: array([-0.00301808])\n  message: 'CONVERGENCE: REL_REDUCTION_OF_F_<=_FACTR*EPSMCH'\n     nfev: 17\n      nit: 7\n     njev: 17\n   status: 0\n  success: True\n        x: array([19.26860337])"
     },
     "execution_count": 63,
     "metadata": {},
     "output_type": "execute_result"
    }
   ],
   "source": [
    "# cubature\n",
    "def wrap_func_std(r):\n",
    "    loss, grad_val = gpu_grad_ell_std(r)\n",
    "    return np.array(loss, dtype=np.float64), np.array(grad_val, dtype=np.float64)\n",
    "r0 = np.array([10.])\n",
    "minimize(wrap_func_std, r0, jac=True, method=\"L-BFGS-B\", bounds=[(0,20)])"
   ]
  },
  {
   "cell_type": "code",
   "execution_count": 8,
   "metadata": {
    "pycharm": {
     "name": "#%%\n"
    }
   },
   "outputs": [],
   "source": [
    "#square-root\n",
    "@jax.jit\n",
    "def get_ell_sqrt(prec_r):\n",
    "    r = 1 / prec_r[0]\n",
    "    chol_R = jnp.diag(jnp.array([r, 0.1]))\n",
    "    observation_model_sqrt = FunctionalModel(observation_function, MVNSqrt(jnp.zeros((2,)), chol_R)) \n",
    "    \n",
    "    _, ell = iterated_smoothing(ys, chol_init, sqrt_transition_model, observation_model_sqrt,\n",
    "                                               linearization_method, initial_states_sqrt, True,\n",
    "                                               criterion=lambda i, *_: i < 50,\n",
    "                                               return_loglikelihood = True)\n",
    "    return -ell\n",
    "\n",
    "grad_ell_sqrt = jax.jit(jax.value_and_grad(get_ell_sqrt))\n"
   ]
  },
  {
   "cell_type": "code",
   "execution_count": 9,
   "metadata": {
    "pycharm": {
     "name": "#%%\n"
    }
   },
   "outputs": [],
   "source": [
    "gpu_grad_ell_sqrt = jax.jit(grad_ell_sqrt, backend=\"gpu\")"
   ]
  },
  {
   "cell_type": "code",
   "execution_count": 12,
   "metadata": {
    "pycharm": {
     "name": "#%%\n"
    }
   },
   "outputs": [
    {
     "data": {
      "text/plain": "      fun: -112.99485133901852\n hess_inv: <1x1 LbfgsInvHessProduct with dtype=float64>\n      jac: array([-0.03703516])\n  message: 'CONVERGENCE: NORM_OF_PROJECTED_GRADIENT_<=_PGTOL'\n     nfev: 4\n      nit: 3\n     njev: 4\n   status: 0\n  success: True\n        x: array([20.])"
     },
     "execution_count": 12,
     "metadata": {},
     "output_type": "execute_result"
    }
   ],
   "source": [
    "def wrap_func_sqrt(r):\n",
    "    loss, grad_val = gpu_grad_ell_sqrt(r)\n",
    "    return np.array(loss, dtype=np.float64), np.array(grad_val, dtype=np.float64)\n",
    "r0 = np.array([15.])\n",
    "minimize(wrap_func_sqrt, r0, jac=True, method=\"L-BFGS-B\", bounds=[(0,20)])\n"
   ]
  },
  {
   "cell_type": "raw",
   "metadata": {
    "pycharm": {
     "name": "#%% raw\n"
    }
   },
   "source": [
    "jnp.savez(\"pe_ell_std_extended_T50_par\",\n",
    "          ell_std_extended_T50_par = np.array(jax.vmap(lambda r: get_ell_std(r))(np.linspace(10, 50)[:, None])),\n",
    "          grad_ell_std_extended_T50_par = np.array(jax.vmap(lambda r: grad_ell_std(r))(np.linspace(10, 50)[:, None])[1]),\n",
    "          theta_par_std = 1 / minimize(wrap_func_std, r0, jac=True, method=\"L-BFGS-B\", bounds=[(0, 100)]).x)\n",
    "\n",
    "jnp.savez(\"pe_ell_sqrt_extended_T50_par\",\n",
    "          ell_sqrt_extended_T50_par = np.array(jax.vmap(lambda r: get_ell_sqrt(r))(np.linspace(10, 50)[:, None])),\n",
    "          grad_ell_sqrt_extended_T50_par = np.array(jax.vmap(lambda r: grad_ell_sqrt(r))(np.linspace(10, 50)[:, None])[1]),\n",
    "          theta_par_sqrt = 1 / minimize(wrap_func_sqrt, r0, jac=True, method=\"L-BFGS-B\", bounds=[(0, 100)]).x)\n",
    "\n"
   ]
  },
  {
   "cell_type": "code",
   "execution_count": 9,
   "metadata": {
    "pycharm": {
     "name": "#%%\n"
    }
   },
   "outputs": [
    {
     "ename": "FileNotFoundError",
     "evalue": "[Errno 2] No such file or directory: 'pe_ell_std_extended_T50_par.npz'",
     "output_type": "error",
     "traceback": [
      "\u001B[0;31m---------------------------------------------------------------------------\u001B[0m",
      "\u001B[0;31mFileNotFoundError\u001B[0m                         Traceback (most recent call last)",
      "Input \u001B[0;32mIn [9]\u001B[0m, in \u001B[0;36m<cell line: 1>\u001B[0;34m()\u001B[0m\n\u001B[0;32m----> 1\u001B[0m \u001B[38;5;28;01mwith\u001B[39;00m \u001B[43mnp\u001B[49m\u001B[38;5;241;43m.\u001B[39;49m\u001B[43mload\u001B[49m\u001B[43m(\u001B[49m\u001B[38;5;124;43m\"\u001B[39;49m\u001B[38;5;124;43mpe_ell_std_extended_T50_par.npz\u001B[39;49m\u001B[38;5;124;43m\"\u001B[39;49m\u001B[43m)\u001B[49m \u001B[38;5;28;01mas\u001B[39;00m loaded:\n\u001B[1;32m      2\u001B[0m     ell_std_extended_T50_par \u001B[38;5;241m=\u001B[39m loaded[\u001B[38;5;124m\"\u001B[39m\u001B[38;5;124mell_std_extended_T50_par\u001B[39m\u001B[38;5;124m\"\u001B[39m]\n\u001B[1;32m      3\u001B[0m     grad_ell_std_extended_T50_par \u001B[38;5;241m=\u001B[39m loaded[\u001B[38;5;124m\"\u001B[39m\u001B[38;5;124mgrad_ell_std_extended_T50_par\u001B[39m\u001B[38;5;124m\"\u001B[39m]\n",
      "File \u001B[0;32m~/PycharmProjects/sqrt-parallel-smoothers/venv/lib/python3.10/site-packages/numpy/lib/npyio.py:407\u001B[0m, in \u001B[0;36mload\u001B[0;34m(file, mmap_mode, allow_pickle, fix_imports, encoding)\u001B[0m\n\u001B[1;32m    405\u001B[0m     own_fid \u001B[38;5;241m=\u001B[39m \u001B[38;5;28;01mFalse\u001B[39;00m\n\u001B[1;32m    406\u001B[0m \u001B[38;5;28;01melse\u001B[39;00m:\n\u001B[0;32m--> 407\u001B[0m     fid \u001B[38;5;241m=\u001B[39m stack\u001B[38;5;241m.\u001B[39menter_context(\u001B[38;5;28;43mopen\u001B[39;49m\u001B[43m(\u001B[49m\u001B[43mos_fspath\u001B[49m\u001B[43m(\u001B[49m\u001B[43mfile\u001B[49m\u001B[43m)\u001B[49m\u001B[43m,\u001B[49m\u001B[43m \u001B[49m\u001B[38;5;124;43m\"\u001B[39;49m\u001B[38;5;124;43mrb\u001B[39;49m\u001B[38;5;124;43m\"\u001B[39;49m\u001B[43m)\u001B[49m)\n\u001B[1;32m    408\u001B[0m     own_fid \u001B[38;5;241m=\u001B[39m \u001B[38;5;28;01mTrue\u001B[39;00m\n\u001B[1;32m    410\u001B[0m \u001B[38;5;66;03m# Code to distinguish from NumPy binary files and pickles.\u001B[39;00m\n",
      "\u001B[0;31mFileNotFoundError\u001B[0m: [Errno 2] No such file or directory: 'pe_ell_std_extended_T50_par.npz'"
     ]
    }
   ],
   "source": [
    "with np.load(\"pe_ell_std_extended_T50_par.npz\") as loaded:\n",
    "    ell_std_extended_T50_par = loaded[\"ell_std_extended_T50_par\"]\n",
    "    grad_ell_std_extended_T50_par = loaded[\"grad_ell_std_extended_T50_par\"]\n",
    "    theta_par_std = loaded[\"theta_par_std\"]\n",
    "    \n",
    "with np.load(\"pe_ell_sqrt_extended_T50_par.npz\") as loaded:\n",
    "    ell_sqrt_extended_T50_par = loaded[\"ell_sqrt_extended_T50_par\"]\n",
    "    grad_ell_sqrt_extended_T50_par = loaded[\"grad_ell_sqrt_extended_T50_par\"]\n",
    "    theta_par_sqrt = loaded[\"theta_par_sqrt\"]\n",
    "\n"
   ]
  },
  {
   "cell_type": "code",
   "execution_count": null,
   "metadata": {
    "pycharm": {
     "name": "#%%\n"
    }
   },
   "outputs": [],
   "source": [
    "plt.figure(figsize=(10,8))\n",
    "plt.plot(np.flip(1/np.linspace(10, 50)),np.flip(ell_std_extended_T50_par))\n",
    "plt.plot(np.flip(1/np.linspace(10, 50)),np.flip(ell_sqrt_extended_T50_par))\n",
    "plt.grid()\n",
    "\n",
    "print(theta_par_std)\n",
    "print(theta_par_sqrt)\n",
    "\n"
   ]
  },
  {
   "cell_type": "code",
   "execution_count": null,
   "metadata": {
    "pycharm": {
     "name": "#%%\n"
    }
   },
   "outputs": [],
   "source": [
    "plt.figure(figsize=(10,8))\n",
    "plt.plot(np.flip(1/np.linspace(10, 50)),np.flip(grad_ell_std_extended_T50_par))\n",
    "plt.plot(np.flip(1/np.linspace(10, 50)),np.flip(grad_ell_sqrt_extended_T50_par))\n",
    "plt.axhline(y = 0, color = 'r', linestyle = '--')\n",
    "plt.grid()"
   ]
  },
  {
   "cell_type": "code",
   "execution_count": null,
   "metadata": {
    "pycharm": {
     "name": "#%%\n"
    }
   },
   "outputs": [],
   "source": [
    "data = np.stack([np.flip(1/np.linspace(10, 50)),\n",
    "                 np.flip(ell_std_extended_T50_par),\n",
    "                 np.flip(ell_sqrt_extended_T50_par),\n",
    "                 np.flip(grad_ell_std_extended_T50_par[:,0]),\n",
    "                 np.flip(grad_ell_sqrt_extended_T50_par)[:,0]],\n",
    "                 axis=1)\n",
    "\n",
    "columns = [\"ell\",\n",
    "           \"ell_std_extended_par\",\n",
    "           \"ell_sqrt_extended_par\",\n",
    "           \"grad_ell_std_extended_par\",\n",
    "           \"grad_ell_sqrt_extended_par\"]\n",
    "\n",
    "df = pd.DataFrame(data=data, columns=columns)\n",
    "df.to_csv(\"outputs/pe_extended_ell_par.csv\")"
   ]
  },
  {
   "cell_type": "code",
   "execution_count": null,
   "metadata": {
    "pycharm": {
     "name": "#%%\n"
    }
   },
   "outputs": [],
   "source": []
  }
 ],
 "metadata": {
  "kernelspec": {
   "display_name": "Python 3",
   "language": "python",
   "name": "python3"
  },
  "language_info": {
   "codemirror_mode": {
    "name": "ipython",
    "version": 3
   },
   "file_extension": ".py",
   "mimetype": "text/x-python",
   "name": "python",
   "nbconvert_exporter": "python",
   "pygments_lexer": "ipython3",
   "version": "3.8.8"
  }
 },
 "nbformat": 4,
 "nbformat_minor": 1
}