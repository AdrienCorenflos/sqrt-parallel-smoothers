{
 "cells": [
  {
   "cell_type": "code",
   "execution_count": 2,
   "metadata": {
    "collapsed": true
   },
   "outputs": [],
   "source": [
    "\n",
    "import sys\n",
    "sys.path.append('..//')\n",
    "\n",
    "import jax\n",
    "import jax.numpy as jnp\n",
    "import numpy as np\n",
    "import matplotlib.pyplot as plt\n",
    "\n",
    "jax.config.update(\"jax_enable_x64\", True)\n",
    "\n",
    "from parsmooth._base import MVNStandard, ConditionalMomentsModel, MVNSqrt\n",
    "from parsmooth.linearization import cubature, extended\n",
    "from parsmooth.methods import iterated_smoothing\n",
    "\n",
    "from tests._pssm import make_parameters\n",
    "from tests._pssm import get_data as population_data"
   ]
  },
  {
   "cell_type": "code",
   "execution_count": 3,
   "outputs": [
    {
     "name": "stderr",
     "output_type": "stream",
     "text": [
      "WARNING:absl:No GPU/TPU found, falling back to CPU. (Set TF_CPP_MIN_LOG_LEVEL=0 and rerun for more info.)\n"
     ]
    }
   ],
   "source": [
    "seed = 40\n",
    "np.random.seed(seed)\n",
    "\n",
    "T = 1 + 2**7\n",
    "lam = 10.\n",
    "Q = jnp.array([[0.3**2]])\n",
    "dt = 1.\n",
    "m0 = jnp.array([jnp.log(7.)])\n",
    "\n",
    "true_states, observations = population_data(m0, dt, T, Q, lam, seed)\n"
   ],
   "metadata": {
    "collapsed": false,
    "pycharm": {
     "name": "#%%\n"
    }
   }
  },
  {
   "cell_type": "code",
   "execution_count": 4,
   "outputs": [
    {
     "data": {
      "text/plain": "<Figure size 1080x504 with 1 Axes>",
      "image/png": "[encoded data removed]"
     },
     "metadata": {
      "needs_background": "light"
     },
     "output_type": "display_data"
    }
   ],
   "source": [
    "plt.figure(figsize=(15,7))\n",
    "plt.plot(true_states, \"*--\", label = \"true state\")\n",
    "plt.plot(observations, \"o\", label = \"observation\")\n",
    "plt.legend()\n",
    "plt.grid()\n",
    "plt.show()\n"
   ],
   "metadata": {
    "collapsed": false,
    "pycharm": {
     "name": "#%%\n"
    }
   }
  },
  {
   "cell_type": "markdown",
   "source": [
    "# make parameters\n"
   ],
   "metadata": {
    "collapsed": false,
    "pycharm": {
     "name": "#%% md\n"
    }
   }
  },
  {
   "cell_type": "code",
   "execution_count": 5,
   "outputs": [],
   "source": [
    "dim_x = 1\n",
    "mean_f, cov_f, mean_h, cov_h, chol_f, chol_h = make_parameters(lam, seed, Q)\n",
    "\n"
   ],
   "metadata": {
    "collapsed": false,
    "pycharm": {
     "name": "#%%\n"
    }
   }
  },
  {
   "cell_type": "code",
   "execution_count": 6,
   "outputs": [],
   "source": [
    "sqrt_transition_model = ConditionalMomentsModel(mean_f, chol_f)\n",
    "sqrt_observation_model = ConditionalMomentsModel(mean_h, chol_h)\n",
    "\n",
    "transition_model = ConditionalMomentsModel(mean_f, cov_f)\n",
    "observation_model = ConditionalMomentsModel(mean_h, cov_h)\n",
    "\n",
    "# m0 = np.random.randn(dim_x)\n",
    "chol_x0 = np.random.randn(dim_x,dim_x)\n",
    "cov_x0 = chol_x0 @ chol_x0.T\n",
    "\n",
    "x0 = MVNStandard(m0, cov_x0) # initial guess\n",
    "x0_sqrt = MVNSqrt(m0, chol_x0) # sqrt initial guess\n",
    "\n",
    "m_nominal = np.random.randn(T + 1, dim_x)\n",
    "P_nominal = np.repeat(np.eye(dim_x, dim_x)[None, ...], T + 1, axis=0)\n",
    "cholP_nominal = P_nominal\n",
    "x_nominal_sqrt = MVNSqrt(m_nominal, cholP_nominal) # initial nominal trajectory\n",
    "x_nominal = MVNStandard(m_nominal, P_nominal)      # sqrt initial nominal trajectory\n"
   ],
   "metadata": {
    "collapsed": false,
    "pycharm": {
     "name": "#%%\n"
    }
   }
  },
  {
   "cell_type": "markdown",
   "source": [
    "# Iterated result - Extended"
   ],
   "metadata": {
    "collapsed": false,
    "pycharm": {
     "name": "#%% md\n"
    }
   }
  },
  {
   "cell_type": "code",
   "execution_count": 7,
   "outputs": [],
   "source": [
    "iteration = 20"
   ],
   "metadata": {
    "collapsed": false,
    "pycharm": {
     "name": "#%%\n"
    }
   }
  },
  {
   "cell_type": "code",
   "execution_count": 8,
   "outputs": [],
   "source": [
    "extended_std_seq = iterated_smoothing(observations, x0, transition_model, observation_model,\n",
    "                                      extended, x_nominal, False,\n",
    "                                      criterion=lambda i, *_: i < iteration)\n",
    "\n",
    "\n"
   ],
   "metadata": {
    "collapsed": false,
    "pycharm": {
     "name": "#%%\n"
    }
   }
  },
  {
   "cell_type": "code",
   "execution_count": 9,
   "outputs": [],
   "source": [
    "extended_sqrt_seq = iterated_smoothing(observations, x0_sqrt, sqrt_transition_model,\n",
    "                                       sqrt_observation_model, extended, x_nominal_sqrt,\n",
    "                                       False, criterion=lambda i, *_: i < iteration)\n",
    "\n",
    "\n"
   ],
   "metadata": {
    "collapsed": false,
    "pycharm": {
     "name": "#%%\n"
    }
   }
  },
  {
   "cell_type": "code",
   "execution_count": 10,
   "outputs": [],
   "source": [
    "\n",
    "extended_std_par = iterated_smoothing(observations, x0, transition_model, observation_model,\n",
    "                                      extended, x_nominal, True,\n",
    "                                      criterion=lambda i, *_: i < iteration)\n"
   ],
   "metadata": {
    "collapsed": false,
    "pycharm": {
     "name": "#%%\n"
    }
   }
  },
  {
   "cell_type": "code",
   "execution_count": 11,
   "outputs": [],
   "source": [
    "extended_sqrt_par = iterated_smoothing(observations, x0_sqrt, sqrt_transition_model,\n",
    "                                       sqrt_observation_model, extended, x_nominal_sqrt, True,\n",
    "                                       criterion=lambda i, *_: i < iteration)\n",
    "\n",
    "\n"
   ],
   "metadata": {
    "collapsed": false,
    "pycharm": {
     "name": "#%%\n"
    }
   }
  },
  {
   "cell_type": "code",
   "execution_count": 12,
   "outputs": [
    {
     "ename": "AssertionError",
     "evalue": "\nArrays are not almost equal to 7 decimals\n\nMismatched elements: 4 / 130 (3.08%)\nMax absolute difference: 3.25583385e-07\nMax relative difference: 5.00358887e-06\n x: array([[ 1.1042567e+00],\n       [ 1.9889942e+00],\n       [-1.6506454e+00],...\n y: array([[ 1.1042567e+00],\n       [ 1.9889942e+00],\n       [-1.6506454e+00],...",
     "output_type": "error",
     "traceback": [
      "\u001B[0;31m---------------------------------------------------------------------------\u001B[0m",
      "\u001B[0;31mAssertionError\u001B[0m                            Traceback (most recent call last)",
      "\u001B[0;32m/var/folders/w3/sz7p9s_95cl6mvmbfqt6q80m02ymdg/T/ipykernel_57947/3508970194.py\u001B[0m in \u001B[0;36m<module>\u001B[0;34m\u001B[0m\n\u001B[0;32m----> 1\u001B[0;31m np.testing.assert_array_almost_equal(extended_sqrt_seq.mean,\n\u001B[0m\u001B[1;32m      2\u001B[0m                                      extended_sqrt_par.mean, decimal=7)\n\u001B[1;32m      3\u001B[0m \u001B[0;34m\u001B[0m\u001B[0m\n\u001B[1;32m      4\u001B[0m \u001B[0;34m\u001B[0m\u001B[0m\n\u001B[1;32m      5\u001B[0m \u001B[0;34m\u001B[0m\u001B[0m\n",
      "    \u001B[0;31m[... skipping hidden 1 frame]\u001B[0m\n",
      "\u001B[0;32m/Library/Frameworks/Python.framework/Versions/3.9/lib/python3.9/site-packages/numpy/testing/_private/utils.py\u001B[0m in \u001B[0;36massert_array_compare\u001B[0;34m(comparison, x, y, err_msg, verbose, header, precision, equal_nan, equal_inf)\u001B[0m\n\u001B[1;32m    842\u001B[0m                                 \u001B[0mverbose\u001B[0m\u001B[0;34m=\u001B[0m\u001B[0mverbose\u001B[0m\u001B[0;34m,\u001B[0m \u001B[0mheader\u001B[0m\u001B[0;34m=\u001B[0m\u001B[0mheader\u001B[0m\u001B[0;34m,\u001B[0m\u001B[0;34m\u001B[0m\u001B[0;34m\u001B[0m\u001B[0m\n\u001B[1;32m    843\u001B[0m                                 names=('x', 'y'), precision=precision)\n\u001B[0;32m--> 844\u001B[0;31m             \u001B[0;32mraise\u001B[0m \u001B[0mAssertionError\u001B[0m\u001B[0;34m(\u001B[0m\u001B[0mmsg\u001B[0m\u001B[0;34m)\u001B[0m\u001B[0;34m\u001B[0m\u001B[0;34m\u001B[0m\u001B[0m\n\u001B[0m\u001B[1;32m    845\u001B[0m     \u001B[0;32mexcept\u001B[0m \u001B[0mValueError\u001B[0m\u001B[0;34m:\u001B[0m\u001B[0;34m\u001B[0m\u001B[0;34m\u001B[0m\u001B[0m\n\u001B[1;32m    846\u001B[0m         \u001B[0;32mimport\u001B[0m \u001B[0mtraceback\u001B[0m\u001B[0;34m\u001B[0m\u001B[0;34m\u001B[0m\u001B[0m\n",
      "\u001B[0;31mAssertionError\u001B[0m: \nArrays are not almost equal to 7 decimals\n\nMismatched elements: 4 / 130 (3.08%)\nMax absolute difference: 3.25583385e-07\nMax relative difference: 5.00358887e-06\n x: array([[ 1.1042567e+00],\n       [ 1.9889942e+00],\n       [-1.6506454e+00],...\n y: array([[ 1.1042567e+00],\n       [ 1.9889942e+00],\n       [-1.6506454e+00],..."
     ]
    }
   ],
   "source": [
    "np.testing.assert_array_almost_equal(extended_sqrt_seq.mean,\n",
    "                                     extended_sqrt_par.mean, decimal=7)\n",
    "\n",
    "\n"
   ],
   "metadata": {
    "collapsed": false,
    "pycharm": {
     "name": "#%%\n"
    }
   }
  },
  {
   "cell_type": "code",
   "execution_count": null,
   "outputs": [],
   "source": [
    "np.testing.assert_array_almost_equal(extended_std_seq.mean,\n",
    "                                     extended_std_par.mean, decimal=3)\n"
   ],
   "metadata": {
    "collapsed": false,
    "pycharm": {
     "name": "#%%\n"
    }
   }
  },
  {
   "cell_type": "markdown",
   "source": [
    "# Iterated result - Cubature\n"
   ],
   "metadata": {
    "collapsed": false,
    "pycharm": {
     "name": "#%% md\n"
    }
   }
  },
  {
   "cell_type": "code",
   "execution_count": null,
   "outputs": [],
   "source": [
    "cubature_std_seq = iterated_smoothing(observations, x0, transition_model, observation_model,\n",
    "                                      cubature, x_nominal, False,\n",
    "                                      criterion=lambda i, *_: i < iteration)\n",
    "\n"
   ],
   "metadata": {
    "collapsed": false,
    "pycharm": {
     "name": "#%%\n"
    }
   }
  },
  {
   "cell_type": "code",
   "execution_count": null,
   "outputs": [],
   "source": [
    "cubature_sqrt_seq = iterated_smoothing(observations, x0_sqrt, sqrt_transition_model,\n",
    "                                       sqrt_observation_model, cubature, x_nominal_sqrt,\n",
    "                                       False, criterion=lambda i, *_: i < iteration)\n",
    "\n",
    "\n"
   ],
   "metadata": {
    "collapsed": false,
    "pycharm": {
     "name": "#%%\n"
    }
   }
  },
  {
   "cell_type": "code",
   "execution_count": null,
   "outputs": [],
   "source": [
    "\n",
    "cubature_std_par = iterated_smoothing(observations, x0, transition_model, observation_model,\n",
    "                                      cubature, x_nominal, True,\n",
    "                                      criterion=lambda i, *_: i < iteration)"
   ],
   "metadata": {
    "collapsed": false,
    "pycharm": {
     "name": "#%%\n"
    }
   }
  },
  {
   "cell_type": "code",
   "execution_count": null,
   "outputs": [],
   "source": [
    "\n",
    "cubature_sqrt_par = iterated_smoothing(observations, x0_sqrt, sqrt_transition_model,\n",
    "                                       sqrt_observation_model, cubature, x_nominal_sqrt, True,\n",
    "                                       criterion=lambda i, *_: i < iteration)\n",
    "\n"
   ],
   "metadata": {
    "collapsed": false,
    "pycharm": {
     "name": "#%%\n"
    }
   }
  },
  {
   "cell_type": "code",
   "execution_count": null,
   "outputs": [],
   "source": [
    "\n",
    "np.testing.assert_array_almost_equal(cubature_sqrt_seq.mean,\n",
    "                                     cubature_sqrt_par.mean, decimal=8)"
   ],
   "metadata": {
    "collapsed": false,
    "pycharm": {
     "name": "#%%\n"
    }
   }
  },
  {
   "cell_type": "code",
   "execution_count": null,
   "outputs": [],
   "source": [
    "\n",
    "np.testing.assert_array_almost_equal(cubature_sqrt_seq.mean,\n",
    "                                     cubature_sqrt_par.mean, decimal=8)"
   ],
   "metadata": {
    "collapsed": false,
    "pycharm": {
     "name": "#%%\n"
    }
   }
  },
  {
   "cell_type": "code",
   "execution_count": null,
   "outputs": [],
   "source": [
    "plt.figure(figsize=(15,8))\n",
    "\n",
    "plt.plot(extended_std_seq.mean,\"o--\", label = \"iterated-par state\")\n",
    "plt.plot(true_states, \"*--\", label = \"true state\")\n",
    "\n",
    "plt.grid()\n",
    "plt.legend()\n",
    "plt.show()\n",
    "\n"
   ],
   "metadata": {
    "collapsed": false,
    "pycharm": {
     "name": "#%%\n"
    }
   }
  }
 ],
 "metadata": {
  "kernelspec": {
   "display_name": "Python 3",
   "language": "python",
   "name": "python3"
  },
  "language_info": {
   "codemirror_mode": {
    "name": "ipython",
    "version": 2
   },
   "file_extension": ".py",
   "mimetype": "text/x-python",
   "name": "python",
   "nbconvert_exporter": "python",
   "pygments_lexer": "ipython2",
   "version": "2.7.6"
  }
 },
 "nbformat": 4,
 "nbformat_minor": 0
}