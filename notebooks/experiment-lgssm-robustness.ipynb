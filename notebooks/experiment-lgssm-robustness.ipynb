{
 "cells": [
  {
   "cell_type": "code",
   "execution_count": 1,
   "id": "b43a929d",
   "metadata": {},
   "outputs": [],
   "source": [
    "import sys\n",
    "sys.path.append('..//')\n",
    "\n",
    "import jax\n",
    "import jax.numpy as jnp\n",
    "import numpy as np\n",
    "import scipy.linalg \n",
    "from functools import partial\n",
    "import matplotlib.pyplot as plt\n",
    "\n",
    "jax.config.update(\"jax_enable_x64\", False)\n",
    "# jax.config.update(\"jax_enable_x64\", False)\n",
    "\n",
    "from parsmooth.linearization import extended\n",
    "from parsmooth.methods import iterated_smoothing\n",
    "from parsmooth._base import MVNStandard, FunctionalModel, MVNSqrt\n",
    "from tests._lgssm import transition_function as lgssm_f, observation_function as lgssm_h, get_data\n",
    "#from LGSSM import transition_function as lgssm_f, observation_function as lgssm_h, get_data"
   ]
  },
  {
   "cell_type": "markdown",
   "id": "1df7e00a",
   "metadata": {},
   "source": [
    "ell for sequential method as ground truth data"
   ]
  },
  {
   "cell_type": "code",
   "execution_count": 2,
   "id": "2312b084",
   "metadata": {},
   "outputs": [
    {
     "name": "stderr",
     "output_type": "stream",
     "text": [
      "WARNING:absl:No GPU/TPU found, falling back to CPU. (Set TF_CPP_MIN_LOG_LEVEL=0 and rerun for more info.)\n"
     ]
    }
   ],
   "source": [
    "# Model parameters from \"Temporal parallelization of Bayesian smoothers\" paper.\n",
    "dt = 0.1\n",
    "sigma = 0.5\n",
    "q = 1.\n",
    "F = jnp.array ([[1, 0, dt, 0 ],\n",
    "               [0, 1, 0,  dt],\n",
    "               [0, 0, 1,  0 ],\n",
    "               [0, 0, 0,  1 ]])\n",
    "b = jnp.zeros((4,))\n",
    "Q = 100 * q * np.array([[dt**3/3,    0,         dt**2/2,   0      ],\n",
    "                  [0,          dt**3/3,   0,         dt**2/2],\n",
    "                  [dt**2/2,    0,         dt,        0      ],\n",
    "                  [0,          dt**2/2,   0,         dt     ]])\n",
    "cholQ = scipy.linalg.cholesky(Q, lower=True)\n",
    "\n",
    "H = jnp.array([[1., 0, 0, 0], [0, 1., 0, 0]])\n",
    "c = jnp.zeros((2,))\n",
    "R = jnp.array([[sigma**2, 0],[0, sigma**2]])\n",
    "cholR = scipy.linalg.cholesky(R, lower=True)\n",
    "\n",
    "m0 = jnp.array([0 , 0, 1., -1.])  # initial true location\n",
    "chol_P0 = jnp.eye(4)\n",
    "P0 = jnp.eye(4)\n",
    "\n",
    "init = MVNStandard(m0, P0)\n",
    "chol_init = MVNSqrt(m0, chol_P0)\n"
   ]
  },
  {
   "cell_type": "code",
   "execution_count": 3,
   "id": "e7bc9aa4",
   "metadata": {},
   "outputs": [],
   "source": [
    "# initial_states = MVNStandard(jnp.repeat(jnp.array([[0. , 0., 1., -1.]]),T + 1, axis=0),\n",
    "#                                                      jnp.repeat(jnp.eye(4).reshape(1, 4, 4), T + 1, axis=0))\n",
    "# sqrt_initial_states = MVNSqrt(jnp.repeat(jnp.array([[0. , 0., 1., -1.]]),T + 1, axis=0),\n",
    "#                               jnp.repeat(jnp.eye(4).reshape(1, 4, 4), T + 1, axis=0))\n",
    "\n",
    "transition_model = FunctionalModel(partial(lgssm_f, A=F), MVNStandard(b, Q))\n",
    "sqrt_transition_model = FunctionalModel(partial(lgssm_f, A=F), MVNSqrt(b, cholQ))\n",
    "\n",
    "observation_model = FunctionalModel(partial(lgssm_h, H=H), MVNStandard(c, R))\n",
    "sqrt_observation_model = FunctionalModel(partial(lgssm_h, H=H), MVNSqrt(c, cholR))\n"
   ]
  },
  {
   "cell_type": "code",
   "execution_count": null,
   "id": "bebbddd8",
   "metadata": {},
   "outputs": [],
   "source": []
  },
  {
   "cell_type": "code",
   "execution_count": null,
   "id": "53af2a80",
   "metadata": {},
   "outputs": [],
   "source": [
    "ell_seq_fl64 = []\n",
    "for T in Ts:\n",
    "    _, true_states, ys = get_data(x0, dt, r, T, s1, s2)\n",
    "    _, ell = iterated_smoothing(ys, init, transition_model, observation_model,\n",
    "                                          extended, None, False,\n",
    "                                          criterion=lambda i, *_: i < iteration,\n",
    "                                          return_loglikelihood = True)\n",
    "    ell_seq_fl64.append(ell)\n",
    "    "
   ]
  },
  {
   "cell_type": "code",
   "execution_count": null,
   "id": "3320f6ce",
   "metadata": {},
   "outputs": [],
   "source": [
    "jnp.savez(\"ell_float64_extended_runtime1\",\n",
    "          ell_seq = ell_seq_fl64)"
   ]
  },
  {
   "cell_type": "code",
   "execution_count": null,
   "id": "695b0707",
   "metadata": {},
   "outputs": [],
   "source": []
  },
  {
   "cell_type": "raw",
   "id": "a6d20151",
   "metadata": {
    "scrolled": false
   },
   "source": [
    "std_seq_res_64_8e3, ell_seq_64_8e3 = iterated_smoothing(observations, init, transition_model, observation_model,\n",
    "                                          extended, None, False,\n",
    "                                          criterion=lambda i, *_: i < 2,\n",
    "                                          return_loglikelihood = True)\n"
   ]
  },
  {
   "cell_type": "raw",
   "id": "56af47ed",
   "metadata": {},
   "source": [
    "jnp.savez(\"linear_std_seq_res_64_8e3\",\n",
    "          std_seq_res_64_8e3 = std_seq_res_64_8e3.mean,\n",
    "          ell_seq_64_8e3 = ell_seq_64_8e3)"
   ]
  },
  {
   "cell_type": "code",
   "execution_count": null,
   "id": "ebfa20a1",
   "metadata": {},
   "outputs": [],
   "source": []
  },
  {
   "cell_type": "raw",
   "id": "68ee18e5",
   "metadata": {},
   "source": [
    "std_seq_res_32_8e3, ell_seq_32_8e3 = iterated_smoothing(observations, init, transition_model, observation_model,\n",
    "                                          extended, None, False,\n",
    "                                          criterion=lambda i, *_: i < 2,\n",
    "                                          return_loglikelihood = True)"
   ]
  },
  {
   "cell_type": "code",
   "execution_count": 5,
   "id": "e57cb1ee",
   "metadata": {},
   "outputs": [],
   "source": [
    "# std_par_res_32_8e3, ell_par_32_8e3 = iterated_smoothing(observations, init, transition_model, observation_model,\n",
    "#                                           extended, None, True,\n",
    "#                                           criterion=lambda i, *_: i < 2,\n",
    "#                                           return_loglikelihood = True)"
   ]
  },
  {
   "cell_type": "raw",
   "id": "774c470e",
   "metadata": {},
   "source": [
    "jnp.savez(\"linear_std_seq_res_32_8e3\",\n",
    "          std_seq_res_32_8e3 = std_seq_res_32_8e3.mean,\n",
    "          ell_seq_32_8e3 = ell_seq_32_8e3)\n",
    "\n",
    "# jnp.savez(\"linear_std_par_res_32\",\n",
    "#           std_par_res_32 = std_par_res_32.mean,\n",
    "#           ell_par_32 = ell_par_32)"
   ]
  },
  {
   "cell_type": "raw",
   "id": "184f7823",
   "metadata": {},
   "source": [
    "sqr_seq_res_32_8e3, sqr_ell_seq_32_8e3 = iterated_smoothing(observations, chol_init, sqrt_transition_model, sqrt_observation_model,\n",
    "                                          extended, None, False,\n",
    "                                          criterion=lambda i, *_: i < 2,\n",
    "                                          return_loglikelihood = True)\n"
   ]
  },
  {
   "cell_type": "code",
   "execution_count": 8,
   "id": "0cd0616f",
   "metadata": {},
   "outputs": [],
   "source": [
    "# sqr_par_res_32, sqr_ell_par_32 = iterated_smoothing(observations, chol_init, sqrt_transition_model, sqrt_observation_model,\n",
    "#                                           extended, None, True,\n",
    "#                                           criterion=lambda i, *_: i < 1,\n",
    "#                                           return_loglikelihood = True)\n"
   ]
  },
  {
   "cell_type": "raw",
   "id": "4f230096",
   "metadata": {},
   "source": [
    "jnp.savez(\"linear_sqr_seq_res_32_8e3\",\n",
    "          sqr_seq_res_32_8e3 = sqr_seq_res_32_8e3.mean,\n",
    "          sqr_ell_seq_32_8e3 = sqr_ell_seq_32_8e3)\n",
    "\n",
    "# jnp.savez(\"linear_sqr_par_res_32\",\n",
    "#           sqr_par_res_32 = sqr_par_res_32.mean,\n",
    "#           sqr_ell_par_32 = sqr_ell_par_32)"
   ]
  },
  {
   "cell_type": "raw",
   "id": "82dc7123",
   "metadata": {},
   "source": [
    "with np.load(\"linear_std_seq_res_64_8e3.npz\") as loaded:\n",
    "#     fl64_std_seq = loaded[\"std_seq_res_64\"]\n",
    "    fl64_ell_seq_8e3 = loaded[\"ell_seq_64_8e3\"]\n",
    "    \n",
    "with np.load(\"linear_std_seq_res_32_8e3.npz\") as loaded:\n",
    "#     fl32_std_seq = loaded[\"std_seq_res_32\"]\n",
    "    fl32_ell_seq_8e3 = loaded[\"ell_seq_32_8e3\"]\n",
    "    \n",
    "# with np.load(\"linear_std_par_res_32.npz\") as loaded:\n",
    "#     fl32_std_par = loaded[\"std_par_res_32\"]\n",
    "#     fl32_ell_par = loaded[\"ell_par_32\"]\n",
    "    \n",
    "with np.load(\"linear_sqr_seq_res_32_8e3.npz\") as loaded:\n",
    "#     fl32_sqr_seq = loaded[\"sqr_seq_res_32\"]\n",
    "    fl32_sqr_ell_seq_8e3 = loaded[\"sqr_ell_seq_32_8e3\"]\n",
    "    \n",
    "# with np.load(\"linear_sqr_par_res_32.npz\") as loaded:\n",
    "#     fl32_sqr_par = loaded[\"sqr_par_res_32\"]\n",
    "#     fl32_sqr_ell_par = loaded[\"sqr_ell_par_32\"]"
   ]
  },
  {
   "cell_type": "raw",
   "id": "bf0b2de1",
   "metadata": {},
   "source": [
    "RMSE_std_seq = np.sqrt(np.square(np.subtract(fl64_ell_seq_8e3,fl32_ell_seq_8e3)).mean())\n",
    "RMSE_sqr_seq = np.sqrt(np.square(np.subtract(fl64_ell_seq_8e3,fl32_sqr_ell_seq_8e3)).mean())\n",
    "\n",
    "# RMSE_std_par = np.sqrt(np.square(np.subtract(fl64_ell_seq,fl32_ell_par)).mean())\n",
    "# RMSE_sqr_par = np.sqrt(np.square(np.subtract(fl64_ell_seq,fl32_sqr_ell_par)).mean())"
   ]
  },
  {
   "cell_type": "code",
   "execution_count": 6,
   "id": "a59ae3a4",
   "metadata": {},
   "outputs": [],
   "source": [
    "# Parallel\n",
    "\n",
    "Ts = [100, 200, 300, 400, 500, 1000, 1500, 2000, 2500, 3000, 3500, 4000, 4500, 5000, 5500, 6000, 6500, 7000, 7500, 8000]\n",
    "\n",
    "def func(method, Ts, runtime=1, n_iter=20, sqrt=True):\n",
    "    ell_par=[]\n",
    "    for i, T in enumerate(Ts):\n",
    "        ell_par_res=[]\n",
    "        for j in range(runtime):\n",
    "            _, true_states, ys = get_data(x0, dt, r, T, s1, s2)\n",
    "            if sqrt:\n",
    "#                 initial_states_sqrt = MVNSqrt(jnp.repeat(jnp.array([[-1., -1., 6., 4.]]),T + 1, axis=0),\n",
    "#                                           jnp.repeat(jnp.eye(4).reshape(1, 4, 4), T + 1, axis=0))\n",
    "                args = ys, n_iter\n",
    "            \n",
    "            else:\n",
    "#                 initial_states =  MVNStandard(jnp.repeat(jnp.array([[-1., -1., 6., 4.]]),T + 1, axis=0),\n",
    "#                                                                  jnp.repeat(jnp.eye(4).reshape(1, 4, 4), T + 1, axis=0))\n",
    "                args = ys, n_iter\n",
    "                \n",
    "            \n",
    "            _, ell = method(*args)\n",
    "\n",
    "            ell_par_res.append(ell)\n",
    "            \n",
    "        ell_par.append(ell_par_res)\n",
    "\n",
    "    return ell_par"
   ]
  },
  {
   "cell_type": "code",
   "execution_count": 7,
   "id": "42fba960",
   "metadata": {},
   "outputs": [],
   "source": [
    "def IEKS_std_par(observations, iteration):\n",
    "    std_par_res, ell = iterated_smoothing(observations, init, transition_model, observation_model,\n",
    "                                          extended, None, True,\n",
    "                                          criterion=lambda i, *_: i < iteration,\n",
    "                                          return_loglikelihood = True)\n",
    "    return std_par_res, ell\n",
    "\n",
    "\n",
    "def IEKS_sqrt_par(observations, iteration):\n",
    "    sqrt_par_res, ell = iterated_smoothing(observations, chol_init, sqrt_transition_model, sqrt_observation_model,\n",
    "                                           extended, None, True,\n",
    "                                           criterion=lambda i, *_: i < iteration,\n",
    "                                           return_loglikelihood = True)\n",
    "    return sqrt_par_res, ell\n",
    "\n"
   ]
  },
  {
   "cell_type": "code",
   "execution_count": null,
   "id": "2b8db648",
   "metadata": {},
   "outputs": [],
   "source": [
    "gpu_IEKS_std_par = jit(IEKS_std_par, backend=\"gpu\")\n",
    "gpu_IEKS_sqrt_par = jit(IEKS_sqrt_par, backend=\"gpu\")"
   ]
  },
  {
   "cell_type": "code",
   "execution_count": null,
   "id": "63a3f275",
   "metadata": {},
   "outputs": [],
   "source": [
    "gpu_IEKS_std_par_ell = func(gpu_IEKS_std_par, Ts, sqrt=False)"
   ]
  },
  {
   "cell_type": "code",
   "execution_count": 15,
   "id": "d3d17893",
   "metadata": {},
   "outputs": [
    {
     "data": {
      "text/plain": [
       "4294967000.0"
      ]
     },
     "execution_count": 15,
     "metadata": {},
     "output_type": "execute_result"
    }
   ],
   "source": [
    "gpu_IEKS_sqrt_par_ell = func(gpu_IEKS_sqrt_par, Ts, sqrt=True)"
   ]
  },
  {
   "cell_type": "code",
   "execution_count": null,
   "id": "5756e6d6",
   "metadata": {},
   "outputs": [],
   "source": [
    "jnp.savez(\"ell_float32_extended_runtime1\",\n",
    "          gpu_IEKS_std_par_ell = gpu_IEKS_std_par_ell,\n",
    "          gpu_IEKS_sqrt_par_ell = gpu_IEKS_sqrt_par_ell)"
   ]
  }
 ],
 "metadata": {
  "kernelspec": {
   "display_name": "Python 3 (ipykernel)",
   "language": "python",
   "name": "python3"
  },
  "language_info": {
   "codemirror_mode": {
    "name": "ipython",
    "version": 3
   },
   "file_extension": ".py",
   "mimetype": "text/x-python",
   "name": "python",
   "nbconvert_exporter": "python",
   "pygments_lexer": "ipython3",
   "version": "3.8.8"
  }
 },
 "nbformat": 4,
 "nbformat_minor": 5
}