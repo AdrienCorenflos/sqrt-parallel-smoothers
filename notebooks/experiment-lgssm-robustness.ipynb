{
 "cells": [
  {
   "cell_type": "code",
   "execution_count": 3,
   "id": "b43a929d",
   "metadata": {},
   "outputs": [],
   "source": [
    "import sys\n",
    "sys.path.append('..//')\n",
    "\n",
    "import jax\n",
    "import jax.numpy as jnp\n",
    "import numpy as np\n",
    "import scipy.linalg \n",
    "from functools import partial\n",
    "import matplotlib.pyplot as plt\n",
    "\n",
    "# jax.config.update(\"jax_enable_x64\", True)\n",
    "jax.config.update(\"jax_enable_x64\", False)\n",
    "\n",
    "from parsmooth.methods import iterated_smoothing\n",
    "from parsmooth._base import MVNStandard, FunctionalModel, MVNSqrt\n",
    "# from tests._lgssm import transition_function as lgssm_f, observation_function as lgssm_h, get_data\n",
    "from LGSSM import transition_function as lgssm_f, observation_function as lgssm_h, get_data"
   ]
  },
  {
   "cell_type": "markdown",
   "id": "1df7e00a",
   "metadata": {},
   "source": [
    "ell for sequential method as ground truth data"
   ]
  },
  {
   "cell_type": "code",
   "execution_count": 4,
   "id": "2312b084",
   "metadata": {},
   "outputs": [
    {
     "name": "stderr",
     "output_type": "stream",
     "text": [
      "WARNING:absl:No GPU/TPU found, falling back to CPU. (Set TF_CPP_MIN_LOG_LEVEL=0 and rerun for more info.)\n"
     ]
    }
   ],
   "source": [
    "# Model parameters from \"Temporal parallelization of Bayesian smoothers\" paper.\n",
    "T = 2000\n",
    "dt = 0.1\n",
    "sigma = 0.5\n",
    "q = 1\n",
    "F = jnp.array ([[1, 0, dt, 0 ],\n",
    "               [0, 1, 0,  dt],\n",
    "               [0, 0, 1,  0 ],\n",
    "               [0, 0, 0,  1 ]])\n",
    "b = jnp.zeros((4,))\n",
    "Q = q * np.array([[dt**3/3,    0,         dt**2/2,   0      ],\n",
    "                  [0,          dt**3/3,   0,         dt**2/2],\n",
    "                  [dt**2/2,    0,         dt,        0      ],\n",
    "                  [0,          dt**2/2,   0,         dt     ]])\n",
    "cholQ = scipy.linalg.cholesky(Q, lower=True)\n",
    "\n",
    "H = jnp.array([[1, 0, 0, 0], [0, 1, 0, 0]])\n",
    "c = jnp.zeros((2,))\n",
    "R = jnp.array([[sigma**2, 0],[0, sigma**2]])\n",
    "cholR = scipy.linalg.cholesky(R, lower=True)\n",
    "\n",
    "m0 = jnp.array([0 , 0, 1, -1])  # initial true location\n",
    "chol_P0 = jnp.eye(4)\n",
    "P0 = jnp.eye(4)\n",
    "\n",
    "init = MVNStandard(m0, P0)\n",
    "chol_init = MVNSqrt(m0, chol_P0)\n",
    "\n",
    "true_states, observations = get_data(m0, F, H, R, Q, b, c, T)"
   ]
  },
  {
   "cell_type": "code",
   "execution_count": 5,
   "id": "e7bc9aa4",
   "metadata": {},
   "outputs": [],
   "source": [
    "transition_function = FunctionalModel(partial(lgssm_f, A=F), MVNSqrt(b, cholQ))\n",
    "observation_function = FunctionalModel(partial(lgssm_h, H=H), MVNSqrt(c, cholR))\n",
    "\n",
    "transition_model = FunctionalModel(partial(lgssm_f, A=F), MVNStandard(b, Q))\n",
    "observation_model = FunctionalModel(partial(lgssm_h, H=H), MVNStandard(c, R))\n",
    "\n",
    "\n",
    "initial_states = MVNStandard(jnp.repeat(jnp.array([[0. , 0., 1., -1.]]),T + 1, axis=0),\n",
    "                                                     jnp.repeat(jnp.eye(4).reshape(1, 4, 4), T + 1, axis=0))\n",
    "initial_states_sqrt = MVNSqrt(jnp.repeat(jnp.array([[0. , 0., 1., -1.]]),T + 1, axis=0),\n",
    "                              jnp.repeat(jnp.eye(4).reshape(1, 4, 4), T + 1, axis=0))\n",
    "\n",
    "\n",
    "sqrt_transition_model = FunctionalModel(transition_function, MVNSqrt(jnp.zeros((4,)), cholQ))\n",
    "transition_model = FunctionalModel(transition_function, MVNStandard(jnp.zeros((4,)), Q))\n",
    "\n",
    "sqrt_observation_model = FunctionalModel(observation_function, MVNSqrt(jnp.zeros((2,)), cholR))\n",
    "observation_model = FunctionalModel(observation_function, MVNStandard(jnp.zeros((2,)), R))"
   ]
  },
  {
   "cell_type": "code",
   "execution_count": 6,
   "id": "a59ae3a4",
   "metadata": {},
   "outputs": [],
   "source": [
    "# Parallel\n",
    "\n",
    "Ts = [100, 200, 300, 400, 500, 1000, 1500, 2000, 2500, 3000, 3500, 4000, 4500, 5000, 5500, 6000, 6500, 7000, 7500, 8000]\n",
    "\n",
    "\n",
    "def func(method, Ts, runtime=15, n_iter=20, sqrt=True):\n",
    "    ell_par=[]\n",
    "    for i, T in enumerate(Ts):\n",
    "        ell_par_res=[]\n",
    "        for j in range(runtime):\n",
    "            _, true_states, ys = get_data(x0, dt, r, T, s1, s2)\n",
    "            if sqrt:\n",
    "                initial_states_sqrt = MVNSqrt(jnp.repeat(jnp.array([[-1., -1., 6., 4.]]),T + 1, axis=0),\n",
    "                                          jnp.repeat(jnp.eye(4).reshape(1, 4, 4), T + 1, axis=0))\n",
    "                args = ys, initial_states_sqrt, n_iter\n",
    "            \n",
    "            else:\n",
    "                initial_states =  MVNStandard(jnp.repeat(jnp.array([[-1., -1., 6., 4.]]),T + 1, axis=0),\n",
    "                                                                 jnp.repeat(jnp.eye(4).reshape(1, 4, 4), T + 1, axis=0))\n",
    "                args = ys, initial_states, n_iter\n",
    "                \n",
    "            \n",
    "            _, ell = method(*args)\n",
    "\n",
    "            ell_par_res.append(ell)\n",
    "            \n",
    "        ell_par.append(ell_par_res)\n",
    "\n",
    "    return ell_par"
   ]
  },
  {
   "cell_type": "code",
   "execution_count": 7,
   "id": "42fba960",
   "metadata": {},
   "outputs": [],
   "source": [
    "def IEKS_std_par(observations, initial_points, iteration):\n",
    "    std_par_res, ell = iterated_smoothing(observations, init, transition_model, observation_model,\n",
    "                                          extended, initial_points, False,\n",
    "                                          criterion=lambda i, *_: i < iteration,\n",
    "                                          return_loglikelihood = True)\n",
    "    return std_par_res, ell\n",
    "\n",
    "\n",
    "def IEKS_sqrt_par(observations, initial_points_sqrt, iteration):\n",
    "    sqrt_par_res, ell = iterated_smoothing(observations, chol_init, sqrt_transition_model, sqrt_observation_model,\n",
    "                                           extended, initial_points_sqrt, False,\n",
    "                                           criterion=lambda i, *_: i < iteration,\n",
    "                                           return_loglikelihood = True)\n",
    "    return sqrt_par_res, ell\n",
    "\n"
   ]
  },
  {
   "cell_type": "code",
   "execution_count": null,
   "id": "2b8db648",
   "metadata": {},
   "outputs": [],
   "source": [
    "gpu_IEKS_std_par = jit(IEKS_std_par, backend=\"gpu\")\n",
    "gpu_IEKS_sqrt_par = jit(IEKS_sqrt_par, backend=\"gpu\")"
   ]
  },
  {
   "cell_type": "code",
   "execution_count": null,
   "id": "63a3f275",
   "metadata": {},
   "outputs": [],
   "source": [
    "gpu_IEKS_std_par_ell = func(gpu_IEKS_std_par, Ts, sqrt=False)"
   ]
  }
 ],
 "metadata": {
  "kernelspec": {
   "display_name": "Python 3",
   "language": "python",
   "name": "python3"
  },
  "language_info": {
   "codemirror_mode": {
    "name": "ipython",
    "version": 3
   },
   "file_extension": ".py",
   "mimetype": "text/x-python",
   "name": "python",
   "nbconvert_exporter": "python",
   "pygments_lexer": "ipython3",
   "version": "3.8.8"
  }
 },
 "nbformat": 4,
 "nbformat_minor": 5
}
