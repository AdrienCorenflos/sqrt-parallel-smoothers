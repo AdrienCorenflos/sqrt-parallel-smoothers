{
 "cells": [
  {
   "cell_type": "code",
   "execution_count": 1,
   "metadata": {},
   "outputs": [],
   "source": [
    "import sys\n",
    "sys.path.append('..//')\n",
    "\n",
    "import jax\n",
    "from jax import jit\n",
    "import jax.numpy as jnp\n",
    "\n",
    "jax.config.update(\"jax_enable_x64\", True)\n",
    "\n",
    "from parsmooth._base import MVNStandard, FunctionalModel, MVNSqrt\n",
    "from parsmooth.linearization import cubature, extended, gauss_hermite\n",
    "from parsmooth.methods import iterated_smoothing\n",
    "from bearing_data import get_data, make_parameters\n"
   ]
  },
  {
   "cell_type": "code",
   "execution_count": 1,
   "metadata": {
    "scrolled": true
   },
   "outputs": [],
   "source": [
    "s1 = jnp.array([-1.5, 0.5])  # First sensor location\n",
    "s2 = jnp.array([1., 1.])  # Second sensor location\n",
    "r = 0.5  # Observation noise (stddev)\n",
    "x0 = jnp.array([0.1, 0.2, 1, 0])  # initial true location\n",
    "dt = 0.01  # discretization time step\n",
    "qc = 0.01  # discretization noise\n",
    "qw = 0.1  # discretization noise\n",
    "\n",
    "Q, R, observation_function, transition_function = make_parameters(qc, qw, r, dt, s1, s2)\n",
    "\n",
    "chol_Q = jnp.linalg.cholesky(Q)\n",
    "chol_R = jnp.linalg.cholesky(R)\n",
    "\n",
    "m0 = jnp.array([-4., -1., 2., 7., 3.])\n",
    "chol_P0 = jnp.eye(5)\n",
    "P0 = jnp.eye(5)\n",
    "\n",
    "init = MVNStandard(m0, P0)\n",
    "chol_init = MVNSqrt(m0, chol_P0)\n",
    "\n",
    "\n",
    "sqrt_transition_model = FunctionalModel(transition_function, MVNSqrt(jnp.zeros((5,)), chol_Q))\n",
    "transition_model = FunctionalModel(transition_function, MVNStandard(jnp.zeros((5,)), Q))\n",
    "\n",
    "sqrt_observation_model = FunctionalModel(observation_function, MVNSqrt(jnp.zeros((2,)), chol_R))\n",
    "observation_model = FunctionalModel(observation_function, MVNStandard(jnp.zeros((2,)), R))"
   ]
  },
  {
   "cell_type": "code",
   "execution_count": 3,
   "metadata": {},
   "outputs": [],
   "source": [
    "# Parallel\n",
    "\n",
    "Ts = [100, 200, 300, 400, 500, 1000, 1500, 2000, 2500, 3000, 3500, 4000, 4500, 5000, 5500, 6000, 6500, 7000, 7500, 8000]\n",
    "\n",
    "\n",
    "def func(method, Ts, runtime=15, n_iter=20, sqrt=True):\n",
    "    ell_par=[]\n",
    "    for i, T in enumerate(Ts):\n",
    "        ell_par_res=[]\n",
    "        for j in range(runtime):\n",
    "            _, true_states, ys = get_data(x0, dt, r, T, s1, s2)\n",
    "            if sqrt:\n",
    "                initial_states_sqrt = MVNSqrt(jnp.repeat(jnp.array([[-1., -1., 6., 4., 2.]]),T + 1, axis=0),\n",
    "                                          jnp.repeat(jnp.eye(5).reshape(1, 5, 5), T + 1, axis=0))\n",
    "                args = ys, initial_states_sqrt, n_iter\n",
    "            \n",
    "            else:\n",
    "                initial_states =  MVNStandard(jnp.repeat(jnp.array([[-1., -1., 6., 4., 2.]]),T + 1, axis=0),\n",
    "                                                                 jnp.repeat(jnp.eye(5).reshape(1, 5, 5), T + 1, axis=0))\n",
    "                args = ys, initial_states, n_iter\n",
    "                \n",
    "            \n",
    "            _, ell = method(*args)\n",
    "\n",
    "            ell_par_res.append(ell)\n",
    "            \n",
    "        ell_par.append(ell_par_res)\n",
    "\n",
    "    return ell_par\n"
   ]
  },
  {
   "cell_type": "markdown",
   "metadata": {},
   "source": [
    "# Extended"
   ]
  },
  {
   "cell_type": "code",
   "execution_count": 4,
   "metadata": {},
   "outputs": [],
   "source": [
    "def IEKS_std_par(observations, initial_points, iteration):\n",
    "    std_par_res, ell = iterated_smoothing(observations, init, transition_model, observation_model,\n",
    "                                          extended, initial_points, True,\n",
    "                                          criterion=lambda i, *_: i < iteration,\n",
    "                                          return_loglikelihood = True)\n",
    "    return std_par_res, ell\n",
    "\n",
    "\n",
    "def IEKS_sqrt_par(observations, initial_points_sqrt, iteration):\n",
    "    sqrt_par_res, ell = iterated_smoothing(observations, chol_init, sqrt_transition_model, sqrt_observation_model,\n",
    "                                           extended, initial_points_sqrt, True,\n",
    "                                           criterion=lambda i, *_: i < iteration,\n",
    "                                           return_loglikelihood = True)\n",
    "    return sqrt_par_res, ell"
   ]
  },
  {
   "cell_type": "code",
   "execution_count": 5,
   "metadata": {},
   "outputs": [],
   "source": [
    "gpu_IEKS_std_par = jit(IEKS_std_par, backend=\"gpu\")\n",
    "gpu_IEKS_sqrt_par = jit(IEKS_sqrt_par, backend=\"gpu\")"
   ]
  },
  {
   "cell_type": "code",
   "execution_count": 2,
   "metadata": {},
   "outputs": [],
   "source": [
    "gpu_IEKS_std_par_ell = func(gpu_IEKS_std_par, Ts, sqrt=False)"
   ]
  },
  {
   "cell_type": "code",
   "execution_count": 3,
   "metadata": {},
   "outputs": [],
   "source": [
    "gpu_IEKS_sqrt_par_ell = func(gpu_IEKS_sqrt_par, Ts, sqrt=True)"
   ]
  },
  {
   "cell_type": "code",
   "execution_count": 8,
   "metadata": {},
   "outputs": [],
   "source": [
    "jnp.savez(\"ell_float64_extended_runtime15\",\n",
    "          gpu_IEKS_std_par_ell = gpu_IEKS_std_par_ell,\n",
    "          gpu_IEKS_sqrt_par_ell = gpu_IEKS_sqrt_par_ell)"
   ]
  },
  {
   "cell_type": "markdown",
   "metadata": {},
   "source": [
    "# Cubature"
   ]
  },
  {
   "cell_type": "code",
   "execution_count": 3,
   "metadata": {},
   "outputs": [],
   "source": [
    "def ICKS_std_par(observations, initial_points, iteration):\n",
    "    std_par_res, ell = iterated_smoothing(observations, init, transition_model, observation_model,\n",
    "                                                 cubature, initial_points, True,\n",
    "                                                 criterion=lambda i, *_: i < iteration,\n",
    "                                                 return_loglikelihood = True)\n",
    "    return std_par_res, ell\n",
    "\n",
    "\n",
    "def ICKS_sqrt_par(observations, initial_points_sqrt, iteration):\n",
    "    sqrt_par_res, ell = iterated_smoothing(observations, chol_init, sqrt_transition_model, sqrt_observation_model,\n",
    "                                                      cubature, initial_points_sqrt, True,\n",
    "                                                      criterion=lambda i, *_: i < iteration,\n",
    "                                                      return_loglikelihood = True)\n",
    "    return sqrt_par_res, ell"
   ]
  },
  {
   "cell_type": "code",
   "execution_count": 5,
   "metadata": {},
   "outputs": [],
   "source": [
    "gpu_ICKS_std_par = jit(ICKS_std_par, backend=\"gpu\")\n",
    "gpu_ICKS_sqrt_par = jit(ICKS_sqrt_par, backend=\"gpu\")"
   ]
  },
  {
   "cell_type": "code",
   "execution_count": 2,
   "metadata": {},
   "outputs": [],
   "source": [
    "gpu_ICKS_std_par_ell = func(gpu_ICKS_std_par, Ts, sqrt=False)"
   ]
  },
  {
   "cell_type": "code",
   "execution_count": 3,
   "metadata": {},
   "outputs": [],
   "source": [
    "gpu_ICKS_sqrt_par_ell = func(gpu_ICKS_sqrt_par, Ts, sqrt=True)"
   ]
  },
  {
   "cell_type": "code",
   "execution_count": 8,
   "metadata": {},
   "outputs": [],
   "source": [
    "jnp.savez(\"ell_float64_cubature_runtime15\",\n",
    "          gpu_ICKS_std_par_ell = gpu_ICKS_std_par_ell,\n",
    "          gpu_ICKS_sqrt_par_ell = gpu_ICKS_sqrt_par_ell)"
   ]
  },
  {
   "cell_type": "code",
   "execution_count": 10,
   "metadata": {},
   "outputs": [],
   "source": [
    "jnp.savez(\"ell_float64_cubature_runtime1\",\n",
    "          gpu_ICKS_std_par_ell = gpu_ICKS_std_par_ell,\n",
    "          gpu_ICKS_sqrt_par_ell = gpu_ICKS_sqrt_par_ell)"
   ]
  },
  {
   "cell_type": "code",
   "execution_count": 8,
   "metadata": {},
   "outputs": [],
   "source": [
    "jnp.savez(\"ell_float32_cubature_runtime15\",\n",
    "          gpu_ICKS_std_par_ell = gpu_ICKS_std_par_ell,\n",
    "          gpu_ICKS_sqrt_par_ell = gpu_ICKS_sqrt_par_ell)\n"
   ]
  }
 ],
 "metadata": {
  "kernelspec": {
   "display_name": "Python 3 (ipykernel)",
   "language": "python",
   "name": "python3"
  },
  "language_info": {
   "codemirror_mode": {
    "name": "ipython",
    "version": 3
   },
   "file_extension": ".py",
   "mimetype": "text/x-python",
   "name": "python",
   "nbconvert_exporter": "python",
   "pygments_lexer": "ipython3",
   "version": "3.8.8"
  }
 },
 "nbformat": 4,
 "nbformat_minor": 1
}