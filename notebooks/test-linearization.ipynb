{
 "cells": [
  {
   "cell_type": "code",
   "execution_count": 46,
   "metadata": {
    "pycharm": {
     "name": "#%%\n"
    }
   },
   "outputs": [],
   "source": [
    "import sys\n",
    "sys.path.append('..//')\n",
    "\n",
    "import jax\n",
    "import numpy as np\n",
    "import jax.numpy as jnp\n",
    "import scipy\n",
    "from scipy.optimize import minimize\n",
    "import matplotlib.pyplot as plt\n",
    "import pandas as pd\n",
    "\n",
    "jax.config.update(\"jax_enable_x64\", True)\n",
    "\n",
    "from parsmooth._base import MVNStandard, FunctionalModel, MVNSqrt\n",
    "from parsmooth._base import MVNStandard, FunctionalModel, MVNSqrt, ConditionalMomentsModel\n",
    "from parsmooth.linearization import extended, unscented, cubature, gauss_hermite\n",
    "from parsmooth.methods import iterated_smoothing\n",
    "from bearing_data_pe import get_data, make_parameters, inverse_bearings\n",
    "jax.config.update('jax_platform_name', 'cpu')"
   ]
  },
  {
   "cell_type": "code",
   "execution_count": null,
   "outputs": [],
   "source": [],
   "metadata": {
    "collapsed": false,
    "pycharm": {
     "name": "#%%\n"
    }
   }
  },
  {
   "cell_type": "code",
   "execution_count": 2,
   "metadata": {
    "pycharm": {
     "name": "#%%\n"
    }
   },
   "outputs": [],
   "source": [
    "def nonlinear_function(x):\n",
    "    return (x**3 + 1)/ (x**2 + 3) + jnp.sin(x)\n"
   ]
  },
  {
   "cell_type": "code",
   "execution_count": 3,
   "outputs": [
    {
     "data": {
      "text/plain": "[<matplotlib.lines.Line2D at 0x7f4e843b4340>]"
     },
     "execution_count": 3,
     "metadata": {},
     "output_type": "execute_result"
    },
    {
     "data": {
      "text/plain": "<Figure size 432x288 with 1 Axes>",
      "image/png": "[encoded data removed]"
     },
     "metadata": {
      "needs_background": "light"
     },
     "output_type": "display_data"
    }
   ],
   "source": [
    "t = jnp.linspace(0.1,10)\n",
    "plt.plot(t, nonlinear_function(t),'o-')"
   ],
   "metadata": {
    "collapsed": false,
    "pycharm": {
     "name": "#%%\n"
    }
   }
  },
  {
   "cell_type": "code",
   "execution_count": 42,
   "outputs": [
    {
     "data": {
      "text/plain": "DeviceArray([ 0.1       ,  0.30204082,  0.50408163,  0.70612245,\n              0.90816327,  1.11020408,  1.3122449 ,  1.51428571,\n              1.71632653,  1.91836735,  2.12040816,  2.32244898,\n              2.5244898 ,  2.72653061,  2.92857143,  3.13061224,\n              3.33265306,  3.53469388,  3.73673469,  3.93877551,\n              4.14081633,  4.34285714,  4.54489796,  4.74693878,\n              4.94897959,  5.15102041,  5.35306122,  5.55510204,\n              5.75714286,  5.95918367,  6.16122449,  6.36326531,\n              6.56530612,  6.76734694,  6.96938776,  7.17142857,\n              7.37346939,  7.5755102 ,  7.77755102,  7.97959184,\n              8.18163265,  8.38367347,  8.58571429,  8.7877551 ,\n              8.98979592,  9.19183673,  9.39387755,  9.59591837,\n              9.79795918, 10.        ], dtype=float64)"
     },
     "execution_count": 42,
     "metadata": {},
     "output_type": "execute_result"
    }
   ],
   "source": [
    "t"
   ],
   "metadata": {
    "collapsed": false,
    "pycharm": {
     "name": "#%%\n"
    }
   }
  },
  {
   "cell_type": "code",
   "execution_count": 11,
   "outputs": [
    {
     "data": {
      "text/plain": "array([[0.67361432]])"
     },
     "execution_count": 11,
     "metadata": {},
     "output_type": "execute_result"
    }
   ],
   "source": [
    " np.random.rand(1, 1)"
   ],
   "metadata": {
    "collapsed": false,
    "pycharm": {
     "name": "#%%\n"
    }
   }
  },
  {
   "cell_type": "code",
   "execution_count": 43,
   "outputs": [
    {
     "name": "stdout",
     "output_type": "stream",
     "text": [
      "x:    0.1\n",
      "F_gauss_hermite:  [[0.98292537]] b_gauss_hermite:  [0.33409303]\n",
      "F_cubature:  [[0.98289116]] b_cubature:  [0.33409645]\n",
      "F_extended:  [[0.98287406]] b_extended:  [0.33410415]\n",
      "F_unscented:  [[0.98295957]] b_unscented:  [0.33408961]\n",
      "x:    0.30204081632653057\n",
      "F_gauss_hermite:  [[0.97834526]] b_gauss_hermite:  [0.3343821]\n",
      "F_cubature:  [[0.97832099]] b_cubature:  [0.33438944]\n",
      "F_extended:  [[0.97830885]] b_extended:  [0.33438988]\n",
      "F_unscented:  [[0.97836952]] b_unscented:  [0.33437477]\n",
      "x:    0.5040816326530612\n",
      "F_gauss_hermite:  [[1.00248049]] b_gauss_hermite:  [0.32434556]\n",
      "F_cubature:  [[1.00247577]] b_cubature:  [0.32434794]\n",
      "F_extended:  [[1.00247341]] b_extended:  [0.32434139]\n",
      "F_unscented:  [[1.00248521]] b_unscented:  [0.32434318]\n",
      "x:    0.7061224489795918\n",
      "F_gauss_hermite:  [[1.03241163]] b_gauss_hermite:  [0.30634723]\n",
      "F_cubature:  [[1.03242647]] b_cubature:  [0.30633675]\n",
      "F_extended:  [[1.03243388]] b_extended:  [0.30632542]\n",
      "F_unscented:  [[1.0323968]] b_unscented:  [0.30635769]\n",
      "x:    0.9081632653061223\n",
      "F_gauss_hermite:  [[1.04490508]] b_gauss_hermite:  [0.29671819]\n",
      "F_cubature:  [[1.04493268]] b_cubature:  [0.29669313]\n",
      "F_extended:  [[1.04494648]] b_extended:  [0.29668114]\n",
      "F_unscented:  [[1.04487748]] b_unscented:  [0.29674325]\n",
      "x:    1.1102040816326528\n",
      "F_gauss_hermite:  [[1.02450611]] b_gauss_hermite:  [0.31793307]\n",
      "F_cubature:  [[1.02453784]] b_cubature:  [0.31789784]\n",
      "F_extended:  [[1.02455371]] b_extended:  [0.31788997]\n",
      "F_unscented:  [[1.02447438]] b_unscented:  [0.31796829]\n",
      "x:    1.3122448979591834\n",
      "F_gauss_hermite:  [[0.96598013]] b_gauss_hermite:  [0.38945691]\n",
      "F_cubature:  [[0.96600892]] b_cubature:  [0.38941914]\n",
      "F_extended:  [[0.96602332]] b_extended:  [0.38941931]\n",
      "F_unscented:  [[0.96595134]] b_unscented:  [0.38949469]\n",
      "x:    1.514285714285714\n",
      "F_gauss_hermite:  [[0.87264996]] b_gauss_hermite:  [0.52188137]\n",
      "F_cubature:  [[0.8726714]] b_cubature:  [0.5218489]\n",
      "F_extended:  [[0.87268213]] b_extended:  [0.52185943]\n",
      "F_unscented:  [[0.87262852]] b_unscented:  [0.52191384]\n",
      "x:    1.7163265306122448\n",
      "F_gauss_hermite:  [[0.7532649]] b_gauss_hermite:  [0.71507251]\n",
      "F_cubature:  [[0.75327697]] b_cubature:  [0.71505178]\n",
      "F_extended:  [[0.75328301]] b_extended:  [0.71507328]\n",
      "F_unscented:  [[0.75325282]] b_unscented:  [0.71509323]\n",
      "x:    1.9183673469387754\n",
      "F_gauss_hermite:  [[0.61912667]] b_gauss_hermite:  [0.95899633]\n",
      "F_cubature:  [[0.61912901]] b_cubature:  [0.95899184]\n",
      "F_extended:  [[0.61913018]] b_extended:  [0.95902364]\n",
      "F_unscented:  [[0.61912433]] b_unscented:  [0.95900081]\n",
      "x:    2.1204081632653056\n",
      "F_gauss_hermite:  [[0.4820598]] b_gauss_hermite:  [1.23573974]\n",
      "F_cubature:  [[0.48205302]] b_cubature:  [1.23575411]\n",
      "F_extended:  [[0.48204963]] b_extended:  [1.23579465]\n",
      "F_unscented:  [[0.48206658]] b_unscented:  [1.23572536]\n",
      "x:    2.3224489795918366\n",
      "F_gauss_hermite:  [[0.35317528]] b_gauss_hermite:  [1.52182293]\n",
      "F_cubature:  [[0.35316055]] b_cubature:  [1.52185715]\n",
      "F_extended:  [[0.35315318]] b_extended:  [1.52190431]\n",
      "F_unscented:  [[0.35319002]] b_unscented:  [1.52178872]\n",
      "x:    2.5244897959183668\n",
      "F_gauss_hermite:  [[0.24218473]] b_gauss_hermite:  [1.79043112]\n",
      "F_cubature:  [[0.24216349]] b_cubature:  [1.79048474]\n",
      "F_extended:  [[0.24215287]] b_extended:  [1.79053611]\n",
      "F_unscented:  [[0.24220597]] b_unscented:  [1.7903775]\n",
      "x:    2.726530612244898\n",
      "F_gauss_hermite:  [[0.15704321]] b_gauss_hermite:  [2.01347901]\n",
      "F_cubature:  [[0.15701704]] b_cubature:  [2.01355036]\n",
      "F_extended:  [[0.15700396]] b_extended:  [2.01360336]\n",
      "F_unscented:  [[0.15706937]] b_unscented:  [2.01340768]\n",
      "x:    2.9285714285714284\n",
      "F_gauss_hermite:  [[0.10377549]] b_gauss_hermite:  [2.16351946]\n",
      "F_cubature:  [[0.10374603]] b_cubature:  [2.16360572]\n",
      "F_extended:  [[0.10373131]] b_extended:  [2.16365771]\n",
      "F_unscented:  [[0.10380494]] b_unscented:  [2.16343321]\n",
      "x:    3.130612244897959\n",
      "F_gauss_hermite:  [[0.08640671]] b_gauss_hermite:  [2.21551217]\n",
      "F_cubature:  [[0.08637561]] b_cubature:  [2.21560954]\n",
      "F_extended:  [[0.08636006]] b_extended:  [2.21565787]\n",
      "F_unscented:  [[0.08643781]] b_unscented:  [2.21541481]\n",
      "x:    3.3326530612244896\n",
      "F_gauss_hermite:  [[0.10696102]] b_gauss_hermite:  [2.14844317]\n",
      "F_cubature:  [[0.10692986]] b_cubature:  [2.148547]\n",
      "F_extended:  [[0.10691429]] b_extended:  [2.1485891]\n",
      "F_unscented:  [[0.10699218]] b_unscented:  [2.14833934]\n",
      "x:    3.5346938775510197\n",
      "F_gauss_hermite:  [[0.16551447]] b_gauss_hermite:  [1.94675937]\n",
      "F_cubature:  [[0.16548477]] b_cubature:  [1.94686436]\n",
      "F_extended:  [[0.16546991]] b_extended:  [1.94689777]\n",
      "F_unscented:  [[0.16554417]] b_unscented:  [1.94665439]\n",
      "x:    3.7367346938775508\n",
      "F_gauss_hermite:  [[0.2602985]] b_gauss_hermite:  [1.6015659]\n",
      "F_cubature:  [[0.26027163]] b_cubature:  [1.60166628]\n",
      "F_extended:  [[0.2602582]] b_extended:  [1.60168878]\n",
      "F_unscented:  [[0.26032536]] b_unscented:  [1.60146553]\n",
      "x:    3.938775510204081\n",
      "F_gauss_hermite:  [[0.38785316]] b_gauss_hermite:  [1.11152802]\n",
      "F_cubature:  [[0.38783035]] b_cubature:  [1.11161784]\n",
      "F_extended:  [[0.38781895]] b_extended:  [1.11162751]\n",
      "F_unscented:  [[0.38787596]] b_unscented:  [1.11143821]\n",
      "x:    4.1408163265306115\n",
      "F_gauss_hermite:  [[0.54322857]] b_gauss_hermite:  [0.48342336]\n",
      "F_cubature:  [[0.54321085]] b_cubature:  [0.48349676]\n",
      "F_extended:  [[0.54320198]] b_extended:  [0.48349206]\n",
      "F_unscented:  [[0.5432463]] b_unscented:  [0.48334996]\n",
      "x:    4.3428571428571425\n",
      "F_gauss_hermite:  [[0.72023111]] b_gauss_hermite:  [-0.26769892]\n",
      "F_cubature:  [[0.72021925]] b_cubature:  [-0.26764739]\n",
      "F_extended:  [[0.72021332]] b_extended:  [-0.26766754]\n",
      "F_unscented:  [[0.72024298]] b_unscented:  [-0.26775044]\n",
      "x:    4.544897959183674\n",
      "F_gauss_hermite:  [[0.91170814]] b_gauss_hermite:  [-1.1187789]\n",
      "F_cubature:  [[0.91170266]] b_cubature:  [-1.11875402]\n",
      "F_extended:  [[0.91169992]] b_extended:  [-1.11879013]\n",
      "F_unscented:  [[0.91171361]] b_unscented:  [-1.11880378]\n",
      "x:    4.746938775510204\n",
      "F_gauss_hermite:  [[1.10986283]] b_gauss_hermite:  [-2.03943407]\n",
      "F_cubature:  [[1.109864]] b_cubature:  [-2.03943962]\n",
      "F_extended:  [[1.10986459]] b_extended:  [-2.03949159]\n",
      "F_unscented:  [[1.10986166]] b_unscented:  [-2.03942852]\n",
      "x:    4.948979591836734\n",
      "F_gauss_hermite:  [[1.30658871]] b_gauss_hermite:  [-2.99306044]\n",
      "F_cubature:  [[1.3065965]] b_cubature:  [-2.99309897]\n",
      "F_extended:  [[1.30660039]] b_extended:  [-2.99316607]\n",
      "F_unscented:  [[1.30658093]] b_unscented:  [-2.99302191]\n",
      "x:    5.151020408163264\n",
      "F_gauss_hermite:  [[1.49381187]] b_gauss_hermite:  [-3.9383109]\n",
      "F_cubature:  [[1.49382597]] b_cubature:  [-3.93838352]\n",
      "F_extended:  [[1.49383302]] b_extended:  [-3.93846435]\n",
      "F_unscented:  [[1.49379777]] b_unscented:  [-3.93823829]\n",
      "x:    5.353061224489796\n",
      "F_gauss_hermite:  [[1.66382848]] b_gauss_hermite:  [-4.83089371]\n",
      "F_cubature:  [[1.66384832]] b_cubature:  [-4.83099995]\n",
      "F_extended:  [[1.66385825]] b_extended:  [-4.83109242]\n",
      "F_unscented:  [[1.66380863]] b_unscented:  [-4.83078748]\n",
      "x:    5.555102040816326\n",
      "F_gauss_hermite:  [[1.80962461]] b_gauss_hermite:  [-5.6256157]\n",
      "F_cubature:  [[1.8096494]] b_cubature:  [-5.62575341]\n",
      "F_extended:  [[1.8096618]] b_extended:  [-5.62585483]\n",
      "F_unscented:  [[1.80959982]] b_unscented:  [-5.62547799]\n",
      "x:    5.757142857142856\n",
      "F_gauss_hermite:  [[1.92516622]] b_gauss_hermite:  [-6.27857923]\n",
      "F_cubature:  [[1.92519495]] b_cubature:  [-6.27874462]\n",
      "F_extended:  [[1.92520932]] b_extended:  [-6.27885174]\n",
      "F_unscented:  [[1.9251375]] b_unscented:  [-6.27841384]\n",
      "x:    5.959183673469386\n",
      "F_gauss_hermite:  [[2.00564787]] b_gauss_hermite:  [-6.74943046]\n",
      "F_cubature:  [[2.00567937]] b_cubature:  [-6.74961815]\n",
      "F_extended:  [[2.00569512]] b_extended:  [-6.74972727]\n",
      "F_unscented:  [[2.00561637]] b_unscented:  [-6.74924277]\n",
      "x:    6.161224489795918\n",
      "F_gauss_hermite:  [[2.0476905]] b_gauss_hermite:  [-7.00354991]\n",
      "F_cubature:  [[2.04772348]] b_cubature:  [-7.00375312]\n",
      "F_extended:  [[2.04773997]] b_extended:  [-7.00386019]\n",
      "F_unscented:  [[2.04765751]] b_unscented:  [-7.0033467]\n",
      "x:    6.3632653061224485\n",
      "F_gauss_hermite:  [[2.04948048]] b_gauss_hermite:  [-7.01407489]\n",
      "F_cubature:  [[2.0495136]] b_cubature:  [-7.01428568]\n",
      "F_extended:  [[2.04953016]] b_extended:  [-7.01438648]\n",
      "F_unscented:  [[2.04944735]] b_unscented:  [-7.01386411]\n",
      "x:    6.565306122448979\n",
      "F_gauss_hermite:  [[2.01084445]] b_gauss_hermite:  [-6.76364735]\n",
      "F_cubature:  [[2.01087637]] b_cubature:  [-6.76385689]\n",
      "F_extended:  [[2.01089233]] b_extended:  [-6.76394719]\n",
      "F_unscented:  [[2.01081254]] b_unscented:  [-6.76343781]\n",
      "x:    6.76734693877551\n",
      "F_gauss_hermite:  [[1.93325709]] b_gauss_hermite:  [-6.2457899]\n",
      "F_cubature:  [[1.9332865]] b_cubature:  [-6.2459889]\n",
      "F_extended:  [[1.93330121]] b_extended:  [-6.24606461]\n",
      "F_unscented:  [[1.93322769]] b_unscented:  [-6.24559089]\n",
      "x:    6.96938775510204\n",
      "F_gauss_hermite:  [[1.8197815]] b_gauss_hermite:  [-5.46582743]\n",
      "F_cubature:  [[1.8198072]] b_cubature:  [-5.46600652]\n",
      "F_extended:  [[1.81982005]] b_extended:  [-5.46606389]\n",
      "F_unscented:  [[1.8197558]] b_unscented:  [-5.46564834]\n",
      "x:    7.171428571428571\n",
      "F_gauss_hermite:  [[1.67494483]] b_gauss_hermite:  [-4.44129033]\n",
      "F_cubature:  [[1.67496577]] b_cubature:  [-4.44144049]\n",
      "F_extended:  [[1.67497624]] b_extended:  [-4.44147631]\n",
      "F_unscented:  [[1.6749239]] b_unscented:  [-4.44114017]\n",
      "x:    7.373469387755101\n",
      "F_gauss_hermite:  [[1.50455423]] b_gauss_hermite:  [-3.20175798]\n",
      "F_cubature:  [[1.50456956]] b_cubature:  [-3.20187098]\n",
      "F_extended:  [[1.50457722]] b_extended:  [-3.2018827]\n",
      "F_unscented:  [[1.50453891]] b_unscented:  [-3.20164498]\n",
      "x:    7.575510204081632\n",
      "F_gauss_hermite:  [[1.31546055]] b_gauss_hermite:  [-1.78812653]\n",
      "F_cubature:  [[1.31546964]] b_cubature:  [-1.78819535]\n",
      "F_extended:  [[1.31547418]] b_extended:  [-1.78818127]\n",
      "F_unscented:  [[1.31545147]] b_unscented:  [-1.7880577]\n",
      "x:    7.777551020408162\n",
      "F_gauss_hermite:  [[1.1152796]] b_gauss_hermite:  [-0.25131169]\n",
      "F_cubature:  [[1.11528207]] b_cubature:  [-0.25133092]\n",
      "F_extended:  [[1.11528331]] b_extended:  [-0.25129028]\n",
      "F_unscented:  [[1.11527713]] b_unscented:  [-0.25129246]\n",
      "x:    7.979591836734693\n",
      "F_gauss_hermite:  [[0.91208218]] b_gauss_hermite:  [1.34957535]\n",
      "F_cubature:  [[0.91207794]] b_cubature:  [1.34960923]\n",
      "F_extended:  [[0.91207581]] b_extended:  [1.34967615]\n",
      "F_unscented:  [[0.91208643]] b_unscented:  [1.34954148]\n",
      "x:    8.181632653061223\n",
      "F_gauss_hermite:  [[0.71406561]] b_gauss_hermite:  [2.94951482]\n",
      "F_cubature:  [[0.71405482]] b_cubature:  [2.94960311]\n",
      "F_extended:  [[0.71404942]] b_extended:  [2.94969496]\n",
      "F_unscented:  [[0.7140764]] b_unscented:  [2.94942652]\n",
      "x:    8.383673469387753\n",
      "F_gauss_hermite:  [[0.52922009]] b_gauss_hermite:  [4.4802395]\n",
      "F_cubature:  [[0.52920318]] b_cubature:  [4.48038121]\n",
      "F_extended:  [[0.52919473]] b_extended:  [4.48049555]\n",
      "F_unscented:  [[0.52923699]] b_unscented:  [4.4800978]\n",
      "x:    8.585714285714285\n",
      "F_gauss_hermite:  [[0.36500343]] b_gauss_hermite:  [5.87316144]\n",
      "F_cubature:  [[0.36498111]] b_cubature:  [5.87335315]\n",
      "F_extended:  [[0.36496994]] b_extended:  [5.87348653]\n",
      "F_unscented:  [[0.36502576]] b_unscented:  [5.87296974]\n",
      "x:    8.787755102040816\n",
      "F_gauss_hermite:  [[0.22803755]] b_gauss_hermite:  [7.06243874]\n",
      "F_cubature:  [[0.2280107]] b_cubature:  [7.06267468]\n",
      "F_extended:  [[0.22799727]] b_extended:  [7.0628227]\n",
      "F_unscented:  [[0.22806439]] b_unscented:  [7.0622028]\n",
      "x:    8.989795918367346\n",
      "F_gauss_hermite:  [[0.12383881]] b_gauss_hermite:  [7.98804661]\n",
      "F_cubature:  [[0.12380853]] b_cubature:  [7.98831881]\n",
      "F_extended:  [[0.12379339]] b_extended:  [7.98847627]\n",
      "F_unscented:  [[0.12386908]] b_unscented:  [7.98777441]\n",
      "x:    9.191836734693876\n",
      "F_gauss_hermite:  [[0.0565935]] b_gauss_hermite:  [8.59871169]\n",
      "F_cubature:  [[0.05656102]] b_cubature:  [8.59901024]\n",
      "F_extended:  [[0.05654478]] b_extended:  [8.59917133]\n",
      "F_unscented:  [[0.05662598]] b_unscented:  [8.59841315]\n",
      "x:    9.393877551020408\n",
      "F_gauss_hermite:  [[0.02898735]] b_gauss_hermite:  [8.8545702]\n",
      "F_cubature:  [[0.02895399]] b_cubature:  [8.85488359]\n",
      "F_extended:  [[0.02893731]] b_extended:  [8.85504209]\n",
      "F_unscented:  [[0.02902071]] b_unscented:  [8.85425682]\n",
      "x:    9.595918367346938\n",
      "F_gauss_hermite:  [[0.04209607]] b_gauss_hermite:  [8.7294185]\n",
      "F_cubature:  [[0.04206318]] b_cubature:  [8.72973409]\n",
      "F_extended:  [[0.04204674]] b_extended:  [8.72988361]\n",
      "F_unscented:  [[0.04212895]] b_unscented:  [8.72910292]\n",
      "x:    9.797959183673468\n",
      "F_gauss_hermite:  [[0.09534147]] b_gauss_hermite:  [8.21243899]\n",
      "F_cubature:  [[0.09531039]] b_cubature:  [8.21274349]\n",
      "F_extended:  [[0.09529485]] b_extended:  [8.21287774]\n",
      "F_unscented:  [[0.09537255]] b_unscented:  [8.2121345]\n",
      "x:    10.0\n",
      "F_gauss_hermite:  [[0.18651483]] b_gauss_hermite:  [7.30930419]\n",
      "F_cubature:  [[0.18648682]] b_cubature:  [7.30958424]\n",
      "F_extended:  [[0.18647282]] b_extended:  [7.30969729]\n",
      "F_unscented:  [[0.18654283]] b_unscented:  [7.30902414]\n"
     ]
    }
   ],
   "source": [
    "m_q = 0*np.random.randn(1)\n",
    "yhat_gauss_hermite = []\n",
    "yhat_extended = []\n",
    "yhat_cubature = []\n",
    "yhat_unscented = []\n",
    "\n",
    "delta = 0.1\n",
    "for i in t:\n",
    "    m_x = jnp.array([i])\n",
    "    chol_x = 0.01 + 0*np.random.rand(1, 1)\n",
    "    chol_x[np.triu_indices(1, 1)] = 0\n",
    "    chol_q = np.random.rand(1, 1)\n",
    "    chol_q[np.triu_indices(1, 1)] = 0\n",
    "    x = MVNStandard(m_x, chol_x @ chol_x.T)\n",
    "    functional_model  = FunctionalModel(nonlinear_function, MVNStandard(m_q, chol_q @ chol_q.T))\n",
    "    F_gauss_hermite, _, b_gauss_hermite = gauss_hermite(functional_model, x)\n",
    "    F_extended, _, b_extended = extended(functional_model, x)\n",
    "    F_cubature, _, b_cubature = cubature(functional_model, x)\n",
    "    F_unscented, _, b_unscented = unscented(functional_model, x)\n",
    "    yhat_gauss_hermite.append((F_gauss_hermite * (i+delta) + b_gauss_hermite)[0])\n",
    "    yhat_extended.append((F_extended * (i+delta) + b_extended)[0])\n",
    "    yhat_cubature.append((F_cubature * (i+delta) + b_cubature)[0])\n",
    "    yhat_unscented.append((F_unscented * (i+delta) + b_unscented)[0])\n",
    "\n",
    "    print('x:   ', i)\n",
    "    print('F_gauss_hermite: ', F_gauss_hermite, 'b_gauss_hermite: ', b_gauss_hermite)\n",
    "    print('F_cubature: ', F_cubature, 'b_cubature: ', b_cubature)\n",
    "    print('F_extended: ', F_extended, 'b_extended: ', b_extended)\n",
    "    print('F_unscented: ', F_unscented, 'b_unscented: ', b_unscented)"
   ],
   "metadata": {
    "collapsed": false,
    "pycharm": {
     "name": "#%%\n"
    }
   }
  },
  {
   "cell_type": "code",
   "execution_count": 44,
   "outputs": [
    {
     "data": {
      "text/plain": "<matplotlib.legend.Legend at 0x7f4d4054ea40>"
     },
     "execution_count": 44,
     "metadata": {},
     "output_type": "execute_result"
    },
    {
     "data": {
      "text/plain": "<Figure size 432x288 with 1 Axes>",
      "image/png": "[encoded data removed]"
     },
     "metadata": {
      "needs_background": "light"
     },
     "output_type": "display_data"
    }
   ],
   "source": [
    "plt.plot(t,jnp.array(yhat_extended), '.')\n",
    "plt.plot(t,jnp.array(yhat_gauss_hermite), '.')\n",
    "plt.plot(t, jnp.array(yhat_cubature),'.')\n",
    "plt.plot(t, jnp.array(yhat_unscented),'.')\n",
    "plt.plot(t, nonlinear_function(t+delta),'.')\n",
    "plt.legend(['extended','gauss_hermite','cubature', 'unscented', 'real'])\n"
   ],
   "metadata": {
    "collapsed": false,
    "pycharm": {
     "name": "#%%\n"
    }
   }
  },
  {
   "cell_type": "code",
   "execution_count": 37,
   "outputs": [
    {
     "name": "stdout",
     "output_type": "stream",
     "text": [
      "F_gauss_hermite:  [[0.18651483]] b_gauss_hermite:  [7.30930419]\n",
      "F_cubature:  [[0.18648682]] b_cubature:  [7.30958424]\n",
      "F_extended:  [[0.18647282]] b_extended:  [7.30969729]\n",
      "F_unscented:  [[0.18654283]] b_unscented:  [7.30902414]\n"
     ]
    }
   ],
   "source": [
    "print('F_gauss_hermite: ', F_gauss_hermite, 'b_gauss_hermite: ', b_gauss_hermite)\n",
    "print('F_cubature: ', F_cubature, 'b_cubature: ', b_cubature)\n",
    "print('F_extended: ', F_extended, 'b_extended: ', b_extended)\n",
    "print('F_unscented: ', F_unscented, 'b_unscented: ', b_unscented)"
   ],
   "metadata": {
    "collapsed": false,
    "pycharm": {
     "name": "#%%\n"
    }
   }
  },
  {
   "cell_type": "code",
   "execution_count": 26,
   "outputs": [
    {
     "data": {
      "text/plain": "DeviceArray(0.18647282, dtype=float64)"
     },
     "execution_count": 26,
     "metadata": {},
     "output_type": "execute_result"
    }
   ],
   "source": [
    "xhat = i\n",
    "\n",
    "f = lambda x: nonlinear_function(x)\n",
    "df = lambda x: (x**4+9*x**2-2*x)/((x**2+3)**2)+np.cos(x)\n",
    "fl = lambda x: df(xhat)*(x-xhat) + f(xhat)\n",
    "\n",
    "df(i)"
   ],
   "metadata": {
    "collapsed": false,
    "pycharm": {
     "name": "#%%\n"
    }
   }
  },
  {
   "cell_type": "code",
   "execution_count": null,
   "outputs": [],
   "source": [
    "f(0.21408163)"
   ],
   "metadata": {
    "collapsed": false,
    "pycharm": {
     "name": "#%%\n"
    }
   }
  },
  {
   "cell_type": "code",
   "execution_count": 90,
   "outputs": [],
   "source": [
    "linearization_method = extended\n",
    "\n",
    "s1 = jnp.array([-1., 0.5])  # First sensor location\n",
    "s2 = jnp.array([1., 1.])  # Second sensor location\n",
    "x0 = jnp.array([0.1, 0.2, 1, 0])  # initial true location\n",
    "dt = 0.01  # discretization time step\n",
    "qc = 0.1  # discretization noise\n",
    "qw = 0.1  # discretization noise\n",
    "\n",
    "r_true = 0.05\n",
    "T = 50\n",
    "_, true_states, ys = get_data(x0, dt, r_true, T, s1, s2)\n",
    "Q, _, observation_function, transition_function = make_parameters(qc, qw, r_true, dt, s1, s2)\n",
    "\n",
    "chol_Q = jnp.linalg.cholesky(Q)\n",
    "\n",
    "m0 = jnp.array([2., 0, 0, 0, 0])\n",
    "P0 = jnp.diag(jnp.array([0.5**2, 0.5**2, 0.5**2, 0.5**2, 1.]))\n",
    "chol_P0 = scipy.linalg.cholesky(P0)\n",
    "\n",
    "init = MVNStandard(m0, P0)\n",
    "chol_init = MVNSqrt(m0, chol_P0)\n",
    "\n",
    "\n",
    "positions = inverse_bearings(ys, s1, s2)\n",
    "states = jnp.concatenate([jnp.concatenate([jnp.zeros((1,2)), positions], axis = 0),\n",
    "                          jnp.zeros((T+1,3))], axis = 1)\n",
    "\n",
    "initial_states =  MVNStandard(states,0.001*jnp.repeat(jnp.eye(5).reshape(1, 5, 5), T + 1, axis=0))\n",
    "initial_states_sqrt = MVNSqrt(states,jnp.repeat(jnp.eye(5).reshape(1, 5, 5), T + 1, axis=0))\n",
    "\n",
    "\n",
    "sqrt_transition_model = FunctionalModel(transition_function, MVNSqrt(jnp.zeros((5,)), chol_Q))\n",
    "transition_model = FunctionalModel(transition_function, MVNStandard(jnp.zeros((5,)), Q))\n",
    "\n",
    "R = jnp.diag(jnp.array([0.1 ** 2, 0.1 ** 2]))\n",
    "observation_model = FunctionalModel(observation_function, MVNStandard(jnp.zeros((2,)), R))"
   ],
   "metadata": {
    "collapsed": false,
    "pycharm": {
     "name": "#%%\n"
    }
   }
  },
  {
   "cell_type": "code",
   "execution_count": 91,
   "outputs": [
    {
     "name": "stdout",
     "output_type": "stream",
     "text": [
      "x:    [0. 0. 0. 0. 0.]\n",
      "F_gauss_hermite:  [[ 3.99999496e-01  8.00000473e-01  3.39871970e-17  3.39871970e-17\n",
      "   8.57620859e-18]\n",
      " [ 5.00000149e-01 -5.00000149e-01 -2.54363004e-18 -4.23769593e-18\n",
      "  -8.49564142e-19]] b_gauss_hermite:  [-0.46364761 -2.35619449]\n",
      "F_cubature:  [[ 0.40117543  0.79978473  0.          0.          0.        ]\n",
      " [ 0.50041604 -0.50041604  0.          0.          0.        ]] b_cubature:  [-0.46364914 -2.35619449]\n",
      "F_extended:  [[ 0.4  0.8  0.   0.   0. ]\n",
      " [ 0.5 -0.5  0.   0.   0. ]] b_extended:  [-0.46364761 -2.35619449]\n",
      "F_unscented:  [[ 0.40306484  0.79943232  0.          0.          0.        ]\n",
      " [ 0.50107909 -0.50107909  0.          0.          0.        ]] b_unscented:  [-0.4636516  -2.35619449]\n",
      "x:    [0.17312304 0.14949133 0.         0.         0.        ]\n",
      "F_gauss_hermite:  [[ 2.33816358e-01  7.82565083e-01  3.79576639e-17  1.08526096e-17\n",
      "   5.98217019e-18]\n",
      " [ 6.04445277e-01 -5.87650494e-01  4.80591936e-19  1.96289959e-18\n",
      "  -2.90753985e-18]] b_gauss_hermite:  [-0.44780517 -2.35890175]\n",
      "F_cubature:  [[ 0.23451325  0.78198052  0.          0.          0.        ]\n",
      " [ 0.6051189  -0.58838404  0.          0.          0.        ]] b_cubature:  [-0.44783945 -2.35890879]\n",
      "F_extended:  [[ 0.23381679  0.78256513  0.          0.          0.        ]\n",
      " [ 0.60444489 -0.58765016  0.          0.          0.        ]] b_extended:  [-0.44780525 -2.35890174]\n",
      "F_unscented:  [[ 0.23563515  0.78104606  0.          0.          0.        ]\n",
      " [ 0.60619056 -0.58955237  0.          0.          0.        ]] b_unscented:  [-0.44789562 -2.35891977]\n",
      "x:    [-0.06863272  0.28488671  0.          0.          0.        ]\n",
      "F_gauss_hermite:  [[ 2.35424810e-01  1.01931444e+00 -3.68459332e-17 -9.74087889e-18\n",
      "   3.81164826e-18]\n",
      " [ 4.32520394e-01 -6.46339211e-01 -1.09187841e-17 -7.53065230e-18\n",
      "  -1.15540588e-17]] b_gauss_hermite:  [-0.50121605 -2.33802992]\n",
      "F_cubature:  [[ 0.23663315  1.01783508  0.          0.          0.        ]\n",
      " [ 0.43328931 -0.64649203  0.          0.          0.        ]] b_cubature:  [-0.50071403 -2.33793296]\n",
      "F_extended:  [[ 0.23542616  1.01931507  0.          0.          0.        ]\n",
      " [ 0.43252046 -0.64633887  0.          0.          0.        ]] b_extended:  [-0.50121614 -2.33803001]\n",
      "F_unscented:  [[ 0.23858835  1.0154781   0.          0.          0.        ]\n",
      " [ 0.43452057 -0.64673129  0.          0.          0.        ]] b_unscented:  [-0.49991214 -2.33777926]\n",
      "x:    [-0.09678636  0.3051822   0.          0.          0.        ]\n",
      "F_gauss_hermite:  [[ 2.28189460e-01  1.05793747e+00 -4.30928012e-17 -2.43521972e-18\n",
      "   2.22346149e-18]\n",
      " [ 4.12180482e-01 -6.50637133e-01 -3.37489690e-18  1.32348898e-20\n",
      "   1.07202607e-18]] b_gauss_hermite:  [-0.5132175  -2.33844563]\n",
      "F_cubature:  [[ 0.2294547   1.05624392  0.          0.          0.        ]\n",
      " [ 0.41293674 -0.65072917  0.          0.          0.        ]] b_cubature:  [-0.51258078 -2.33834366]\n",
      "F_extended:  [[ 0.22819099  1.05793833  0.          0.          0.        ]\n",
      " [ 0.41218059 -0.65063682  0.          0.          0.        ]] b_extended:  [-0.51321761 -2.33844571]\n",
      "F_unscented:  [[ 0.23150408  1.05354786  0.          0.          0.        ]\n",
      " [ 0.41414831 -0.65087161  0.          0.          0.        ]] b_unscented:  [-0.51156376 -2.33818184]\n",
      "x:    [0.16481732 0.20964405 0.         0.         0.        ]\n",
      "F_gauss_hermite:  [[ 2.01480883e-01  8.08279969e-01 -2.48815928e-18  1.10643679e-17\n",
      "   6.61744490e-18]\n",
      " [ 5.97761927e-01 -6.31665375e-01  1.30694537e-19  3.09530985e-18\n",
      "   4.78937575e-18]] b_gauss_hermite:  [-0.44695168 -2.34986067]\n",
      "F_cubature:  [[ 0.20212774  0.80756478  0.          0.          0.        ]\n",
      " [ 0.59859662 -0.63237139  0.          0.          0.        ]] b_cubature:  [-0.44690935 -2.34985008]\n",
      "F_extended:  [[ 0.20148133  0.80828013  0.          0.          0.        ]\n",
      " [ 0.59776157 -0.6316649   0.          0.          0.        ]] b_extended:  [-0.44695179 -2.34986071]\n",
      "F_unscented:  [[ 0.20316992  0.80642307  0.          0.          0.        ]\n",
      " [ 0.59992636 -0.63349345  0.          0.          0.        ]] b_unscented:  [-0.44684337 -2.34983376]\n",
      "x:    [0.23876695 0.20721509 0.         0.         0.        ]\n",
      "F_gauss_hermite:  [[ 1.80701368e-01  7.64545015e-01  3.49401091e-18 -1.00585162e-17\n",
      "   2.64697796e-18]\n",
      " [ 6.56288343e-01 -6.30168794e-01  9.54400991e-18  1.20851087e-17\n",
      "   5.94411988e-18]] b_gauss_hermite:  [-0.43366349 -2.36201335]\n",
      "F_cubature:  [[ 0.18122136  0.76392575  0.          0.          0.        ]\n",
      " [ 0.65711732 -0.63110638  0.          0.          0.        ]] b_cubature:  [-0.43366009 -2.36201714]\n",
      "F_extended:  [[ 0.18070169  0.76454516  0.          0.          0.        ]\n",
      " [ 0.65628777 -0.63016833  0.          0.          0.        ]] b_extended:  [-0.4336636  -2.36201331]\n",
      "F_unscented:  [[ 0.18205859  0.76293718  0.          0.          0.        ]\n",
      " [ 0.65843448 -0.63259896  0.          0.          0.        ]] b_unscented:  [-0.43365637 -2.36202257]\n",
      "x:    [0.1052147  0.25397931 0.         0.         0.        ]\n",
      "F_gauss_hermite:  [[ 1.91899398e-01  8.62084363e-01  1.28643129e-17  6.08804931e-18\n",
      "  -2.80579664e-18]\n",
      " [ 5.49681512e-01 -6.59294274e-01  1.77347523e-18  7.94093388e-20\n",
      "  -1.40289832e-18]] b_gauss_hermite:  [-0.45817106 -2.33700032]\n",
      "F_cubature:  [[ 0.19260367  0.8611768   0.          0.          0.        ]\n",
      " [ 0.5505984  -0.65980995  0.          0.          0.        ]] b_cubature:  [-0.45801583 -2.33696534]\n",
      "F_extended:  [[ 0.19189997  0.86208466  0.          0.          0.        ]\n",
      " [ 0.54968133 -0.65929375  0.          0.          0.        ]] b_extended:  [-0.45817119 -2.33700043]\n",
      "F_unscented:  [[ 0.19373966  0.85972934  0.          0.          0.        ]\n",
      " [ 0.55206244 -0.66062669  0.          0.          0.        ]] b_unscented:  [-0.45776959 -2.33691117]\n",
      "x:    [0.22199582 0.30520327 0.         0.         0.        ]\n",
      "F_gauss_hermite:  [[ 1.27216431e-01  7.98053661e-01  5.30983779e-17  1.92170600e-17\n",
      "  -1.95876369e-18]\n",
      " [ 6.38581031e-01 -7.15056528e-01 -6.73986763e-18 -8.10637000e-19\n",
      "  -5.04580174e-18]] b_gauss_hermite:  [-0.42988874 -2.33615529]\n",
      "F_cubature:  [[ 0.12761963  0.79727262  0.          0.          0.        ]\n",
      " [ 0.63977715 -0.71590072  0.          0.          0.        ]] b_cubature:  [-0.42974051 -2.3361627 ]\n",
      "F_extended:  [[ 0.12721672  0.79805395  0.          0.          0.        ]\n",
      " [ 0.63858057 -0.71505568  0.          0.          0.        ]] b_extended:  [-0.4298889  -2.33615544]\n",
      "F_unscented:  [[ 0.12826944  0.79602751  0.          0.          0.        ]\n",
      " [ 0.64168336 -0.71723796  0.          0.          0.        ]] b_unscented:  [-0.42950576 -2.33617698]\n",
      "x:    [0.42032263 0.16532266 0.         0.         0.        ]\n",
      "F_gauss_hermite:  [[ 1.57175134e-01  6.67029356e-01  1.28643129e-17 -1.42407414e-17\n",
      "   1.30760711e-17]\n",
      " [ 8.08239263e-01 -5.61315427e-01  1.29701920e-18  2.99108509e-18\n",
      "  -3.97046694e-19]] b_gauss_hermite:  [-0.40775272 -2.42473968]\n",
      "F_cubature:  [[ 0.15751918  0.66661749  0.          0.          0.        ]\n",
      " [ 0.80862689 -0.56285466  0.          0.          0.        ]] b_cubature:  [-0.40782968 -2.42464967]\n",
      "F_extended:  [[ 0.1571753   0.66702943  0.          0.          0.        ]\n",
      " [ 0.80823816 -0.56131556  0.          0.          0.        ]] b_extended:  [-0.4077528  -2.42473919]\n",
      "F_unscented:  [[ 0.15807229  0.66595965  0.          0.          0.        ]\n",
      " [ 0.80922988 -0.56531906  0.          0.          0.        ]] b_unscented:  [-0.40795411 -2.42449816]\n",
      "x:    [0.31154586 0.05802697 0.         0.         0.        ]\n",
      "F_gauss_hermite:  [[ 2.30735715e-01  6.84704192e-01  2.93285158e-17 -1.13290657e-17\n",
      "   8.15269212e-18]\n",
      " [ 6.91975350e-01 -5.05739439e-01  1.98523347e-18 -8.17916190e-18\n",
      "   1.13820052e-18]] b_gauss_hermite:  [-0.43665071 -2.38817299]\n",
      "F_cubature:  [[ 0.23125733  0.68435139  0.          0.          0.        ]\n",
      " [ 0.69230519 -0.50673462  0.          0.          0.        ]] b_cubature:  [-0.4367934  -2.38821879]\n",
      "F_extended:  [[ 0.23073595  0.68470418  0.          0.          0.        ]\n",
      " [ 0.69197479 -0.50573944  0.          0.          0.        ]] b_extended:  [-0.43665078 -2.38817282]\n",
      "F_unscented:  [[ 0.23209565  0.68378671  0.          0.          0.        ]\n",
      " [ 0.69282424 -0.50832669  0.          0.          0.        ]] b_unscented:  [-0.43702286 -2.38828936]\n",
      "x:    [0.27393007 0.13418222 0.         0.         0.        ]\n",
      "F_gauss_hermite:  [[ 2.08238752e-01  7.25175119e-01  1.99582138e-17 -3.70576914e-19\n",
      "   6.88214270e-19]\n",
      " [ 6.78106498e-01 -5.68656001e-01  6.06819697e-18  2.68006518e-18\n",
      "   9.85999290e-19]] b_gauss_hermite:  [-0.43398133 -2.3780817 ]\n",
      "F_cubature:  [[ 0.20877274  0.72469702  0.          0.          0.        ]\n",
      " [ 0.67868004 -0.56965579  0.          0.          0.        ]] b_cubature:  [-0.43406418 -2.37810518]\n",
      "F_extended:  [[ 0.20823904  0.72517517  0.          0.          0.        ]\n",
      " [ 0.67810589 -0.56865578  0.          0.          0.        ]] b_extended:  [-0.43398141 -2.37808156]\n",
      "F_unscented:  [[ 0.2096317   0.72393287  0.          0.          0.        ]\n",
      " [ 0.67958805 -0.57125185  0.          0.          0.        ]] b_unscented:  [-0.43419811 -2.37814059]\n",
      "x:    [-0.05693653  0.19841036  0.          0.          0.        ]\n",
      "F_gauss_hermite:  [[ 3.07641248e-01  9.61990599e-01  2.85873620e-18  4.35163177e-17\n",
      "   3.28225267e-18]\n",
      " [ 4.55536485e-01 -6.00648181e-01  2.91167576e-18  2.91167576e-18\n",
      "   7.94093388e-19]] b_gauss_hermite:  [-0.48287241 -2.34762031]\n",
      "F_cubature:  [[ 0.30902274  0.96096223  0.          0.          0.        ]\n",
      " [ 0.45620052 -0.60090872  0.          0.          0.        ]] b_cubature:  [-0.48259217 -2.34753038]\n",
      "F_extended:  [[ 0.3076425   0.96199062  0.          0.          0.        ]\n",
      " [ 0.45553646 -0.60064789  0.          0.          0.        ]] b_extended:  [-0.48287234 -2.34762036]\n",
      "F_unscented:  [[ 0.31125322  0.95931748  0.          0.          0.        ]\n",
      " [ 0.45726246 -0.60132103  0.          0.          0.        ]] b_unscented:  [-0.48214277 -2.34738744]\n",
      "x:    [0.24043517 0.16698112 0.         0.         0.        ]\n",
      "F_gauss_hermite:  [[ 2.01880560e-01  7.51969765e-01 -3.34048619e-17 -1.98523347e-17\n",
      "   1.32348898e-18]\n",
      " [ 6.55477491e-01 -5.97678544e-01 -5.40645248e-18 -9.64161722e-18\n",
      "  -7.52403485e-18]] b_gauss_hermite:  [-0.43638862 -2.3679034 ]\n",
      "F_cubature:  [[ 0.20243934  0.75141478  0.          0.          0.        ]\n",
      " [ 0.65617596 -0.59860487  0.          0.          0.        ]] b_cubature:  [-0.4364311  -2.36791694]\n",
      "F_extended:  [[ 0.20188089  0.75196985  0.          0.          0.        ]\n",
      " [ 0.65547693 -0.5976782   0.          0.          0.        ]] b_extended:  [-0.43638871 -2.36790332]\n",
      "F_unscented:  [[ 0.20333866  0.75052819  0.          0.          0.        ]\n",
      " [ 0.65728465 -0.60008142  0.          0.          0.        ]] b_unscented:  [-0.43650055 -2.3679374 ]\n",
      "x:    [0.01446334 0.25481923 0.         0.         0.        ]\n",
      "F_gauss_hermite:  [[ 2.25090586e-01  9.31341223e-01 -5.29395592e-19 -2.08581863e-17\n",
      "   1.09055492e-17]\n",
      " [ 4.88138419e-01 -6.45586410e-01  5.89614341e-18  1.35194399e-17\n",
      "   1.66097867e-18]] b_gauss_hermite:  [-0.477717   -2.33674059]\n",
      "F_cubature:  [[ 0.22605244  0.93023264  0.          0.          0.        ]\n",
      " [ 0.48896159 -0.64590497  0.          0.          0.        ]] b_cubature:  [-0.47745013 -2.33667076]\n",
      "F_extended:  [[ 0.22509147  0.93134159  0.          0.          0.        ]\n",
      " [ 0.48813838 -0.64558599  0.          0.          0.        ]] b_extended:  [-0.4777171  -2.33674069]\n",
      "F_unscented:  [[ 0.22760575  0.92846464  0.          0.          0.        ]\n",
      " [ 0.49027798 -0.64640815  0.          0.          0.        ]] b_unscented:  [-0.47702482 -2.33656068]\n",
      "x:    [0.14618412 0.21603897 0.         0.         0.        ]\n",
      "F_gauss_hermite:  [[ 2.03647504e-01  8.22007288e-01  2.48815928e-18  9.26442286e-18\n",
      "   3.75870870e-18]\n",
      " [ 5.83479837e-01 -6.35470955e-01  1.97199858e-18  3.24254800e-18\n",
      "   6.61744490e-20]] b_gauss_hermite:  [-0.45021053 -2.34682989]\n",
      "F_cubature:  [[ 0.20432398  0.82125297  0.          0.          0.        ]\n",
      " [ 0.58432527 -0.63612249  0.          0.          0.        ]] b_cubature:  [-0.45014752 -2.34681248]\n",
      "F_extended:  [[ 0.20364799  0.82200747  0.          0.          0.        ]\n",
      " [ 0.58347953 -0.63547047  0.          0.          0.        ]] b_extended:  [-0.45021064 -2.34682995]\n",
      "F_unscented:  [[ 0.20541414  0.82004895  0.          0.          0.        ]\n",
      " [ 0.58567298 -0.63715732  0.          0.          0.        ]] b_unscented:  [-0.45004847 -2.34678556]\n",
      "x:    [0.21876975 0.23874635 0.         0.         0.        ]\n",
      "F_gauss_hermite:  [[ 1.68154075e-01  7.84453997e-01  2.37169225e-17  1.69406589e-17\n",
      "   5.50571416e-18]\n",
      " [ 6.39802031e-01 -6.56591589e-01  2.49808545e-19  3.63794033e-18\n",
      "   6.17903918e-18]] b_gauss_hermite:  [-0.43523547 -2.35235518]\n",
      "F_cubature:  [[ 0.16866533  0.78376137  0.          0.          0.        ]\n",
      " [ 0.64074201 -0.65746066  0.          0.          0.        ]] b_cubature:  [-0.43518273 -2.35235324]\n",
      "F_extended:  [[ 0.16815442  0.78445419  0.          0.          0.        ]\n",
      " [ 0.63980152 -0.65659101  0.          0.          0.        ]] b_extended:  [-0.43523559 -2.35235521]\n",
      "F_unscented:  [[ 0.16948886  0.78265625  0.          0.          0.        ]\n",
      " [ 0.64223779 -0.65884189  0.          0.          0.        ]] b_unscented:  [-0.43510029 -2.35235056]\n",
      "x:    [-0.03703497  0.1404013   0.          0.          0.        ]\n",
      "F_gauss_hermite:  [[ 3.40330534e-01  9.11370002e-01 -1.29172524e-17 -2.64697796e-17\n",
      "  -9.10560418e-18]\n",
      " [ 4.73777476e-01 -5.71573626e-01  6.55788790e-18  2.32272316e-18\n",
      "  -2.97123276e-18]] b_gauss_hermite:  [-0.47274571 -2.35168023]\n",
      "F_cubature:  [[ 0.3416835   0.91063501  0.          0.          0.        ]\n",
      " [ 0.4743737  -0.57190257  0.          0.          0.        ]] b_cubature:  [-0.47259463 -2.35161169]\n",
      "F_extended:  [[ 0.34033155  0.91136977  0.          0.          0.        ]\n",
      " [ 0.47377739 -0.57157337  0.          0.          0.        ]] b_extended:  [-0.47274564 -2.35168027]\n",
      "F_unscented:  [[ 0.34386446  0.90945569  0.          0.          0.        ]\n",
      " [ 0.47532628 -0.57242484  0.          0.          0.        ]] b_unscented:  [-0.47235182 -2.35150264]\n",
      "x:    [0.03322999 0.20605071 0.         0.         0.        ]\n",
      "F_gauss_hermite:  [[ 2.54727801e-01  8.95369428e-01  4.39927737e-17  3.33519223e-18\n",
      "   1.43466205e-17]\n",
      " [ 5.07316042e-01 -6.17744900e-01  1.45583788e-18  1.45583788e-18\n",
      "  -5.32042570e-18]] b_gauss_hermite:  [-0.47012861 -2.3436059 ]\n",
      "F_cubature:  [[ 0.25572558  0.89446437  0.          0.          0.        ]\n",
      " [ 0.50806582 -0.61814501  0.          0.          0.        ]] b_cubature:  [-0.46997696 -2.34354798]\n",
      "F_extended:  [[ 0.25472862  0.89536958  0.          0.          0.        ]\n",
      " [ 0.50731593 -0.61774453  0.          0.          0.        ]] b_extended:  [-0.47012867 -2.34360597]\n",
      "F_unscented:  [[ 0.25733516  0.89301877  0.          0.          0.        ]\n",
      " [ 0.5092636  -0.6187793   0.          0.          0.        ]] b_unscented:  [-0.46973527 -2.34345647]\n",
      "x:    [0.24900144 0.08149766 0.         0.         0.        ]\n",
      "F_gauss_hermite:  [[ 2.41190733e-01  7.19823833e-01  6.72332402e-18 -1.36054667e-17\n",
      "   4.81749989e-18]\n",
      " [ 6.52510244e-01 -5.33514170e-01  8.63576560e-18  1.85950202e-18\n",
      "   2.70653496e-18]] b_gauss_hermite:  [-0.44203312 -2.37519332]\n",
      "F_cubature:  [[ 0.24179377  0.71941151  0.          0.          0.        ]\n",
      " [ 0.65297333 -0.5343961   0.          0.          0.        ]] b_cubature:  [-0.44215048 -2.37523724]\n",
      "F_extended:  [[ 0.24119103  0.71982382  0.          0.          0.        ]\n",
      " [ 0.65250975 -0.53351403  0.          0.          0.        ]] b_extended:  [-0.4420332  -2.37519321]\n",
      "F_unscented:  [[ 0.24276342  0.7187516   0.          0.          0.        ]\n",
      " [ 0.65370654 -0.53580484  0.          0.          0.        ]] b_unscented:  [-0.44233942 -2.37530579]\n",
      "x:    [0.25209351 0.10900818 0.         0.         0.        ]\n",
      "F_gauss_hermite:  [[ 2.27239563e-01  7.27702079e-01  1.26525546e-17 -8.99972506e-19\n",
      "   3.12343399e-18]\n",
      " [ 6.58418877e-01 -5.52682433e-01 -4.89029178e-18 -4.04325883e-18\n",
      "  -6.55127045e-19]] b_gauss_hermite:  [-0.43928684 -2.37484572]\n",
      "F_cubature:  [[ 0.22782328  0.7272478   0.          0.          0.        ]\n",
      " [ 0.65894601 -0.55359804  0.          0.          0.        ]] b_cubature:  [-0.43938526 -2.37487927]\n",
      "F_extended:  [[ 0.22723987  0.7277021   0.          0.          0.        ]\n",
      " [ 0.65841835 -0.55268224  0.          0.          0.        ]] b_extended:  [-0.43928692 -2.37484561]\n",
      "F_unscented:  [[ 0.22876211  0.72652125  0.          0.          0.        ]\n",
      " [ 0.65978109 -0.55505989  0.          0.          0.        ]] b_unscented:  [-0.439544   -2.37493118]\n",
      "x:    [0.33029266 0.18305753 0.         0.         0.        ]\n",
      "F_gauss_hermite:  [[ 1.69475841e-01  7.11336488e-01  1.02702745e-17  3.49401091e-18\n",
      "   3.28225267e-18]\n",
      " [ 7.32091857e-01 -6.00148647e-01 -3.47415857e-18 -2.62712563e-18\n",
      "  -2.20360915e-18]] b_gauss_hermite:  [-0.42008194 -2.38942104]\n",
      "F_cubature:  [[ 0.1698977   0.71083926  0.          0.          0.        ]\n",
      " [ 0.73275181 -0.60139529  0.          0.          0.        ]] b_cubature:  [-0.42013082 -2.38941158]\n",
      "F_extended:  [[ 0.16947607  0.71133659  0.          0.          0.        ]\n",
      " [ 0.73209098 -0.60014839  0.          0.          0.        ]] b_extended:  [-0.42008203 -2.3894208 ]\n",
      "F_unscented:  [[ 0.17057633  0.71004523  0.          0.          0.        ]\n",
      " [ 0.73379397 -0.60338559  0.          0.          0.        ]] b_unscented:  [-0.42021054 -2.38939269]\n",
      "x:    [0.1432935  0.15204791 0.         0.         0.        ]\n",
      "F_gauss_hermite:  [[ 2.43630913e-01  8.00518762e-01  3.58930211e-17  1.55642304e-17\n",
      "   6.67038446e-18]\n",
      " [ 5.83599984e-01 -5.89625189e-01  3.02210437e-18  3.02210437e-18\n",
      "   5.13968674e-18]] b_gauss_hermite:  [-0.45206332 -2.35530483]\n",
      "F_cubature:  [[ 0.24438998  0.79990158  0.          0.          0.        ]\n",
      " [ 0.58428149 -0.59028587  0.          0.          0.        ]] b_cubature:  [-0.45207939 -2.35530201]\n",
      "F_extended:  [[ 0.2436314   0.80051881  0.          0.          0.        ]\n",
      " [ 0.58359966 -0.58962485  0.          0.          0.        ]] b_extended:  [-0.4520634  -2.35530484]\n",
      "F_unscented:  [[ 0.24561226  0.79891486  0.          0.          0.        ]\n",
      " [ 0.58536673 -0.59133754  0.          0.          0.        ]] b_unscented:  [-0.45210632 -2.35529757]\n",
      "x:    [0.59407303 0.25131035 0.         0.         0.        ]\n",
      "F_gauss_hermite:  [[ 9.55426577e-02  6.12418233e-01 -1.17525821e-17 -4.97631857e-18\n",
      "   4.55280209e-18]\n",
      " [ 1.03223204e+00 -5.59656084e-01  1.82112084e-17  1.14349448e-17\n",
      "   5.50571416e-18]] b_gauss_hermite:  [-0.36542778 -2.54019222]\n",
      "F_cubature:  [[ 0.09572077  0.61206377  0.          0.          0.        ]\n",
      " [ 1.03200459 -0.56235395  0.          0.          0.        ]] b_cubature:  [-0.36544472 -2.53938345]\n",
      "F_extended:  [[ 0.09554273  0.61241831  0.          0.          0.        ]\n",
      " [ 1.03222988 -0.55965773  0.          0.          0.        ]] b_extended:  [-0.36542784 -2.54019053]\n",
      "F_unscented:  [[ 0.09600697  0.61149786  0.          0.          0.        ]\n",
      " [ 1.03160816 -0.56669599  0.          0.          0.        ]] b_unscented:  [-0.36547287 -2.53806369]\n",
      "x:    [0.21331218 0.16509887 0.         0.         0.        ]\n",
      "F_gauss_hermite:  [[ 2.11389050e-01  7.65841934e-01 -3.81164826e-18  1.65171425e-17\n",
      "   7.19978005e-18]\n",
      " [ 6.34453904e-01 -5.97815790e-01 -9.85999290e-19 -5.22116403e-18\n",
      "  -7.97402111e-18]] b_gauss_hermite:  [-0.44084782 -2.36310914]\n",
      "F_cubature:  [[ 0.21199514  0.76526485  0.          0.          0.        ]\n",
      " [ 0.63515946 -0.59866105  0.          0.          0.        ]] b_cubature:  [-0.4408827  -2.36312026]\n",
      "F_extended:  [[ 0.21138942  0.76584202  0.          0.          0.        ]\n",
      " [ 0.63445342 -0.59781544  0.          0.          0.        ]] b_extended:  [-0.44084791 -2.3631091 ]\n",
      "F_unscented:  [[ 0.21297075  0.76434287  0.          0.          0.        ]\n",
      " [ 0.63628066 -0.60000772  0.          0.          0.        ]] b_unscented:  [-0.44094    -2.36313737]\n",
      "x:    [0.32444033 0.28793682 0.         0.         0.        ]\n",
      "F_gauss_hermite:  [[ 1.17870769e-01  7.36162763e-01  2.06993676e-17  7.14684049e-18\n",
      "   1.34995876e-17]\n",
      " [ 7.39104431e-01 -7.01214472e-01 -1.08029788e-18  3.15486686e-18\n",
      "   1.67255920e-18]] b_gauss_hermite:  [-0.40897809 -2.36778387]\n",
      "F_cubature:  [[ 0.11818845  0.73554998  0.          0.          0.        ]\n",
      " [ 0.74024319 -0.70255096  0.          0.          0.        ]] b_cubature:  [-0.40890518 -2.36776879]\n",
      "F_extended:  [[ 0.11787096  0.73616296  0.          0.          0.        ]\n",
      " [ 0.73910339 -0.70121368  0.          0.          0.        ]] b_extended:  [-0.40897821 -2.36778376]\n",
      "F_unscented:  [[ 0.11869988  0.73457256  0.          0.          0.        ]\n",
      " [ 0.74204858 -0.70467645  0.          0.          0.        ]] b_unscented:  [-0.4087904  -2.36774297]\n",
      "x:    [0.31520492 0.14654611 0.         0.         0.        ]\n",
      "F_gauss_hermite:  [[ 1.90572409e-01  7.09122399e-01  1.88464831e-17  1.20702195e-17\n",
      "   3.38813179e-18]\n",
      " [ 7.12799577e-01 -5.71936326e-01 -3.32857478e-18 -7.87475943e-19\n",
      "   1.33010642e-18]] b_gauss_hermite:  [-0.42652962 -2.38785023]\n",
      "F_cubature:  [[ 0.19104131  0.7086572   0.          0.          0.        ]\n",
      " [ 0.71335796 -0.57307653  0.          0.          0.        ]] b_cubature:  [-0.42660988 -2.38785988]\n",
      "F_extended:  [[ 0.19057266  0.70912246  0.          0.          0.        ]\n",
      " [ 0.71279883 -0.57193615  0.          0.          0.        ]] b_extended:  [-0.42652971 -2.38785002]\n",
      "F_unscented:  [[ 0.19179547  0.70791391  0.          0.          0.        ]\n",
      " [ 0.71423967 -0.57489784  0.          0.          0.        ]] b_unscented:  [-0.42673968 -2.38787207]\n",
      "x:    [0.4901651  0.16101006 0.         0.         0.        ]\n",
      "F_gauss_hermite:  [[ 1.45146111e-01  6.38047952e-01  5.88158503e-17  3.84870595e-17\n",
      "   3.97046694e-18]\n",
      " [ 8.70471050e-01 -5.28963969e-01  1.28907827e-17  6.11451909e-18\n",
      "   2.72638730e-18]] b_gauss_hermite:  [-0.39755596 -2.45834758]\n",
      "F_cubature:  [[ 0.14543713  0.63768257  0.          0.          0.        ]\n",
      " [ 0.87058334 -0.53072404  0.          0.          0.        ]] b_cubature:  [-0.39764014 -2.45812144]\n",
      "F_extended:  [[ 0.14514624  0.63804802  0.          0.          0.        ]\n",
      " [ 0.87046983 -0.5289645   0.          0.          0.        ]] b_extended:  [-0.39755604 -2.4583469 ]\n",
      "F_unscented:  [[ 0.14590482  0.63709894  0.          0.          0.        ]\n",
      " [ 0.87074429 -0.53354821  0.          0.          0.        ]] b_unscented:  [-0.39777599 -2.45774913]\n",
      "x:    [0.30702539 0.29376045 0.         0.         0.        ]\n",
      "F_gauss_hermite:  [[ 1.17793745e-01  7.46508799e-01  4.87043945e-18 -8.68208771e-18\n",
      "   1.48230766e-18]\n",
      " [ 7.21398397e-01 -7.07848665e-01 -4.35014284e-18 -7.50252816e-19\n",
      "   2.00260426e-18]] b_gauss_hermite:  [-0.41196311 -2.36026418]\n",
      "F_cubature:  [[ 0.11812032  0.74586832  0.          0.          0.        ]\n",
      " [ 0.72257512 -0.70909502  0.          0.          0.        ]] b_cubature:  [-0.41187571 -2.36025943]\n",
      "F_extended:  [[ 0.11779395  0.74650901  0.          0.          0.        ]\n",
      " [ 0.72139747 -0.70784782  0.          0.          0.        ]] b_extended:  [-0.41196324 -2.36026414]\n",
      "F_unscented:  [[ 0.11864615  0.74484684  0.          0.          0.        ]\n",
      " [ 0.72444295 -0.71107557  0.          0.          0.        ]] b_unscented:  [-0.41173785 -2.36025125]\n",
      "x:    [0.30330107 0.11814283 0.         0.         0.        ]\n",
      "F_gauss_hermite:  [[ 2.07034766e-01  7.06622718e-01 -3.65282959e-18  3.12343399e-18\n",
      "   4.39398341e-18]\n",
      " [ 6.98190881e-01 -5.51595556e-01 -1.87273691e-18 -1.78671012e-19\n",
      "   3.42121901e-18]] b_gauss_hermite:  [-0.43129165 -2.38602705]\n",
      "F_cubature:  [[ 0.20753818  0.70618631  0.          0.          0.        ]\n",
      " [ 0.6986824  -0.55265958  0.          0.          0.        ]] b_cubature:  [-0.43139344 -2.38605113]\n",
      "F_extended:  [[ 0.20703502  0.70662275  0.          0.          0.        ]\n",
      " [ 0.69819023 -0.55159543  0.          0.          0.        ]] b_extended:  [-0.43129173 -2.38602687]\n",
      "F_unscented:  [[ 0.20834772  0.70548866  0.          0.          0.        ]\n",
      " [ 0.69945851 -0.55435978  0.          0.          0.        ]] b_unscented:  [-0.43155762 -2.38608679]\n",
      "x:    [0.47763559 0.05306842 0.         0.         0.        ]\n",
      "F_gauss_hermite:  [[ 1.87537656e-01  6.20033400e-01 -6.98802181e-18 -1.37642854e-17\n",
      "  -1.27054942e-18]\n",
      " [ 8.09659458e-01 -4.46638908e-01  7.80858498e-18  1.03232140e-18\n",
      "   8.65561793e-18]] b_gauss_hermite:  [-0.41619467 -2.43791678]\n",
      "F_cubature:  [[ 0.18788785  0.61974523  0.          0.          0.        ]\n",
      " [ 0.80957902 -0.44795682  0.          0.          0.        ]] b_cubature:  [-0.41634705 -2.43781007]\n",
      "F_extended:  [[ 0.18753779  0.62003341  0.          0.          0.        ]\n",
      " [ 0.80965879 -0.44663938  0.          0.          0.        ]] b_extended:  [-0.41619473 -2.43791644]\n",
      "F_unscented:  [[ 0.18845032  0.61928438  0.          0.          0.        ]\n",
      " [ 0.80944009 -0.45007283  0.          0.          0.        ]] b_unscented:  [-0.4165919  -2.43763406]\n",
      "x:    [0.35022568 0.1566921  0.         0.         0.        ]\n",
      "F_gauss_hermite:  [[ 1.76874211e-01  6.95644829e-01 -3.01755487e-18  3.75870870e-18\n",
      "   7.35859873e-18]\n",
      " [ 7.44068799e-01 -5.73309376e-01  1.64112634e-18 -3.44107135e-18\n",
      "  -5.13513724e-18]] b_gauss_hermite:  [-0.41993164 -2.39805197]\n",
      "F_cubature:  [[ 0.17729408  0.69519296  0.          0.          0.        ]\n",
      " [ 0.74460055 -0.5745817   0.          0.          0.        ]] b_cubature:  [-0.42000844 -2.3980398 ]\n",
      "F_extended:  [[ 0.17687443  0.6956449   0.          0.          0.        ]\n",
      " [ 0.74406793 -0.57330926  0.          0.          0.        ]] b_extended:  [-0.41993173 -2.39805168]\n",
      "F_unscented:  [[ 0.17796929  0.69447112  0.          0.          0.        ]\n",
      " [ 0.74543771 -0.5766153   0.          0.          0.        ]] b_unscented:  [-0.42013271 -2.39801588]\n",
      "x:    [0.50908207 0.19955143 0.         0.         0.        ]\n",
      "F_gauss_hermite:  [[ 1.26900047e-01  6.37389398e-01  9.52912066e-19 -2.61521422e-17\n",
      "  -1.79994501e-18]\n",
      " [ 9.07829513e-01 -5.56773460e-01  1.22025684e-17 -2.16787495e-17\n",
      "  -5.79688173e-18]] b_gauss_hermite:  [-0.38831837 -2.47199523]\n",
      "F_cubature:  [[ 0.12715502  0.63700954  0.          0.          0.        ]\n",
      " [ 0.90798181 -0.55878336  0.          0.          0.        ]] b_cubature:  [-0.38837268 -2.47167429]\n",
      "F_extended:  [[ 0.12690016  0.63738948  0.          0.          0.        ]\n",
      " [ 0.90782798 -0.5567741   0.          0.          0.        ]] b_extended:  [-0.38831844 -2.47199433]\n",
      "F_unscented:  [[ 0.1275648   0.63640297  0.          0.          0.        ]\n",
      " [ 0.90820191 -0.56200875  0.          0.          0.        ]] b_unscented:  [-0.38846076 -2.47114686]\n",
      "x:    [0.41521251 0.17454194 0.         0.         0.        ]\n",
      "F_gauss_hermite:  [[ 1.54336833e-01  6.71114521e-01 -1.71524172e-17 -2.39286808e-17\n",
      "   2.96461532e-18]\n",
      " [ 8.06618697e-01 -5.71440047e-01  4.35427874e-18  2.66021285e-18\n",
      "  -1.15143541e-18]] b_gauss_hermite:  [-0.40726121 -2.42234219]\n",
      "F_cubature:  [[ 0.15467914  0.67069108  0.          0.          0.        ]\n",
      " [ 0.80705515 -0.57298838  0.          0.          0.        ]] b_cubature:  [-0.40732987 -2.42225466]\n",
      "F_extended:  [[ 0.154337    0.6711146   0.          0.          0.        ]\n",
      " [ 0.80661756 -0.57144013  0.          0.          0.        ]] b_extended:  [-0.40726129 -2.42234171]\n",
      "F_unscented:  [[ 0.15522949  0.67001483  0.          0.          0.        ]\n",
      " [ 0.80773579 -0.57546652  0.          0.          0.        ]] b_unscented:  [-0.40744106 -2.42210712]\n",
      "x:    [0.22293421 0.18041934 0.         0.         0.        ]\n",
      "F_gauss_hermite:  [[ 2.00025111e-01  7.65434145e-01  1.32348898e-17 -1.38701645e-17\n",
      "   6.67038446e-18]\n",
      " [ 6.42534878e-01 -6.09203973e-01  3.91256430e-18  4.33608077e-18\n",
      "   1.15970722e-18]] b_gauss_hermite:  [-0.43829832 -2.362904  ]\n",
      "F_cubature:  [[ 0.20059958  0.76484039  0.          0.          0.        ]\n",
      " [ 0.64328239 -0.61008265  0.          0.          0.        ]] b_cubature:  [-0.43832009 -2.36291228]\n",
      "F_extended:  [[ 0.20002546  0.76543425  0.          0.          0.        ]\n",
      " [ 0.64253436 -0.60920358  0.          0.          0.        ]] b_extended:  [-0.43829841 -2.36290396]\n",
      "F_unscented:  [[ 0.20152438  0.76389209  0.          0.          0.        ]\n",
      " [ 0.64447019 -0.6114822   0.          0.          0.        ]] b_unscented:  [-0.43835651 -2.36292484]\n",
      "x:    [0.3507956  0.21643219 0.         0.         0.        ]\n",
      "F_gauss_hermite:  [[ 1.48849645e-01  7.09056799e-01 -3.72165101e-17  3.44107135e-18\n",
      "   2.59403840e-18]\n",
      " [ 7.56746129e-01 -6.26981465e-01  2.67344774e-18  1.32348898e-19\n",
      "   6.69685424e-18]] b_gauss_hermite:  [-0.41260033 -2.39245357]\n",
      "F_cubature:  [[ 0.14921939  0.70854184  0.          0.          0.        ]\n",
      " [ 0.75750587 -0.62836415  0.          0.          0.        ]] b_cubature:  [-0.41261909 -2.39242168]\n",
      "F_extended:  [[ 0.14884985  0.70905692  0.          0.          0.        ]\n",
      " [ 0.75674509 -0.62698113  0.          0.          0.        ]] b_extended:  [-0.41260042 -2.39245328]\n",
      "F_unscented:  [[ 0.14981426  0.70771982  0.          0.          0.        ]\n",
      " [ 0.75870498 -0.63057078  0.          0.          0.        ]] b_unscented:  [-0.41265066 -2.3923661 ]\n",
      "x:    [0.54397267 0.10600077 0.         0.         0.        ]\n",
      "F_gauss_hermite:  [[ 1.55173474e-01  6.08081793e-01  1.17525821e-17 -8.57620859e-18\n",
      "   6.67038446e-18]\n",
      " [ 8.87613220e-01 -4.52768571e-01 -8.02034322e-18 -2.49610022e-17\n",
      "  -2.72638730e-18]] b_gauss_hermite:  [-0.39872029 -2.47733328]\n",
      "F_cubature:  [[ 0.15545471  0.60778045  0.          0.          0.        ]\n",
      " [ 0.88735319 -0.45440175  0.          0.          0.        ]] b_cubature:  [-0.39884166 -2.47702105]\n",
      "F_extended:  [[ 0.15517358  0.60808183  0.          0.          0.        ]\n",
      " [ 0.88761237 -0.4527694   0.          0.          0.        ]] b_extended:  [-0.39872035 -2.47733273]\n",
      "F_unscented:  [[ 0.15590643  0.60729888  0.          0.          0.        ]\n",
      " [ 0.88692429 -0.45702789  0.          0.          0.        ]] b_unscented:  [-0.39903686 -2.47651312]\n",
      "x:    [0.46993124 0.01712439 0.         0.         0.        ]\n",
      "F_gauss_hermite:  [[ 2.01713525e-01  6.14040557e-01  1.05879118e-17  1.05879118e-17\n",
      "  -6.35274710e-19]\n",
      " [ 7.88181726e-01 -4.25068840e-01 -3.44107135e-18 -3.44107135e-18\n",
      "  -6.19392843e-18]] b_gauss_hermite:  [-0.42270279 -2.42850275]\n",
      "F_cubature:  [[ 0.20208082  0.6137796   0.          0.          0.        ]\n",
      " [ 0.78807492 -0.42626337  0.          0.          0.        ]] b_cubature:  [-0.42287134 -2.42843357]\n",
      "F_extended:  [[ 0.20171366  0.61404055  0.          0.          0.        ]\n",
      " [ 0.78818118 -0.42506927  0.          0.          0.        ]] b_extended:  [-0.42270285 -2.42850248]\n",
      "F_unscented:  [[ 0.20267064  0.61336204  0.          0.          0.        ]\n",
      " [ 0.78789561 -0.42818133  0.          0.          0.        ]] b_unscented:  [-0.42314203 -2.42831883]\n",
      "x:    [0.55134985 0.15899523 0.         0.         0.        ]\n",
      "F_gauss_hermite:  [[ 1.35159919e-01  6.14890122e-01  1.89523622e-17 -1.49289557e-17\n",
      "  -2.22346149e-18]\n",
      " [ 9.25630741e-01 -4.93793882e-01  2.64962494e-17  1.29437222e-17\n",
      "   4.04987628e-18]] b_gauss_hermite:  [-0.38865564 -2.49269493]\n",
      "F_cubature:  [[ 0.13541186  0.6145591   0.          0.          0.        ]\n",
      " [ 0.92543139 -0.49571362  0.          0.          0.        ]] b_cubature:  [-0.38874222 -2.49228259]\n",
      "F_extended:  [[ 0.13516002  0.61489018  0.          0.          0.        ]\n",
      " [ 0.92562955 -0.49379486  0.          0.          0.        ]] b_extended:  [-0.38865571 -2.49269412]\n",
      "F_unscented:  [[ 0.13581662  0.61403035  0.          0.          0.        ]\n",
      " [ 0.92509433 -0.49880039  0.          0.          0.        ]] b_unscented:  [-0.38888179 -2.49161045]\n",
      "x:    [0.28501664 0.18827544 0.         0.         0.        ]\n",
      "F_gauss_hermite:  [[ 1.78286980e-01  7.34950283e-01 -6.88214270e-19  6.08804931e-18\n",
      "   6.08804931e-18]\n",
      " [ 6.93724308e-01 -6.11046085e-01 -1.08526096e-17 -7.46447785e-18\n",
      "   1.00585162e-18]] b_gauss_hermite:  [-0.42717472 -2.37559121]\n",
      "F_cubature:  [[ 0.17876047  0.73440602  0.          0.          0.        ]\n",
      " [ 0.69445925 -0.61213428  0.          0.          0.        ]] b_cubature:  [-0.42720786 -2.37559626]\n",
      "F_extended:  [[ 0.17828725  0.73495039  0.          0.          0.        ]\n",
      " [ 0.69372359 -0.61104573  0.          0.          0.        ]] b_extended:  [-0.42717482 -2.37559107]\n",
      "F_unscented:  [[ 0.17952243  0.73353694  0.          0.          0.        ]\n",
      " [ 0.69562372 -0.61386946  0.          0.          0.        ]] b_unscented:  [-0.42726247 -2.37560219]\n",
      "x:    [0.45713531 0.10696915 0.         0.         0.        ]\n",
      "F_gauss_hermite:  [[ 1.72554620e-01  6.39735097e-01 -6.08804931e-18 -6.08804931e-18\n",
      "   5.34689548e-18]\n",
      " [ 8.17640336e-01 -4.97034606e-01  1.32348898e-19 -1.00320465e-17\n",
      "   2.67344774e-18]] b_gauss_hermite:  [-0.41077145 -2.43760214]\n",
      "F_cubature:  [[ 0.17289992  0.63939417  0.          0.          0.        ]\n",
      " [ 0.81773471 -0.49849336  0.          0.          0.        ]] b_cubature:  [-0.41089325 -2.43749096]\n",
      "F_extended:  [[ 0.17255477  0.63973513  0.          0.          0.        ]\n",
      " [ 0.81763945 -0.497035    0.          0.          0.        ]] b_extended:  [-0.41077152 -2.4376017 ]\n",
      "F_unscented:  [[ 0.17345476  0.6388493   0.          0.          0.        ]\n",
      " [ 0.81787199 -0.50083329  0.          0.          0.        ]] b_unscented:  [-0.41108927 -2.43730615]\n",
      "x:    [0.43182871 0.05840034 0.         0.         0.        ]\n",
      "F_gauss_hermite:  [[ 1.96690887e-01  6.37744779e-01  2.24463731e-17  2.11758237e-18\n",
      "   1.27054942e-18]\n",
      " [ 7.78549917e-01 -4.69784607e-01  4.19546007e-18  8.07328278e-19\n",
      "   5.04249301e-18]] b_gauss_hermite:  [-0.42134168 -2.42248453]\n",
      "F_cubature:  [[ 0.19707901  0.6374359   0.          0.          0.        ]\n",
      " [ 0.77861902 -0.47103718  0.          0.          0.        ]] b_cubature:  [-0.42149171 -2.42244263]\n",
      "F_extended:  [[ 0.19669105  0.63774479  0.          0.          0.        ]\n",
      " [ 0.77854923 -0.46978492  0.          0.          0.        ]] b_extended:  [-0.42134175 -2.42248422]\n",
      "F_unscented:  [[ 0.19770252  0.63694189  0.          0.          0.        ]\n",
      " [ 0.77871901 -0.47304605  0.          0.          0.        ]] b_unscented:  [-0.42173284 -2.42237075]\n",
      "x:    [0.20694081 0.11445183 0.         0.         0.        ]\n",
      "F_gauss_hermite:  [[ 2.40163664e-01  7.51822444e-01  4.44692297e-18  4.44692297e-18\n",
      "   6.56450534e-18]\n",
      " [ 6.26653955e-01 -5.61204419e-01 -9.39677176e-19 -2.63374307e-18\n",
      "  -3.90429249e-18]] b_gauss_hermite:  [-0.44494425 -2.36660091]\n",
      "F_cubature:  [[ 0.24082122  0.75133105  0.          0.          0.        ]\n",
      " [ 0.62722836 -0.56201047  0.          0.          0.        ]] b_cubature:  [-0.445025  -2.3666278]\n",
      "F_extended:  [[ 0.24016403  0.75182245  0.          0.          0.        ]\n",
      " [ 0.62665351 -0.56120418  0.          0.          0.        ]] b_extended:  [-0.44494433 -2.36660085]\n",
      "F_unscented:  [[ 0.24187914  0.75054499  0.          0.          0.        ]\n",
      " [ 0.62814043 -0.56329618  0.          0.          0.        ]] b_unscented:  [-0.44515543 -2.36666983]\n",
      "x:    [0.39633289 0.11426411 0.         0.         0.        ]\n",
      "F_gauss_hermite:  [[ 1.83811566e-01  6.65383707e-01  2.24463731e-17  1.56701095e-17\n",
      "   1.48230766e-18]\n",
      " [ 7.70915176e-01 -5.25411148e-01  1.06276165e-17  2.15728704e-18\n",
      "   6.81596825e-18]] b_gauss_hermite:  [-0.41840729 -2.41453076]\n",
      "F_cubature:  [[ 0.18420906  0.66500535  0.          0.          0.        ]\n",
      " [ 0.77121132 -0.52673135  0.          0.          0.        ]] b_cubature:  [-0.4185221  -2.41449857]\n",
      "F_extended:  [[ 0.18381175  0.66538375  0.          0.          0.        ]\n",
      " [ 0.77091433 -0.52541128  0.          0.          0.        ]] b_extended:  [-0.41840736 -2.41453041]\n",
      "F_unscented:  [[ 0.18484797  0.66440063  0.          0.          0.        ]\n",
      " [ 0.77167206 -0.52884551  0.          0.          0.        ]] b_unscented:  [-0.41870702 -2.41444166]\n",
      "x:    [0.6894258  0.10786401 0.         0.         0.        ]\n",
      "F_gauss_hermite:  [[ 1.30367314e-01  5.61657222e-01  2.18110984e-17  1.50348348e-17\n",
      "  -1.48230766e-18]\n",
      " [ 9.99745840e-01 -3.48034164e-01 -8.81443661e-18 -8.81443661e-18\n",
      "   3.89105760e-18]] b_gauss_hermite:  [-0.37853453 -2.55750937]\n",
      "F_cubature:  [[ 0.13056961  0.56140982  0.          0.          0.        ]\n",
      " [ 0.99868508 -0.3497114   0.          0.          0.        ]] b_cubature:  [-0.37864753 -2.5566002 ]\n",
      "F_extended:  [[ 0.13036738  0.56165725  0.          0.          0.        ]\n",
      " [ 0.99974566 -0.34803574  0.          0.          0.        ]] b_extended:  [-0.37853458 -2.55750907]\n",
      "F_unscented:  [[ 0.13089438  0.56101447  0.          0.          0.        ]\n",
      " [ 0.99698556 -0.35242024  0.          0.          0.        ]] b_unscented:  [-0.37882914 -2.5551412 ]\n",
      "x:    [0.69571695 0.17621176 0.         0.         0.        ]\n",
      "F_gauss_hermite:  [[ 1.08642962e-01  5.68976201e-01  1.24937360e-17  5.71747239e-18\n",
      "  -2.75285708e-18]\n",
      " [ 1.06816951e+00 -3.94547866e-01 -2.17052193e-18  1.13820052e-17\n",
      "   3.33519223e-18]] b_gauss_hermite:  [-0.36451866 -2.59824207]\n",
      "F_cubature:  [[ 0.10881701  0.56870302  0.          0.          0.        ]\n",
      " [ 1.06696732 -0.39670802  0.          0.          0.        ]] b_cubature:  [-0.36459181 -2.59702919]\n",
      "F_extended:  [[ 0.10864303  0.56897625  0.          0.          0.        ]\n",
      " [ 1.06816904 -0.3945501   0.          0.          0.        ]] b_extended:  [-0.36451872 -2.59824134]\n",
      "F_unscented:  [[ 0.10909649  0.56826666  0.          0.          0.        ]\n",
      " [ 1.06503723 -0.40020015  0.          0.          0.        ]] b_unscented:  [-0.36470966 -2.59507769]\n",
      "x:    [0.34132822 0.22049301 0.         0.         0.        ]\n",
      "F_gauss_hermite:  [[ 1.48888695e-01  7.14503969e-01 -6.14098887e-18 -1.96935160e-17\n",
      "   1.27054942e-18]\n",
      " [ 7.48462087e-01 -6.32438823e-01 -9.85999290e-19 -3.52709813e-18\n",
      "   2.84550131e-19]] b_gauss_hermite:  [-0.41380388 -2.38839465]\n",
      "F_cubature:  [[ 0.14926434  0.71397589  0.          0.          0.        ]\n",
      " [ 0.74925489 -0.63378665  0.          0.          0.        ]] b_cubature:  [-0.41381618 -2.38836883]\n",
      "F_extended:  [[ 0.14888891  0.7145041   0.          0.          0.        ]\n",
      " [ 0.74846108 -0.63243845  0.          0.          0.        ]] b_extended:  [-0.41380398 -2.38839439]\n",
      "F_unscented:  [[ 0.14986876  0.71313297  0.          0.          0.        ]\n",
      " [ 0.75050741 -0.63593682  0.          0.          0.        ]] b_unscented:  [-0.41383746 -2.38832347]\n",
      "x:    [0.53033784 0.24727873 0.         0.         0.        ]\n",
      "F_gauss_hermite:  [[ 1.05046485e-01  6.36102911e-01  1.95876369e-17 -7.51741741e-18\n",
      "   9.21148330e-18]\n",
      " [ 9.56237057e-01 -5.96644235e-01 -7.30565917e-18 -7.30565917e-18\n",
      "  -3.49401091e-18]] b_gauss_hermite:  [-0.37666857 -2.48823314]\n",
      "F_cubature:  [[ 0.10525758  0.6357095   0.          0.          0.        ]\n",
      " [ 0.95647123 -0.59902194  0.          0.          0.        ]] b_cubature:  [-0.3766835  -2.48777256]\n",
      "F_extended:  [[ 0.10504658  0.636103    0.          0.          0.        ]\n",
      " [ 0.95623499 -0.59664501  0.          0.          0.        ]] b_extended:  [-0.37666864 -2.48823186]\n",
      "F_unscented:  [[ 0.10559688  0.63508149  0.          0.          0.        ]\n",
      " [ 0.95681416 -0.60283766  0.          0.          0.        ]] b_unscented:  [-0.37670857 -2.48701598]\n",
      "x:    [0.58605794 0.04305042 0.         0.         0.        ]\n",
      "F_gauss_hermite:  [[ 1.67725820e-01  5.82171474e-01  4.12928562e-18  1.09055492e-17\n",
      "   3.49401091e-18]\n",
      " [ 8.80277435e-01 -3.80775381e-01  1.01114558e-17 -3.44107135e-18\n",
      "  -4.76456033e-19]] b_gauss_hermite:  [-0.40386736 -2.47855741]\n",
      "F_cubature:  [[ 0.16800269  0.58192459  0.          0.          0.        ]\n",
      " [ 0.87977646 -0.38216315  0.          0.          0.        ]] b_cubature:  [-0.4040193  -2.47820618]\n",
      "F_extended:  [[ 0.16772592  0.58217149  0.          0.          0.        ]\n",
      " [ 0.88027698 -0.38077625  0.          0.          0.        ]] b_extended:  [-0.40386742 -2.47855711]\n",
      "F_unscented:  [[ 0.1684472   0.58152985  0.          0.          0.        ]\n",
      " [ 0.87896815 -0.38439729  0.          0.          0.        ]] b_unscented:  [-0.4042633  -2.47763966]\n",
      "x:    [0.68047542 0.20402025 0.         0.         0.        ]\n",
      "F_gauss_hermite:  [[ 1.01655241e-01  5.77165241e-01 -1.99582138e-17 -1.99582138e-17\n",
      "   2.06464281e-18]\n",
      " [ 1.08196594e+00 -4.34323242e-01 -1.17261124e-17 -1.17261124e-17\n",
      "   4.36751363e-18]] b_gauss_hermite:  [-0.36126779 -2.60016932]\n",
      "F_cubature:  [[ 0.10182314  0.5768749   0.          0.          0.        ]\n",
      " [ 1.08087103 -0.43674151  0.          0.          0.        ]] b_cubature:  [-0.36132299 -2.5989355 ]\n",
      "F_extended:  [[ 0.1016553   0.57716529  0.          0.          0.        ]\n",
      " [ 1.08196505 -0.43432566  0.          0.          0.        ]] b_extended:  [-0.36126784 -2.60016822]\n",
      "F_unscented:  [[ 0.10209277  0.57641118  0.          0.          0.        ]\n",
      " [ 1.07910643 -0.44064949  0.          0.          0.        ]] b_unscented:  [-0.36141217 -2.59694481]\n",
      "x:    [0.59952713 0.02796715 0.         0.         0.        ]\n",
      "F_gauss_hermite:  [[ 1.69716411e-01  5.75100103e-01 -3.17637355e-18 -1.67289007e-17\n",
      "   6.56450534e-18]\n",
      " [ 8.79487909e-01 -3.62343791e-01 -6.40568666e-18  3.70576914e-19\n",
      "   2.80579664e-18]] b_gauss_hermite:  [-0.40479597 -2.47874357]\n",
      "F_cubature:  [[ 0.1699894   0.57486598  0.          0.          0.        ]\n",
      " [ 0.87892966 -0.36367035  0.          0.          0.        ]] b_cubature:  [-0.40495338 -2.47837383]\n",
      "F_extended:  [[ 0.1697165   0.57510012  0.          0.          0.        ]\n",
      " [ 0.87948755 -0.36234465  0.          0.          0.        ]] b_extended:  [-0.40479603 -2.47874334]\n",
      "F_unscented:  [[ 0.17042764  0.57449158  0.          0.          0.        ]\n",
      " [ 0.87803115 -0.36580655  0.          0.          0.        ]] b_unscented:  [-0.40520612 -2.47777868]\n",
      "x:    [0.61732487 0.20500013 0.         0.         0.        ]\n",
      "F_gauss_hermite:  [[ 1.09147371e-01  5.98396423e-01 -3.02814279e-17 -3.02814279e-17\n",
      "   3.81164826e-18]\n",
      " [ 1.02124172e+00 -4.91574754e-01 -1.87935435e-18  1.50877744e-18\n",
      "   2.77932686e-18]] b_gauss_hermite:  [-0.37046726 -2.54907993]\n",
      "F_cubature:  [[ 0.10934103  0.59807527  0.          0.          0.        ]\n",
      " [ 1.02069327 -0.49394925  0.          0.          0.        ]] b_cubature:  [-0.3705212  -2.54825861]\n",
      "F_extended:  [[ 0.10914745  0.59839648  0.          0.          0.        ]\n",
      " [ 1.02124029 -0.49157651  0.          0.          0.        ]] b_extended:  [-0.37046732 -2.54907869]\n",
      "F_unscented:  [[ 0.10965212  0.59756239  0.          0.          0.        ]\n",
      " [ 1.01979445 -0.49777606  0.          0.          0.        ]] b_unscented:  [-0.37060846 -2.54692569]\n"
     ]
    }
   ],
   "source": [
    "m_q = 0*np.random.randn(1)\n",
    "yhat_gauss_hermite = []\n",
    "yhat_extended = []\n",
    "yhat_cubature = []\n",
    "yhat_unscented = []\n",
    "\n",
    "delta = 0.1\n",
    "for m_x, cov_x in zip(initial_states.mean,initial_states.cov):\n",
    "    x = MVNStandard(m_x, cov_x)\n",
    "    # functional_model  = FunctionalModel(nonlinear_function, MVNStandard(m_q, chol_q @ chol_q.T))\n",
    "    F_gauss_hermite, _, b_gauss_hermite = gauss_hermite(observation_model, x)\n",
    "    F_extended, _, b_extended = extended(observation_model, x)\n",
    "    F_cubature, _, b_cubature = cubature(observation_model, x)\n",
    "    F_unscented, _, b_unscented = unscented(observation_model, x)\n",
    "    # yhat_gauss_hermite.append((F_gauss_hermite * (m_x+delta) + b_gauss_hermite)[0])\n",
    "    # yhat_extended.append((F_extended * (m_x+delta) + b_extended)[0])\n",
    "    # yhat_cubature.append((F_cubature * (m_x+delta) + b_cubature)[0])\n",
    "    # yhat_unscented.append((F_unscented * (m_x+delta) + b_unscented)[0])\n",
    "\n",
    "    print('x:   ', m_x)\n",
    "    print('F_gauss_hermite: ', F_gauss_hermite, 'b_gauss_hermite: ', b_gauss_hermite)\n",
    "    print('F_cubature: ', F_cubature, 'b_cubature: ', b_cubature)\n",
    "    print('F_extended: ', F_extended, 'b_extended: ', b_extended)\n",
    "    print('F_unscented: ', F_unscented, 'b_unscented: ', b_unscented)"
   ],
   "metadata": {
    "collapsed": false,
    "pycharm": {
     "name": "#%%\n"
    }
   }
  },
  {
   "cell_type": "code",
   "execution_count": 92,
   "outputs": [
    {
     "name": "stdout",
     "output_type": "stream",
     "text": [
      "F_gauss_hermite:  [[ 1.09147371e-01  5.98396423e-01 -3.02814279e-17 -3.02814279e-17\n",
      "   3.81164826e-18]\n",
      " [ 1.02124172e+00 -4.91574754e-01 -1.87935435e-18  1.50877744e-18\n",
      "   2.77932686e-18]] b_gauss_hermite:  [-0.37046726 -2.54907993]\n",
      "F_cubature:  [[ 0.10934103  0.59807527  0.          0.          0.        ]\n",
      " [ 1.02069327 -0.49394925  0.          0.          0.        ]] b_cubature:  [-0.3705212  -2.54825861]\n",
      "F_extended:  [[ 0.10914745  0.59839648  0.          0.          0.        ]\n",
      " [ 1.02124029 -0.49157651  0.          0.          0.        ]] b_extended:  [-0.37046732 -2.54907869]\n",
      "F_unscented:  [[ 0.10965212  0.59756239  0.          0.          0.        ]\n",
      " [ 1.01979445 -0.49777606  0.          0.          0.        ]] b_unscented:  [-0.37060846 -2.54692569]\n"
     ]
    }
   ],
   "source": [
    "    print('F_gauss_hermite: ', F_gauss_hermite, 'b_gauss_hermite: ', b_gauss_hermite)\n",
    "    print('F_cubature: ', F_cubature, 'b_cubature: ', b_cubature)\n",
    "    print('F_extended: ', F_extended, 'b_extended: ', b_extended)\n",
    "    print('F_unscented: ', F_unscented, 'b_unscented: ', b_unscented)"
   ],
   "metadata": {
    "collapsed": false,
    "pycharm": {
     "name": "#%%\n"
    }
   }
  },
  {
   "cell_type": "code",
   "execution_count": 93,
   "outputs": [
    {
     "data": {
      "text/plain": "DeviceArray([[ 1.09147371e-01,  5.98396423e-01, -3.02814279e-17,\n              -3.02814279e-17,  3.81164826e-18],\n             [ 1.02124172e+00, -4.91574754e-01, -1.87935435e-18,\n               1.50877744e-18,  2.77932686e-18]], dtype=float64)"
     },
     "execution_count": 93,
     "metadata": {},
     "output_type": "execute_result"
    }
   ],
   "source": [
    "F_gauss_hermite"
   ],
   "metadata": {
    "collapsed": false,
    "pycharm": {
     "name": "#%%\n"
    }
   }
  },
  {
   "cell_type": "code",
   "execution_count": 94,
   "outputs": [
    {
     "data": {
      "text/plain": "DeviceArray([[ 0.10934103,  0.59807527,  0.        ,  0.        ,\n               0.        ],\n             [ 1.02069327, -0.49394925,  0.        ,  0.        ,\n               0.        ]], dtype=float64)"
     },
     "execution_count": 94,
     "metadata": {},
     "output_type": "execute_result"
    }
   ],
   "source": [
    "F_cubature"
   ],
   "metadata": {
    "collapsed": false,
    "pycharm": {
     "name": "#%%\n"
    }
   }
  },
  {
   "cell_type": "code",
   "execution_count": 95,
   "outputs": [
    {
     "data": {
      "text/plain": "DeviceArray([[ 0.10914745,  0.59839648,  0.        ,  0.        ,\n               0.        ],\n             [ 1.02124029, -0.49157651,  0.        ,  0.        ,\n               0.        ]], dtype=float64)"
     },
     "execution_count": 95,
     "metadata": {},
     "output_type": "execute_result"
    }
   ],
   "source": [
    "F_extended"
   ],
   "metadata": {
    "collapsed": false,
    "pycharm": {
     "name": "#%%\n"
    }
   }
  },
  {
   "cell_type": "code",
   "execution_count": 96,
   "outputs": [
    {
     "data": {
      "text/plain": "DeviceArray([[ 0.10965212,  0.59756239,  0.        ,  0.        ,\n               0.        ],\n             [ 1.01979445, -0.49777606,  0.        ,  0.        ,\n               0.        ]], dtype=float64)"
     },
     "execution_count": 96,
     "metadata": {},
     "output_type": "execute_result"
    }
   ],
   "source": [
    "F_unscented"
   ],
   "metadata": {
    "collapsed": false,
    "pycharm": {
     "name": "#%%\n"
    }
   }
  },
  {
   "cell_type": "code",
   "execution_count": 55,
   "outputs": [
    {
     "name": "stdout",
     "output_type": "stream",
     "text": [
      "(5,) (5, 5)\n",
      "(5,) (5, 5)\n",
      "(5,) (5, 5)\n",
      "(5,) (5, 5)\n",
      "(5,) (5, 5)\n",
      "(5,) (5, 5)\n",
      "(5,) (5, 5)\n",
      "(5,) (5, 5)\n",
      "(5,) (5, 5)\n",
      "(5,) (5, 5)\n",
      "(5,) (5, 5)\n",
      "(5,) (5, 5)\n",
      "(5,) (5, 5)\n",
      "(5,) (5, 5)\n",
      "(5,) (5, 5)\n",
      "(5,) (5, 5)\n",
      "(5,) (5, 5)\n",
      "(5,) (5, 5)\n",
      "(5,) (5, 5)\n",
      "(5,) (5, 5)\n",
      "(5,) (5, 5)\n",
      "(5,) (5, 5)\n",
      "(5,) (5, 5)\n",
      "(5,) (5, 5)\n",
      "(5,) (5, 5)\n",
      "(5,) (5, 5)\n",
      "(5,) (5, 5)\n",
      "(5,) (5, 5)\n",
      "(5,) (5, 5)\n",
      "(5,) (5, 5)\n",
      "(5,) (5, 5)\n",
      "(5,) (5, 5)\n",
      "(5,) (5, 5)\n",
      "(5,) (5, 5)\n",
      "(5,) (5, 5)\n",
      "(5,) (5, 5)\n",
      "(5,) (5, 5)\n",
      "(5,) (5, 5)\n",
      "(5,) (5, 5)\n",
      "(5,) (5, 5)\n",
      "(5,) (5, 5)\n",
      "(5,) (5, 5)\n",
      "(5,) (5, 5)\n",
      "(5,) (5, 5)\n",
      "(5,) (5, 5)\n",
      "(5,) (5, 5)\n",
      "(5,) (5, 5)\n",
      "(5,) (5, 5)\n",
      "(5,) (5, 5)\n",
      "(5,) (5, 5)\n",
      "(5,) (5, 5)\n"
     ]
    }
   ],
   "source": [
    "for x, cov in zip(initial_states.mean,initial_states.cov):\n",
    "    print(x.shape,cov.shape)\n"
   ],
   "metadata": {
    "collapsed": false,
    "pycharm": {
     "name": "#%%\n"
    }
   }
  },
  {
   "cell_type": "code",
   "execution_count": 73,
   "outputs": [
    {
     "data": {
      "text/plain": "(5, 5)"
     },
     "execution_count": 73,
     "metadata": {},
     "output_type": "execute_result"
    }
   ],
   "source": [
    "Q.shape\n",
    "\n",
    "\n",
    "\n"
   ],
   "metadata": {
    "collapsed": false,
    "pycharm": {
     "name": "#%%\n"
    }
   }
  },
  {
   "cell_type": "code",
   "execution_count": 74,
   "outputs": [
    {
     "data": {
      "text/plain": "(5, 5)"
     },
     "execution_count": 74,
     "metadata": {},
     "output_type": "execute_result"
    }
   ],
   "source": [
    "cov_x.shape"
   ],
   "metadata": {
    "collapsed": false,
    "pycharm": {
     "name": "#%%\n"
    }
   }
  },
  {
   "cell_type": "code",
   "execution_count": 75,
   "outputs": [
    {
     "data": {
      "text/plain": "DeviceArray([[1., 0., 0., 0., 0.],\n             [0., 1., 0., 0., 0.],\n             [0., 0., 1., 0., 0.],\n             [0., 0., 0., 1., 0.],\n             [0., 0., 0., 0., 1.]], dtype=float64)"
     },
     "execution_count": 75,
     "metadata": {},
     "output_type": "execute_result"
    }
   ],
   "source": [
    "cov_x"
   ],
   "metadata": {
    "collapsed": false,
    "pycharm": {
     "name": "#%%\n"
    }
   }
  },
  {
   "cell_type": "code",
   "execution_count": null,
   "outputs": [],
   "source": [],
   "metadata": {
    "collapsed": false,
    "pycharm": {
     "name": "#%%\n"
    }
   }
  }
 ],
 "metadata": {
  "kernelspec": {
   "display_name": "Python 3",
   "language": "python",
   "name": "python3"
  },
  "language_info": {
   "codemirror_mode": {
    "name": "ipython",
    "version": 3
   },
   "file_extension": ".py",
   "mimetype": "text/x-python",
   "name": "python",
   "nbconvert_exporter": "python",
   "pygments_lexer": "ipython3",
   "version": "3.8.8"
  }
 },
 "nbformat": 4,
 "nbformat_minor": 1
}