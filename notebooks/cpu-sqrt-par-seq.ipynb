{
 "cells": [
  {
   "cell_type": "code",
   "execution_count": 1,
   "id": "c0b9b0bf",
   "metadata": {},
   "outputs": [],
   "source": [
    "import sys\n",
    "\n",
    "import jax as jax\n",
    "\n",
    "sys.path.append('..//')\n",
    "\n",
    "import jax\n",
    "import numpy as np\n",
    "import jax.numpy as jnp\n",
    "import matplotlib.pyplot as plt\n",
    "from jax import jit\n",
    "import time\n",
    "import warnings\n",
    "\n",
    "jax.config.update(\"jax_enable_x64\", False)\n",
    "jax.config.update(\"jax_platform_name\", \"cpu\")\n",
    "\n",
    "from parsmooth._base import MVNStandard, FunctionalModel, MVNSqrt\n",
    "from parsmooth.linearization import cubature, extended\n",
    "from parsmooth.methods import iterated_smoothing\n",
    "from bearing_data import get_data, make_parameters"
   ]
  },
  {
   "cell_type": "code",
   "execution_count": 2,
   "id": "c154142b",
   "metadata": {},
   "outputs": [],
   "source": [
    "warnings.simplefilter(\"ignore\")"
   ]
  },
  {
   "cell_type": "code",
   "execution_count": 3,
   "id": "ab0fee27",
   "metadata": {
    "scrolled": true
   },
   "outputs": [],
   "source": [
    "s1 = jnp.array([-1.5, 0.5])  # First sensor location\n",
    "s2 = jnp.array([1., 1.])  # Second sensor location\n",
    "r = 0.5  # Observation noise (stddev)\n",
    "x0 = jnp.array([0.1, 0.2, 1, 0])  # initial true location\n",
    "dt = 0.01  # discretization time step\n",
    "qc = 0.01  # discretization noise\n",
    "qw = 0.1  # discretization noise\n",
    "\n",
    "T = 5000\n",
    "_, true_states, ys = get_data(x0, dt, r, T, s1, s2)\n",
    "Q, R, observation_function, transition_function = make_parameters(qc, qw, r, dt, s1, s2)\n",
    "\n",
    "chol_Q = jnp.linalg.cholesky(Q)\n",
    "chol_R = jnp.linalg.cholesky(R)\n",
    "\n",
    "m0 = jnp.array([-4., -1., 2., 7., 3.])\n",
    "chol_P0 = jnp.eye(5)\n",
    "P0 = jnp.eye(5)\n",
    "\n",
    "init = MVNStandard(m0, P0)\n",
    "chol_init = MVNSqrt(m0, chol_P0)\n",
    "\n",
    "initial_states =  MVNStandard(jnp.repeat(jnp.array([[-1., -1., 6., 4., 2.]]),T + 1, axis=0),\n",
    "                                                     jnp.repeat(jnp.eye(5).reshape(1, 5, 5), T + 1, axis=0))\n",
    "initial_states_sqrt = MVNSqrt(jnp.repeat(jnp.array([[-1., -1., 6., 4., 2.]]),T + 1, axis=0),\n",
    "                              jnp.repeat(jnp.eye(5).reshape(1, 5, 5), T + 1, axis=0))\n",
    "\n",
    "\n",
    "sqrt_transition_model = FunctionalModel(transition_function, MVNSqrt(jnp.zeros((5,)), chol_Q))\n",
    "transition_model = FunctionalModel(transition_function, MVNStandard(jnp.zeros((5,)), Q))\n",
    "\n",
    "sqrt_observation_model = FunctionalModel(observation_function, MVNSqrt(jnp.zeros((2,)), chol_R))\n",
    "observation_model = FunctionalModel(observation_function, MVNStandard(jnp.zeros((2,)), R))"
   ]
  },
  {
   "cell_type": "markdown",
   "id": "7b9639ee",
   "metadata": {},
   "source": [
    "# Cubature"
   ]
  },
  {
   "cell_type": "code",
   "execution_count": 4,
   "id": "42cbfd9f",
   "metadata": {},
   "outputs": [],
   "source": [
    "def cubature_sqrt_seq(y, initial_points_sqrt, iteration):\n",
    "    sqrt_seq_res = iterated_smoothing(y, chol_init, sqrt_transition_model, sqrt_observation_model,\n",
    "                                      cubature, initial_points_sqrt, False,\n",
    "                                      criterion=lambda i, *_: i < iteration)\n",
    "    return sqrt_seq_res\n",
    "\n",
    "\n",
    "def cubature_sqrt_par(y, initial_points_sqrt, iteration):\n",
    "    sqrt_par_res = iterated_smoothing(y, chol_init, sqrt_transition_model, sqrt_observation_model,\n",
    "                                      cubature, initial_points_sqrt, True,\n",
    "                                      criterion=lambda i, *_: i < iteration)\n",
    "    return sqrt_par_res\n",
    "\n",
    "\n",
    "def cubature_std_seq(y, initial_points, iteration):\n",
    "    std_seq_res = iterated_smoothing(y, init, transition_model, observation_model,\n",
    "                                     cubature, initial_points, False,\n",
    "                                     criterion=lambda i, *_: i < iteration)\n",
    "    return std_seq_res\n",
    "\n",
    "\n",
    "def cubature_std_par(y, initial_points, iteration):\n",
    "    std_par_res = iterated_smoothing(y, init, transition_model, observation_model,\n",
    "                                     cubature, initial_points, True,\n",
    "                                     criterion=lambda i, *_: i < iteration)\n",
    "    return std_par_res"
   ]
  },
  {
   "cell_type": "code",
   "execution_count": 5,
   "id": "9678de9c",
   "metadata": {},
   "outputs": [],
   "source": [
    "def func(method, lengths, n_runs=100, n_iter=10, sqrt=False):\n",
    "    res_mean = []\n",
    "    res_median = []\n",
    "    for k, j in enumerate(lengths):\n",
    "        print(f\"Iteration {k+1} out of {len(lengths)}\", end=\"\\r\")\n",
    "        observations_slice = ys[:j]\n",
    "        \n",
    "        if sqrt:\n",
    "            init_linearizations_points_slice = initial_states_sqrt.mean[:j+1]\n",
    "            init_linearizations_chols_slice = initial_states_sqrt.chol[:j+1]\n",
    "            init_linearizations_states = MVNSqrt(init_linearizations_points_slice, init_linearizations_chols_slice)\n",
    "            args = observations_slice, init_linearizations_states, n_iter\n",
    "        else:\n",
    "            init_linearizations_points_slice = initial_states.mean[:j+1]\n",
    "            init_linearizations_covs_slice = initial_states.cov[:j+1]\n",
    "            init_linearizations_states = MVNStandard(init_linearizations_points_slice, init_linearizations_covs_slice)\n",
    "            args = observations_slice, init_linearizations_states, n_iter\n",
    "            \n",
    "        s = method(*args)                \n",
    "        s.mean.block_until_ready()\n",
    "        run_times = []\n",
    "        for _ in range(n_runs):\n",
    "            tic = time.time()\n",
    "            s_states = method(*args)\n",
    "            s_states.mean.block_until_ready()\n",
    "            toc = time.time()\n",
    "            run_times.append(toc - tic)\n",
    "        res_mean.append(np.mean(run_times))\n",
    "        res_median.append(np.median(run_times))\n",
    "    print()\n",
    "    return np.array(res_mean)#, np.array(res_median)"
   ]
  },
  {
   "cell_type": "code",
   "execution_count": 6,
   "id": "2b5eec5d",
   "metadata": {},
   "outputs": [],
   "source": [
    "lengths_space = np.logspace(2, int(np.log2(T)), num=10, base=2, dtype=int)\n"
   ]
  },
  {
   "cell_type": "code",
   "execution_count": 7,
   "id": "6f0972e6",
   "metadata": {},
   "outputs": [],
   "source": [
    "cpu_cubature_sqrt_par = jit(cubature_sqrt_par, backend=\"cpu\")\n",
    "cpu_cubature_sqrt_seq = jit(cubature_sqrt_seq, backend=\"cpu\")\n",
    "cpu_cubature_std_seq = jit(cubature_std_seq, backend=\"cpu\")\n",
    "cpu_cubature_std_par = jit(cubature_std_par, backend=\"cpu\")\n"
   ]
  },
  {
   "cell_type": "code",
   "execution_count": null,
   "id": "b7582a26",
   "metadata": {},
   "outputs": [
    {
     "name": "stdout",
     "output_type": "stream",
     "text": [
      "Iteration 1 out of 10\r"
     ]
    },
    {
     "name": "stderr",
     "output_type": "stream",
     "text": [
      "2021-11-18 10:25:52.185314: E external/org_tensorflow/tensorflow/compiler/xla/service/slow_operation_alarm.cc:55] \n",
      "********************************\n",
      "Very slow compile?  If you want to file a bug, run with envvar XLA_FLAGS=--xla_dump_to=/tmp/foo and attach the results.\n",
      "Compiling module jit_cubature_sqrt_par.64867\n",
      "********************************\n"
     ]
    },
    {
     "name": "stdout",
     "output_type": "stream",
     "text": [
      "Iteration 2 out of 10\r"
     ]
    },
    {
     "name": "stderr",
     "output_type": "stream",
     "text": [
      "2021-11-18 10:29:11.085499: E external/org_tensorflow/tensorflow/compiler/xla/service/slow_operation_alarm.cc:55] \n",
      "********************************\n",
      "Very slow compile?  If you want to file a bug, run with envvar XLA_FLAGS=--xla_dump_to=/tmp/foo and attach the results.\n",
      "Compiling module jit_cubature_sqrt_par__1.85607\n",
      "********************************\n"
     ]
    },
    {
     "name": "stdout",
     "output_type": "stream",
     "text": [
      "Iteration 3 out of 10\r"
     ]
    },
    {
     "name": "stderr",
     "output_type": "stream",
     "text": [
      "2021-11-18 10:35:44.144093: E external/org_tensorflow/tensorflow/compiler/xla/service/slow_operation_alarm.cc:55] \n",
      "********************************\n",
      "Very slow compile?  If you want to file a bug, run with envvar XLA_FLAGS=--xla_dump_to=/tmp/foo and attach the results.\n",
      "Compiling module jit_cubature_sqrt_par__2.106331\n",
      "********************************\n"
     ]
    }
   ],
   "source": [
    "warnings.filterwarnings(\"ignore\")\n",
    "\n",
    "cpu_cubature_sqrt_par_mean_time, cpu_cubature_sqrt_par_median_time = func(cpu_cubature_sqrt_par, lengths_space, sqrt=True)\n",
    "\n"
   ]
  },
  {
   "cell_type": "code",
   "execution_count": null,
   "id": "03446d6f",
   "metadata": {},
   "outputs": [],
   "source": [
    "warnings.filterwarnings(\"ignore\")\n",
    "cpu_cubature_sqrt_seq_mean_time, cpu_cubature_sqrt_seq_median_time = func(cpu_cubature_sqrt_seq, lengths_space, sqrt = True)\n",
    "\n"
   ]
  },
  {
   "cell_type": "code",
   "execution_count": null,
   "id": "a312efdc",
   "metadata": {},
   "outputs": [],
   "source": [
    "warnings.filterwarnings(\"ignore\")\n",
    "cpu_cubature_std_seq_mean_time, cpu_cubature_std_seq_median_time = func(cpu_cubature_std_seq, lengths_space, sqrt = False)\n"
   ]
  },
  {
   "cell_type": "code",
   "execution_count": null,
   "id": "15046376",
   "metadata": {},
   "outputs": [],
   "source": [
    "warnings.filterwarnings(\"ignore\")\n",
    "cpu_cubature_std_par_mean_time, cpu_cubature_std_par_median_time = func(cpu_cubature_std_par, lengths_space, sqrt = False)\n"
   ]
  },
  {
   "cell_type": "code",
   "execution_count": null,
   "id": "ec0c76b7",
   "metadata": {},
   "outputs": [],
   "source": [
    "jnp.savez(\"CPU-cubature-newtria-T5e3-100runs-mean-median-time\",\n",
    "          cpu_cubature_std_seq_mean_time=cpu_cubature_std_seq_mean_time,\n",
    "          cpu_cubature_std_seq_median_time=cpu_cubature_std_seq_median_time,\n",
    "          \n",
    "          cpu_cubature_std_par_mean_time=cpu_cubature_std_par_mean_time,\n",
    "          cpu_cubature_std_par_median_time=cpu_cubature_std_par_median_time,\n",
    "          \n",
    "          cpu_cubature_sqrt_seq_mean_time=cpu_cubature_sqrt_seq_mean_time,\n",
    "          cpu_cubature_sqrt_seq_median_time=cpu_cubature_sqrt_seq_median_time,\n",
    "          \n",
    "          cpu_cubature_sqrt_par_mean_time=cpu_cubature_sqrt_par_mean_time,\n",
    "          cpu_cubature_sqrt_par_median_time=cpu_cubature_sqrt_par_median_time)\n"
   ]
  },
  {
   "cell_type": "code",
   "execution_count": null,
   "id": "7dd00c82",
   "metadata": {},
   "outputs": [],
   "source": [
    "plt.figure(figsize=(10,7))\n",
    "plt.loglog(lengths_space, cpu_cubature_std_seq_mean_time, label=\"cubature-std-Seq-CPU\", linestyle=\"-.\", linewidth=3)\n",
    "plt.loglog(lengths_space, cpu_cubature_std_par_mean_time, label=\"cubature-std-Par-CPU\", linestyle=\"-.\", linewidth=3)\n",
    "plt.loglog(lengths_space, cpu_cubature_sqrt_par_mean_time, label=\"cubature-sqrt-Par-CPU\", linestyle=\"-.\", linewidth=3)\n",
    "plt.loglog(lengths_space, cpu_cubature_sqrt_seq_mean_time, label=\"cubature-sqrt-Seq-CPU\", linestyle=\"-.\", linewidth=3)\n",
    "\n",
    "\n",
    "plt.grid(True, which=\"both\")\n",
    "plt.title(\"cubature-CPU, sequential v.s parallel, std v.s sqrt\")\n",
    "plt.legend()\n",
    "plt.show()"
   ]
  },
  {
   "cell_type": "markdown",
   "id": "ac5a80c3",
   "metadata": {},
   "source": [
    "# Extended"
   ]
  },
  {
   "cell_type": "code",
   "execution_count": null,
   "id": "e262b9a9",
   "metadata": {},
   "outputs": [],
   "source": [
    "def extended_sqrt_seq(y, initial_points_sqrt, iteration):\n",
    "    sqrt_seq_res = iterated_smoothing(y, chol_init, sqrt_transition_model, sqrt_observation_model,\n",
    "                                      extended, initial_points_sqrt, False,\n",
    "                                      criterion=lambda i, *_: i < iteration)\n",
    "    return sqrt_seq_res\n",
    "\n",
    "\n",
    "def extended_sqrt_par(y, initial_points_sqrt, iteration):\n",
    "    sqrt_par_res = iterated_smoothing(y, chol_init, sqrt_transition_model, sqrt_observation_model,\n",
    "                                      extended, initial_points_sqrt, True,\n",
    "                                      criterion=lambda i, *_: i < iteration)\n",
    "    return sqrt_par_res\n",
    "\n",
    "\n",
    "def extended_std_seq(y, initial_points, iteration):\n",
    "    std_seq_res = iterated_smoothing(y, init, transition_model, observation_model,\n",
    "                                     extended, initial_points, False,\n",
    "                                     criterion=lambda i, *_: i < iteration)\n",
    "    return std_seq_res\n",
    "\n",
    "\n",
    "def extended_std_par(y, initial_points, iteration):\n",
    "    std_par_res = iterated_smoothing(y, init, transition_model, observation_model,\n",
    "                                     extended, initial_points, True,\n",
    "                                     criterion=lambda i, *_: i < iteration)\n",
    "    return std_par_res"
   ]
  },
  {
   "cell_type": "code",
   "execution_count": null,
   "id": "6ee14e2a",
   "metadata": {},
   "outputs": [],
   "source": [
    "cpu_extended_sqrt_par = jit(extended_sqrt_par, backend=\"cpu\")\n",
    "cpu_extended_sqrt_seq = jit(extended_sqrt_seq, backend=\"cpu\")\n",
    "cpu_extended_std_seq = jit(extended_std_seq, backend=\"cpu\")\n",
    "cpu_extended_std_par = jit(extended_std_par, backend=\"cpu\")"
   ]
  },
  {
   "cell_type": "code",
   "execution_count": null,
   "id": "be864fb4",
   "metadata": {},
   "outputs": [],
   "source": [
    "warnings.filterwarnings(\"ignore\")\n",
    "cpu_extended_sqrt_par_mean_time, cpu_extended_sqrt_par_median_time = func(cpu_extended_sqrt_par, lengths_space, sqrt=True)\n"
   ]
  },
  {
   "cell_type": "code",
   "execution_count": null,
   "id": "f6e92ef6",
   "metadata": {},
   "outputs": [],
   "source": [
    "warnings.filterwarnings(\"ignore\")\n",
    "cpu_extended_sqrt_seq_mean_time, cpu_extended_sqrt_seq_median_time = func(cpu_extended_sqrt_seq, lengths_space, sqrt=True)\n"
   ]
  },
  {
   "cell_type": "code",
   "execution_count": null,
   "id": "3495cf51",
   "metadata": {},
   "outputs": [],
   "source": [
    "warnings.filterwarnings(\"ignore\")\n",
    "cpu_extended_std_seq_mean_time, cpu_extended_std_seq_median_time = func(cpu_extended_std_seq, lengths_space, sqrt=False)\n"
   ]
  },
  {
   "cell_type": "code",
   "execution_count": null,
   "id": "df080f83",
   "metadata": {},
   "outputs": [],
   "source": [
    "warnings.filterwarnings(\"ignore\")\n",
    "cpu_extended_std_par_mean_time, cpu_extended_std_par_median_time = func(cpu_extended_std_par, lengths_space, sqrt=False)\n"
   ]
  },
  {
   "cell_type": "code",
   "execution_count": null,
   "id": "fb5425b3",
   "metadata": {},
   "outputs": [],
   "source": [
    "jnp.savez(\"CPU-extended-newtria-T5e3-100runs-mean-mediantime\",\n",
    "          cpu_extended_std_seq_mean_time=cpu_extended_std_seq_mean_time,\n",
    "          cpu_extended_std_seq_median_time=cpu_extended_std_seq_median_time,\n",
    "          \n",
    "          cpu_extended_std_par_mean_time=cpu_extended_std_par_mean_time,\n",
    "          cpu_extended_std_par_median_time=cpu_extended_std_par_median_time,\n",
    "          \n",
    "          cpu_extended_sqrt_seq_mean_time=cpu_extended_sqrt_seq_mean_time,\n",
    "          cpu_extended_sqrt_seq_median_time=cpu_extended_sqrt_seq_median_time,\n",
    "          \n",
    "          cpu_extended_sqrt_par_mean_time=cpu_extended_sqrt_par_mean_time,\n",
    "          cpu_extended_sqrt_par_median_time=cpu_extended_sqrt_par_median_time)"
   ]
  }
 ],
 "metadata": {
  "kernelspec": {
   "display_name": "Python 3 (ipykernel)",
   "language": "python",
   "name": "python3"
  },
  "language_info": {
   "codemirror_mode": {
    "name": "ipython",
    "version": 3
   },
   "file_extension": ".py",
   "mimetype": "text/x-python",
   "name": "python",
   "nbconvert_exporter": "python",
   "pygments_lexer": "ipython3",
   "version": "3.9.5"
  }
 },
 "nbformat": 4,
 "nbformat_minor": 5
}
