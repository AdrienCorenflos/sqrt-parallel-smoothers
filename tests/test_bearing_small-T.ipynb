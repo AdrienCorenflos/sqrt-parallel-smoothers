{
 "cells": [
  {
   "cell_type": "code",
   "execution_count": 1,
   "id": "862a7e5a",
   "metadata": {},
   "outputs": [],
   "source": [
    "import sys\n",
    "sys.path.append('..//')\n",
    "\n",
    "import jax\n",
    "import jax.numpy as jnp\n",
    "import numpy as np\n",
    "import pytest\n",
    "from functools import partial\n",
    "\n",
    "from parsmooth._base import MVNStandard, FunctionalModelX, MVNSqrt\n",
    "from parsmooth.linearization import cubature, extended, gauss_hermite\n",
    "from parsmooth.methods import iterated_smoothing, filtering, smoothing\n",
    "from parsmooth.linearization._cubature import _get_sigma_points\n",
    "from parsmooth.linearization._sigma_points import linearize_functional\n",
    "from parsmooth._utils import cholesky_update_many, tria\n",
    "\n",
    "from parsmooth.parallel._filtering import _standard_associative_params\n",
    "from parsmooth.parallel._filtering import _sqrt_associative_params\n",
    "\n",
    "from parsmooth.parallel._operators import standard_filtering_operator\n",
    "from parsmooth.parallel._operators import sqrt_filtering_operator\n",
    "from parsmooth.parallel._operators import standard_smoothing_operator\n",
    "from parsmooth.parallel._operators import sqrt_smoothing_operator\n",
    "\n",
    "from parsmooth.parallel._smoothing import _associative_params\n",
    "\n",
    "from parsmooth.parallel._operators import standard_smoothing_operator\n",
    "from parsmooth.parallel._operators import sqrt_smoothing_operator\n",
    "\n",
    "from bearings.bearings_utils import make_parameters\n",
    "from bearings.bearingdata import get_data\n",
    "\n",
    "\n",
    "import matplotlib.pyplot as plt\n",
    "\n",
    "jax.config.update(\"jax_enable_x64\", True)\n",
    "np.random.seed(0)"
   ]
  },
  {
   "cell_type": "code",
   "execution_count": 2,
   "id": "adf750d6",
   "metadata": {},
   "outputs": [
    {
     "name": "stderr",
     "output_type": "stream",
     "text": [
      "WARNING:absl:No GPU/TPU found, falling back to CPU. (Set TF_CPP_MIN_LOG_LEVEL=0 and rerun for more info.)\n"
     ]
    }
   ],
   "source": [
    "s1 = jnp.array([-1.5, 0.5])  # First sensor location\n",
    "s2 = jnp.array([1., 1.])  # Second sensor location\n",
    "r = 0.5  # Observation noise (stddev)\n",
    "dt = 0.01  # discretization time step\n",
    "x0 = jnp.array([0.1, 0.2, 1, 0])  # initial true location\n",
    "qc = 0.01  # discretization noise\n",
    "qw = 0.1  # discretization noise\n",
    "\n",
    "T = 10  # number of observations"
   ]
  },
  {
   "cell_type": "code",
   "execution_count": 3,
   "id": "48e6ee59",
   "metadata": {},
   "outputs": [],
   "source": [
    "ts, true_states, ys = get_data(x0, dt, r, T, s1, s2, random_state=42)\n",
    "\n"
   ]
  },
  {
   "cell_type": "code",
   "execution_count": 4,
   "id": "d43ea01e",
   "metadata": {},
   "outputs": [],
   "source": [
    "\n",
    "linearization_method = cubature\n",
    "jax.config.update(\"jax_enable_x64\", True)\n",
    "s1 = jnp.array([-1.5, 0.5])  # First sensor location\n",
    "s2 = jnp.array([1., 1.])  # Second sensor location\n",
    "r = 0.5  # Observation noise (stddev)\n",
    "dt = 0.01  # discretization time step\n",
    "qc = 0.01  # discretization noise\n",
    "qw = 0.1  # discretization noise\n",
    "Q_, R, observation_function, transition_function = make_parameters(qc, qw, r, dt, s1, s2)\n",
    "\n",
    "Q = Q_\n",
    "\n",
    "m0 = jnp.array([-4., -1., 2., 7., 3.])\n",
    "chol_P0 = jnp.eye(5)\n",
    "P0 = jnp.eye(5)\n",
    "\n",
    "chol_Q = jnp.linalg.cholesky(Q)\n",
    "chol_R = jnp.linalg.cholesky(R)\n",
    "\n",
    "T = ys.shape[0]\n",
    "initial_states =  MVNStandard(jnp.repeat(jnp.array([[-1., -1., 6., 4., 2.]]),T, axis=0),\n",
    "                                                     jnp.repeat(jnp.eye(5).reshape(1, 5, 5), T, axis=0))\n",
    "\n",
    "\n",
    "initial_states_sqrt = MVNSqrt(jnp.repeat(jnp.array([[-1., -1., 6., 4., 2.]]),T, axis=0),\n",
    "                              jnp.repeat(jnp.eye(5).reshape(1, 5, 5), T, axis=0))\n",
    "\n",
    "init = MVNStandard(m0, P0)\n",
    "chol_init = MVNSqrt(m0, chol_P0)\n",
    "\n",
    "\n",
    "sqrt_transition_model = FunctionalModelX(transition_function, MVNSqrt(jnp.zeros((5,)), chol_Q))\n",
    "transition_model = FunctionalModelX(transition_function, MVNStandard(jnp.zeros((5,)), Q))\n",
    "\n",
    "sqrt_observation_model = FunctionalModelX(observation_function, MVNSqrt(jnp.zeros((2,)), chol_R))\n",
    "observation_model = FunctionalModelX(observation_function, MVNStandard(jnp.zeros((2,)), R))\n",
    "\n"
   ]
  },
  {
   "cell_type": "code",
   "execution_count": 5,
   "id": "6df6442f",
   "metadata": {},
   "outputs": [],
   "source": [
    "# Initialization params in Parallel-Filtering\n",
    "\n",
    "params_str = _standard_associative_params(linearization_method, transition_model, observation_model,\n",
    "                                          initial_states, init, ys)\n",
    "params_sqrt = _sqrt_associative_params(linearization_method, sqrt_transition_model, sqrt_observation_model,\n",
    "                                       initial_states_sqrt, chol_init, ys)"
   ]
  },
  {
   "cell_type": "code",
   "execution_count": 6,
   "id": "b2109144",
   "metadata": {},
   "outputs": [],
   "source": [
    "# (A, b, C, eta , J) v.s (A, b, U, eta, Z)\n",
    "np.testing.assert_array_almost_equal(params_str[0][0], params_sqrt[0][0], decimal = 7)\n",
    "\n",
    "np.testing.assert_array_almost_equal(params_str[0][1], params_sqrt[0][1], decimal = 7)\n",
    "\n",
    "np.testing.assert_array_almost_equal(params_str[0][2],\n",
    "                                     params_sqrt[0][2] @ np.transpose(params_sqrt[0][2], [0, 2, 1]),\n",
    "                                     decimal = 6)\n",
    "\n",
    "np.testing.assert_array_almost_equal(params_str[0][3], params_sqrt[0][3], decimal = 7)\n",
    "\n",
    "np.testing.assert_array_almost_equal(params_str[0][4],\n",
    "                                     params_sqrt[0][4] @ np.transpose(params_sqrt[0][4], [0, 2, 1]),\n",
    "                                     decimal = 7)"
   ]
  },
  {
   "cell_type": "code",
   "execution_count": 7,
   "id": "907f2569",
   "metadata": {},
   "outputs": [],
   "source": [
    "sqrt_iterated_res_seq = iterated_smoothing(ys, chol_init, sqrt_transition_model, sqrt_observation_model,\n",
    "                                  linearization_method, initial_states_sqrt, False,\n",
    "                                      criterion=lambda i, *_: i < 100)"
   ]
  },
  {
   "cell_type": "code",
   "execution_count": 8,
   "id": "310e1fa7",
   "metadata": {},
   "outputs": [],
   "source": [
    "sqrt_iterated_res_par = iterated_smoothing(ys, chol_init, sqrt_transition_model, sqrt_observation_model,\n",
    "                                       linearization_method, initial_states_sqrt, True,\n",
    "                                       criterion=lambda i, *_: i < 100)"
   ]
  },
  {
   "cell_type": "code",
   "execution_count": 9,
   "id": "7924caf7",
   "metadata": {},
   "outputs": [],
   "source": [
    "iterated_res_seq = iterated_smoothing(ys, init, transition_model, observation_model,\n",
    "                                      linearization_method, initial_states, False,\n",
    "                                      criterion=lambda i, *_: i < 100)"
   ]
  },
  {
   "cell_type": "code",
   "execution_count": 10,
   "id": "db05b98e",
   "metadata": {},
   "outputs": [],
   "source": [
    "iterated_res_par = iterated_smoothing(ys, init, transition_model, observation_model,\n",
    "                                      linearization_method, initial_states, True,\n",
    "                                      criterion=lambda i, *_: i < 100)"
   ]
  },
  {
   "cell_type": "code",
   "execution_count": 11,
   "id": "cbf4ed38",
   "metadata": {},
   "outputs": [
    {
     "data": {
      "text/plain": [
       "[<matplotlib.lines.Line2D at 0x7fd5217dee20>]"
      ]
     },
     "execution_count": 11,
     "metadata": {},
     "output_type": "execute_result"
    },
    {
     "data": {
      "image/png": "[encoded data removed]",
      "text/plain": [
       "<Figure size 1080x720 with 1 Axes>"
      ]
     },
     "metadata": {
      "needs_background": "light"
     },
     "output_type": "display_data"
    }
   ],
   "source": [
    "plt.figure(figsize=(15, 10))\n",
    "plt.plot(sqrt_iterated_res_seq.mean[:,0], sqrt_iterated_res_seq.mean[:,1],'g')\n",
    "plt.plot(sqrt_iterated_res_par.mean[:,0], sqrt_iterated_res_par.mean[:,1],'k')\n",
    "plt.plot(iterated_res_seq.mean[:,0], iterated_res_seq.mean[:,1],'b')"
   ]
  },
  {
   "cell_type": "code",
   "execution_count": 17,
   "id": "b12cae8c",
   "metadata": {},
   "outputs": [],
   "source": [
    "np.testing.assert_array_almost_equal(sqrt_iterated_res_seq.mean, sqrt_iterated_res_par.mean, decimal=8)\n"
   ]
  },
  {
   "cell_type": "code",
   "execution_count": 18,
   "id": "e3bae173",
   "metadata": {},
   "outputs": [],
   "source": [
    "np.testing.assert_array_almost_equal(sqrt_iterated_res_seq.chol @ np.transpose(sqrt_iterated_res_seq.chol, [0,2,1]),\n",
    "                                     sqrt_iterated_res_par.chol @ np.transpose(sqrt_iterated_res_par.chol, [0,2,1]), decimal=8)\n"
   ]
  },
  {
   "cell_type": "code",
   "execution_count": null,
   "id": "735af032",
   "metadata": {},
   "outputs": [],
   "source": []
  }
 ],
 "metadata": {
  "kernelspec": {
   "display_name": "Python 3 (ipykernel)",
   "language": "python",
   "name": "python3"
  },
  "language_info": {
   "codemirror_mode": {
    "name": "ipython",
    "version": 3
   },
   "file_extension": ".py",
   "mimetype": "text/x-python",
   "name": "python",
   "nbconvert_exporter": "python",
   "pygments_lexer": "ipython3",
   "version": "3.9.5"
  }
 },
 "nbformat": 4,
 "nbformat_minor": 5
}