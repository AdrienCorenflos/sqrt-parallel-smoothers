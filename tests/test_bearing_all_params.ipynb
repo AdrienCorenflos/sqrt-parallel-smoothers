{
 "cells": [
  {
   "cell_type": "code",
   "execution_count": 1,
   "id": "8195dbe5",
   "metadata": {},
   "outputs": [],
   "source": [
    "import sys\n",
    "sys.path.append('..//')\n",
    "\n",
    "import jax\n",
    "import jax.numpy as jnp\n",
    "import numpy as np\n",
    "import pytest\n",
    "from functools import partial\n",
    "\n",
    "from parsmooth._base import MVNStandard, FunctionalModelX, MVNSqrt\n",
    "from parsmooth.linearization import cubature, extended, gauss_hermite\n",
    "from parsmooth.methods import iterated_smoothing, filtering, smoothing\n",
    "from parsmooth.linearization._cubature import _get_sigma_points\n",
    "from parsmooth.linearization._sigma_points import linearize_functional\n",
    "from parsmooth._utils import cholesky_update_many, tria\n",
    "\n",
    "from parsmooth.parallel._filtering import _standard_associative_params\n",
    "from parsmooth.parallel._filtering import _sqrt_associative_params\n",
    "\n",
    "from parsmooth.parallel._operators import standard_filtering_operator\n",
    "from parsmooth.parallel._operators import sqrt_filtering_operator\n",
    "from parsmooth.parallel._operators import standard_smoothing_operator\n",
    "from parsmooth.parallel._operators import sqrt_smoothing_operator\n",
    "\n",
    "from parsmooth.parallel._smoothing import _associative_params\n",
    "\n",
    "from parsmooth.parallel._operators import standard_smoothing_operator\n",
    "from parsmooth.parallel._operators import sqrt_smoothing_operator\n",
    "\n",
    "from parsmooth.sequential._filtering import _sqrt_predict, _sqrt_update, _standard_predict, _standard_update\n",
    "\n",
    "from bearings.bearings_utils import make_parameters\n",
    "\n",
    "import matplotlib.pyplot as plt"
   ]
  },
  {
   "cell_type": "code",
   "execution_count": 2,
   "id": "e11e33e2",
   "metadata": {},
   "outputs": [
    {
     "name": "stderr",
     "output_type": "stream",
     "text": [
      "WARNING:absl:No GPU/TPU found, falling back to CPU. (Set TF_CPP_MIN_LOG_LEVEL=0 and rerun for more info.)\n"
     ]
    }
   ],
   "source": [
    "linearization_method = cubature\n",
    "jax.config.update(\"jax_enable_x64\", True)\n",
    "s1 = jnp.array([-1.5, 0.5])  # First sensor location\n",
    "s2 = jnp.array([1., 1.])  # Second sensor location\n",
    "r = 0.5  # Observation noise (stddev)\n",
    "dt = 0.01  # discretization time step\n",
    "qc = 0.01  # discretization noise\n",
    "qw = 0.1  # discretization noise\n",
    "\n",
    "ys = np.load(\"bearings/ys.npy\")\n",
    "# if linearization_method is extended:\n",
    "#     with np.load(\"tests/bearings//ieks.npz\") as loaded:\n",
    "#         expected_mean, expected_cov = loaded[\"arr_0\"], loaded[\"arr_1\"]\n",
    "# elif linearization_method is cubature:\n",
    "#     with np.load(\"./bearings//icks.npz\") as loaded:\n",
    "#         expected_mean, expected_cov = loaded[\"arr_0\"], loaded[\"arr_1\"]\n",
    "# else:\n",
    "#     pytest.skip(\"We don't have regression data for this linearization\")\n",
    "\n",
    "if linearization_method is extended:\n",
    "    with np.load(\"bearings//previous_results_new.npz\") as loaded:\n",
    "        expected_mean, expected_cov = loaded[\"expected_mean_extended\"], loaded[\"expected_cov_extended\"]\n",
    "elif linearization_method is cubature:\n",
    "    with np.load(\"bearings//previous_results_new.npz\") as loaded:\n",
    "        expected_mean, expected_cov = loaded[\"expected_mean_cubature\"], loaded[\"expected_cov_cubature\"]\n",
    "else:\n",
    "    pass\n",
    "\n",
    "\n",
    "Q_, R, observation_function, transition_function = make_parameters(qc, qw, r, dt, s1, s2)\n",
    "\n",
    "m0 = jnp.array([-4., -1., 2., 7., 3.])\n",
    "chol_P0 = jnp.eye(5)\n",
    "P0 = jnp.eye(5)\n",
    "\n",
    "chol_Q = jnp.linalg.cholesky(Q)\n",
    "chol_R = jnp.linalg.cholesky(R)\n",
    "\n",
    "T = ys.shape[0]\n",
    "initial_states =  MVNStandard(jnp.repeat(jnp.array([[-1., -1., 6., 4., 2.]]),T, axis=0),\n",
    "                                                     jnp.repeat(jnp.eye(5).reshape(1, 5, 5), T, axis=0))\n",
    "\n",
    "\n",
    "initial_states_sqrt = MVNSqrt(jnp.repeat(jnp.array([[-1., -1., 6., 4., 2.]]),T, axis=0),\n",
    "                              jnp.repeat(jnp.eye(5).reshape(1, 5, 5), T, axis=0))\n",
    "\n",
    "init = MVNStandard(m0, P0)\n",
    "chol_init = MVNSqrt(m0, chol_P0)\n",
    "\n",
    "\n",
    "sqrt_transition_model = FunctionalModelX(transition_function, MVNSqrt(jnp.zeros((5,)), chol_Q))\n",
    "transition_model = FunctionalModelX(transition_function, MVNStandard(jnp.zeros((5,)), Q))\n",
    "\n",
    "sqrt_observation_model = FunctionalModelX(observation_function, MVNSqrt(jnp.zeros((2,)), chol_R))\n",
    "observation_model = FunctionalModelX(observation_function, MVNStandard(jnp.zeros((2,)), R))\n",
    "\n"
   ]
  },
  {
   "cell_type": "markdown",
   "id": "55531da2",
   "metadata": {},
   "source": [
    "# check parallel-sqrt v.s parallel-str (initialization and combination in filtering and smoothing)"
   ]
  },
  {
   "cell_type": "code",
   "execution_count": 3,
   "id": "1bfb2351",
   "metadata": {},
   "outputs": [],
   "source": [
    "# Initialization params in Parallel-Filtering\n",
    "\n",
    "params_str = _standard_associative_params(linearization_method, transition_model, observation_model,\n",
    "                                          initial_states, init, ys)\n",
    "params_sqrt = _sqrt_associative_params(linearization_method, sqrt_transition_model, sqrt_observation_model,\n",
    "                                       initial_states_sqrt, chol_init, ys)"
   ]
  },
  {
   "cell_type": "code",
   "execution_count": 4,
   "id": "99c07877",
   "metadata": {},
   "outputs": [],
   "source": [
    "# (A, b, C, eta , J) v.s (A, b, U, eta, Z)\n",
    "np.testing.assert_array_almost_equal(params_str[0][0], params_sqrt[0][0], decimal = 7)\n",
    "\n",
    "np.testing.assert_array_almost_equal(params_str[0][1], params_sqrt[0][1], decimal = 7)\n",
    "\n",
    "np.testing.assert_array_almost_equal(params_str[0][2],\n",
    "                                     params_sqrt[0][2] @ np.transpose(params_sqrt[0][2], [0, 2, 1]),\n",
    "                                     decimal = 7)\n",
    "\n",
    "np.testing.assert_array_almost_equal(params_str[0][3], params_sqrt[0][3], decimal = 7)\n",
    "\n",
    "np.testing.assert_array_almost_equal(params_str[0][4],\n",
    "                                     params_sqrt[0][4] @ np.transpose(params_sqrt[0][4], [0, 2, 1]),\n",
    "                                     decimal = 7)"
   ]
  },
  {
   "cell_type": "code",
   "execution_count": 5,
   "id": "8fba7eed",
   "metadata": {},
   "outputs": [],
   "source": [
    "# (F, Q, b, H ,R, c) v.s (F, cholQ, b, H ,cholR, c)\n",
    "np.testing.assert_array_almost_equal(params_str[1][0], params_sqrt[1][0], decimal = 7)\n",
    "\n",
    "np.testing.assert_array_almost_equal(params_str[1][1],\n",
    "                                     params_sqrt[1][1] @ np.transpose(params_sqrt[1][1], [0, 2, 1]),\n",
    "                                     decimal = 7)\n",
    "\n",
    "np.testing.assert_array_almost_equal(params_str[1][2], params_sqrt[1][2], decimal = 7)\n",
    "\n",
    "np.testing.assert_array_almost_equal(params_str[1][3], params_sqrt[1][3], decimal = 7)\n",
    "\n",
    "np.testing.assert_array_almost_equal(params_str[1][4],\n",
    "                                     params_sqrt[1][4] @ np.transpose(params_sqrt[1][4], [0, 2, 1]),\n",
    "                                     decimal = 7)\n",
    "\n",
    "np.testing.assert_array_almost_equal(params_str[1][5], params_sqrt[1][5], decimal = 7)\n"
   ]
  },
  {
   "cell_type": "code",
   "execution_count": 6,
   "id": "309acac1",
   "metadata": {},
   "outputs": [],
   "source": [
    "# Combination params in Parallel-Filtering\n",
    "i = 4\n",
    "j = 5\n",
    "\n",
    "# standard init params\n",
    "As = params_str[0][0]\n",
    "bs = params_str[0][1]\n",
    "Cs = params_str[0][2]\n",
    "etas = params_str[0][3]\n",
    "Js = params_str[0][4]\n",
    "elem_i = (As[i], bs[i], Cs[i], etas[i], Js[i])\n",
    "elem_j = (As[j], bs[j], Cs[j], etas[j], Js[j])\n",
    "\n",
    "# sqrt init params\n",
    "As_sqrt = params_sqrt[0][0]\n",
    "bs_sqrt = params_sqrt[0][1]\n",
    "Us_sqrt = params_sqrt[0][2]\n",
    "etas_sqrt = params_sqrt[0][3]\n",
    "Zs_sqrt = params_sqrt[0][4]\n",
    "elem_i_sqrt = (As_sqrt[i], bs_sqrt[i], Us_sqrt[i], etas_sqrt[i], Zs_sqrt[i])\n",
    "elem_j_sqrt = (As_sqrt[j], bs_sqrt[j], Us_sqrt[j], etas_sqrt[j], Zs_sqrt[j])\n",
    "\n",
    "str_filter_op = standard_filtering_operator(elem_i, elem_j)\n",
    "sqrt_filter_op = sqrt_filtering_operator(elem_i_sqrt, elem_j_sqrt)"
   ]
  },
  {
   "cell_type": "code",
   "execution_count": 7,
   "id": "2f3ec88c",
   "metadata": {
    "scrolled": false
   },
   "outputs": [],
   "source": [
    "# (A_ij, b_ij, C_ij, eta_ij , J_ij) v.s (A_ij, b_ij, U_ij, eta_ij, Z_ij)\n",
    "np.testing.assert_array_almost_equal(str_filter_op[0], sqrt_filter_op[0], decimal = 7)\n",
    "\n",
    "np.testing.assert_array_almost_equal(str_filter_op[1], sqrt_filter_op[1], decimal = 7)\n",
    "\n",
    "np.testing.assert_array_almost_equal(str_filter_op[2],\n",
    "                                     sqrt_filter_op[2] @ sqrt_filter_op[2].T,\n",
    "                                     decimal = 7)\n",
    "\n",
    "np.testing.assert_array_almost_equal(str_filter_op[3], sqrt_filter_op[3], decimal = 7)\n",
    "\n",
    "np.testing.assert_array_almost_equal(str_filter_op[4],\n",
    "                                     sqrt_filter_op[4] @ sqrt_filter_op[4].T,\n",
    "                                     decimal = 7)"
   ]
  },
  {
   "cell_type": "code",
   "execution_count": 8,
   "id": "fe14cea9",
   "metadata": {},
   "outputs": [],
   "source": [
    "# Initialization params in Parallel-Smoothing\n",
    "\n",
    "filtering_trajectory =  MVNStandard(jnp.repeat(jnp.array([[-1., -1., 2., 4., 6.]]),T, axis=0),\n",
    "                                                     jnp.repeat(4*jnp.eye(5).reshape(1, 5, 5), T, axis=0))\n",
    "\n",
    "\n",
    "filtering_trajectory_sqrt = MVNSqrt(jnp.repeat(jnp.array([[-1., -1., 2., 4., 6.]]),T, axis=0),\n",
    "                              jnp.repeat(2*jnp.eye(5).reshape(1, 5, 5), T, axis=0))\n",
    "\n",
    "\n",
    "\n",
    "str_params_smooth = _associative_params(linearization_method, transition_model,\n",
    "                                        initial_states, filtering_trajectory, False)\n",
    "sqrt_params_smooth = _associative_params(linearization_method, sqrt_transition_model,\n",
    "                                        initial_states_sqrt, filtering_trajectory_sqrt, True)"
   ]
  },
  {
   "cell_type": "code",
   "execution_count": 9,
   "id": "3f65546f",
   "metadata": {},
   "outputs": [],
   "source": [
    "# (g, E, L) v.s (g, E, D)\n",
    "np.testing.assert_array_almost_equal(str_params_smooth[0], sqrt_params_smooth[0], decimal = 7)\n",
    "\n",
    "np.testing.assert_array_almost_equal(str_params_smooth[1], sqrt_params_smooth[1], decimal = 7)\n",
    "\n",
    "np.testing.assert_array_almost_equal(str_params_smooth[2],\n",
    "                                     sqrt_params_smooth[2] @ np.transpose(sqrt_params_smooth[2], [0, 2, 1]),\n",
    "                                     decimal = 7)"
   ]
  },
  {
   "cell_type": "code",
   "execution_count": 10,
   "id": "e85bf2a6",
   "metadata": {},
   "outputs": [],
   "source": [
    "# Combination params in Parallel - Smoothing\n",
    "i = 4\n",
    "j = 5\n",
    "\n",
    "# standard init params\n",
    "gs = str_params_smooth[0]\n",
    "Es = str_params_smooth[1]\n",
    "Ls = str_params_smooth[2]\n",
    "smooth_elem_i = (gs[i], Es[i], Ls[i])\n",
    "smooth_elem_j = (gs[j], Es[j], Ls[j])\n",
    "\n",
    "# sqrt init params\n",
    "gs_sqrt = sqrt_params_smooth[0]\n",
    "Es_sqrt = sqrt_params_smooth[1]\n",
    "Ds_sqrt = sqrt_params_smooth[2]\n",
    "smooth_elem_i_sqrt = (gs_sqrt[i], Es_sqrt[i], Ds_sqrt[i])\n",
    "smooth_elem_j_sqrt = (gs_sqrt[j], Es_sqrt[j], Ds_sqrt[j])\n",
    "\n",
    "str_smoother_op = standard_smoothing_operator(smooth_elem_i, smooth_elem_j)\n",
    "sqrt_smoother_op = sqrt_smoothing_operator(smooth_elem_i_sqrt, smooth_elem_j_sqrt)"
   ]
  },
  {
   "cell_type": "code",
   "execution_count": 11,
   "id": "55736f66",
   "metadata": {},
   "outputs": [],
   "source": [
    "# (g_ij, E_ij, L_ij) v.s (g_ij, E_ij, U_ij, D_ij)\n",
    "np.testing.assert_array_almost_equal(str_smoother_op[0], sqrt_smoother_op[0], decimal = 7)\n",
    "\n",
    "np.testing.assert_array_almost_equal(str_smoother_op[1], sqrt_smoother_op[1], decimal = 7)\n",
    "\n",
    "np.testing.assert_array_almost_equal(str_smoother_op[2],\n",
    "                                     sqrt_smoother_op[2] @ sqrt_smoother_op[2].T,\n",
    "                                     decimal = 7)"
   ]
  },
  {
   "cell_type": "markdown",
   "id": "ed4e8f4b",
   "metadata": {},
   "source": [
    "# check sequential-sqrt v.s sequential-std (predict, update, and smooth)"
   ]
  },
  {
   "cell_type": "code",
   "execution_count": 12,
   "id": "8d401bad",
   "metadata": {},
   "outputs": [],
   "source": [
    "# filtering\n",
    "dim_x= 5\n",
    "dim_y = 2\n",
    "y = np.random.randn(dim_y)\n",
    "\n",
    "x1 = np.random.randn(dim_x)\n",
    "cholx1 = np.random.rand(dim_x, dim_x)\n",
    "cholx1[np.triu_indices(dim_x, 1)] = 0\n",
    "x_nominal_sqrt1 = MVNSqrt(x1, cholx1)\n",
    "x_nominal_std1 = MVNStandard(x1, cholx1 @ cholx1.T)\n",
    "\n",
    "F, Q1, b = linearization_method(transition_model, x_nominal_std1)\n",
    "F_sqrt, cholQ1, b_sqrt = linearization_method(sqrt_transition_model, x_nominal_sqrt1)\n",
    "predict_std =  _standard_predict(F, Q1, b, x_nominal_std1)\n",
    "predict_sqrt =  _sqrt_predict(F_sqrt, cholQ1, b_sqrt, x_nominal_sqrt1)\n",
    "\n",
    "x2 = np.random.randn(dim_x)\n",
    "cholx2 = np.random.rand(dim_x, dim_x)\n",
    "cholx2[np.triu_indices(dim_x, 1)] = 0\n",
    "x_nominal_sqrt2 = MVNSqrt(x2, cholx2)\n",
    "x_nominal_std2 = MVNStandard(x2, cholx2 @ cholx2.T)\n",
    "\n",
    "H, R1, c = linearization_method(observation_model, x_nominal_std2)\n",
    "H_sqrt, cholR1, c_sqrt = linearization_method(sqrt_observation_model, x_nominal_sqrt2)\n",
    "update_std = _standard_update(H, R1, c_sqrt, predict_std, y)\n",
    "update_sqrt = _sqrt_update(H_sqrt, cholR1, c, predict_sqrt, y)\n",
    "\n"
   ]
  },
  {
   "cell_type": "code",
   "execution_count": 13,
   "id": "59e8bd57",
   "metadata": {},
   "outputs": [],
   "source": [
    "#linearization used in prediction (F, b, Q) v.s (F_sqrt, b_sqrt, cholQ)\n",
    "\n",
    "np.testing.assert_array_almost_equal(F, F_sqrt, decimal=10)\n",
    "np.testing.assert_array_almost_equal(b, b_sqrt, decimal=10)\n",
    "np.testing.assert_array_almost_equal(Q1, cholQ1@cholQ1.T, decimal=4)  #?? NOT OK"
   ]
  },
  {
   "cell_type": "code",
   "execution_count": 14,
   "id": "a080c33d",
   "metadata": {},
   "outputs": [],
   "source": [
    "#linearization used in update (H, c, R) v.s (H_sqrt, c_sqrt, cholR)\n",
    "np.testing.assert_array_almost_equal(H, H_sqrt, decimal=10)\n",
    "np.testing.assert_array_almost_equal(c, c_sqrt, decimal=10)\n",
    "np.testing.assert_array_almost_equal(R1, cholR1@cholR1.T, decimal=10)  #??? this one is OK"
   ]
  },
  {
   "cell_type": "code",
   "execution_count": 15,
   "id": "35b346f9",
   "metadata": {},
   "outputs": [],
   "source": [
    "# predict\n",
    "np.testing.assert_array_almost_equal(predict_std.mean, predict_sqrt.mean, decimal=10)"
   ]
  },
  {
   "cell_type": "code",
   "execution_count": 16,
   "id": "f4c8b01e",
   "metadata": {},
   "outputs": [],
   "source": [
    "np.testing.assert_array_almost_equal(predict_std.cov,\n",
    "                                     predict_sqrt.chol @ predict_sqrt.chol.T,\n",
    "                                     decimal=4)  ##??"
   ]
  },
  {
   "cell_type": "code",
   "execution_count": 17,
   "id": "c80dcf47",
   "metadata": {},
   "outputs": [],
   "source": [
    "# update\n",
    "np.testing.assert_array_almost_equal(update_std[0].mean, update_sqrt[0].mean, decimal=10)"
   ]
  },
  {
   "cell_type": "code",
   "execution_count": 18,
   "id": "8f9872a1",
   "metadata": {},
   "outputs": [],
   "source": [
    "np.testing.assert_array_almost_equal(update_std[0].cov,\n",
    "                                     update_sqrt[0].chol @ update_sqrt[0].chol.T,\n",
    "                                     decimal=4)  ##??"
   ]
  },
  {
   "cell_type": "code",
   "execution_count": 19,
   "id": "3f9e3b05",
   "metadata": {},
   "outputs": [],
   "source": [
    "# smooth"
   ]
  },
  {
   "cell_type": "code",
   "execution_count": null,
   "id": "1dea5691",
   "metadata": {},
   "outputs": [],
   "source": [
    "_standard_smooth(F, Q, b, xf, xs)"
   ]
  },
  {
   "cell_type": "code",
   "execution_count": null,
   "id": "973a26ff",
   "metadata": {},
   "outputs": [],
   "source": []
  },
  {
   "cell_type": "code",
   "execution_count": null,
   "id": "aa023c45",
   "metadata": {},
   "outputs": [],
   "source": []
  },
  {
   "cell_type": "markdown",
   "id": "7f024a97",
   "metadata": {},
   "source": [
    "# check sequential-sqrt v.s sequential-str"
   ]
  },
  {
   "cell_type": "code",
   "execution_count": 20,
   "id": "a06ba989",
   "metadata": {},
   "outputs": [],
   "source": [
    "# Filtering resuts: standard v.s square-root\n",
    "\n",
    "seq_str_filtering = filtering(ys,\n",
    "                              init,\n",
    "                              transition_model,\n",
    "                              observation_model,\n",
    "                              linearization_method,\n",
    "                              initial_states,\n",
    "                              False,\n",
    "                              False)\n",
    "\n",
    "seq_sqrt_filtering = filtering(ys,\n",
    "                              chol_init,\n",
    "                              sqrt_transition_model,\n",
    "                              sqrt_observation_model,\n",
    "                              linearization_method,\n",
    "                              initial_states_sqrt,\n",
    "                              False,\n",
    "                              False)"
   ]
  },
  {
   "cell_type": "code",
   "execution_count": 21,
   "id": "e8785b4a",
   "metadata": {},
   "outputs": [],
   "source": [
    "np.testing.assert_array_almost_equal(seq_str_filtering.mean, seq_sqrt_filtering.mean, decimal = 6)\n",
    "\n",
    "np.testing.assert_array_almost_equal(seq_str_filtering.cov,\n",
    "                                     seq_sqrt_filtering.chol @ np.transpose(seq_sqrt_filtering.chol, [0, 2, 1]),\n",
    "                                     decimal = 6)\n",
    "\n"
   ]
  },
  {
   "cell_type": "code",
   "execution_count": 22,
   "id": "51079988",
   "metadata": {},
   "outputs": [],
   "source": [
    "# Smoothing resuts: standard v.s square-root\n",
    "\n",
    "nominal_trajectory = MVNStandard(jnp.repeat(jnp.array([[-7., -3., 2., 8., 3.]]),T, axis=0),\n",
    "                                                     jnp.repeat(5.5 * jnp.eye(5).reshape(1, 5, 5), T, axis=0))\n",
    "\n",
    "sqrt_nominal_trajectory = MVNSqrt(jnp.repeat(jnp.array([[-7., -3., 2., 8., 3.]]),T, axis=0),\n",
    "                              jnp.repeat(jnp.sqrt(5.5 )* jnp.eye(5).reshape(1, 5, 5), T, axis=0))\n",
    "\n",
    "seq_std_filtering_bis = MVNStandard(seq_sqrt_filtering.mean, \n",
    "                                    jax.vmap(lambda M: M @ M.T)(seq_sqrt_filtering.chol))\n",
    "\n",
    "\n",
    "seq_str_smoothing = smoothing(transition_model,\n",
    "                              seq_std_filtering_bis,\n",
    "                              cubature,\n",
    "                              nominal_trajectory,\n",
    "                              False)\n",
    "\n",
    "seq_sqrt_smoothing = smoothing(sqrt_transition_model,\n",
    "                               seq_sqrt_filtering,\n",
    "                               cubature,\n",
    "                               sqrt_nominal_trajectory,\n",
    "                               False)"
   ]
  },
  {
   "cell_type": "code",
   "execution_count": 25,
   "id": "d27d3a4d",
   "metadata": {},
   "outputs": [],
   "source": [
    "np.testing.assert_array_almost_equal(seq_str_smoothing.mean, \n",
    "                                     seq_sqrt_smoothing.mean,\n",
    "                                     decimal=4)  #???\n"
   ]
  },
  {
   "cell_type": "code",
   "execution_count": 28,
   "id": "099924c1",
   "metadata": {},
   "outputs": [],
   "source": [
    "np.testing.assert_array_almost_equal(seq_str_smoothing.cov, \n",
    "                                     seq_sqrt_smoothing.chol @ np.transpose(seq_sqrt_smoothing.chol, [0, 2, 1]),\n",
    "                                     decimal=6)\n",
    "\n"
   ]
  },
  {
   "cell_type": "code",
   "execution_count": null,
   "id": "74d840b9",
   "metadata": {},
   "outputs": [],
   "source": [
    "### Sequential - Smoothing has problems in sqrt mode "
   ]
  },
  {
   "cell_type": "markdown",
   "id": "612a4e8e",
   "metadata": {},
   "source": [
    "# check parallel-sqrt v.s parallel-str"
   ]
  },
  {
   "cell_type": "code",
   "execution_count": 29,
   "id": "818f51ef",
   "metadata": {},
   "outputs": [],
   "source": [
    "# Filtering resuts: standard v.s square-root\n",
    "par_str_filtering = filtering(ys,\n",
    "                              init,\n",
    "                              transition_model,\n",
    "                              observation_model,\n",
    "                              linearization_method,\n",
    "                              initial_states,\n",
    "                              True,\n",
    "                              False)\n",
    "\n",
    "par_sqrt_filtering = filtering(ys,\n",
    "                              chol_init,\n",
    "                              sqrt_transition_model,\n",
    "                              sqrt_observation_model,\n",
    "                              linearization_method,\n",
    "                              initial_states_sqrt,\n",
    "                              True,\n",
    "                              False)"
   ]
  },
  {
   "cell_type": "code",
   "execution_count": 30,
   "id": "2cdbad06",
   "metadata": {},
   "outputs": [],
   "source": [
    "np.testing.assert_array_almost_equal(par_str_filtering.mean, \n",
    "                                     par_sqrt_filtering.mean,\n",
    "                                     decimal=5)\n",
    "\n",
    "np.testing.assert_array_almost_equal(par_str_filtering.cov,\n",
    "                                     par_sqrt_filtering.chol @ np.transpose(par_sqrt_filtering.chol, [0, 2, 1]),\n",
    "                                     decimal = 5)"
   ]
  },
  {
   "cell_type": "code",
   "execution_count": 31,
   "id": "835da3c9",
   "metadata": {},
   "outputs": [],
   "source": [
    "# Smoothing resuts: standard v.s square-root\n",
    "# Same nominal-trajectory as sequential smoothing\n",
    "\n",
    "par_str_smoothing = smoothing(transition_model,\n",
    "                              seq_str_filtering,\n",
    "                              linearization_method,\n",
    "                              nominal_trajectory,\n",
    "                              True)\n",
    "\n",
    "par_sqrt_smoothing = smoothing(sqrt_transition_model,\n",
    "                               seq_sqrt_filtering,\n",
    "                               linearization_method,\n",
    "                               sqrt_nominal_trajectory,\n",
    "                               True)"
   ]
  },
  {
   "cell_type": "code",
   "execution_count": 42,
   "id": "b18f18a0",
   "metadata": {},
   "outputs": [],
   "source": [
    "np.testing.assert_array_almost_equal(par_str_smoothing.mean, \n",
    "                                     par_sqrt_smoothing.mean,\n",
    "                                     decimal=4)  #??\n",
    "\n",
    "np.testing.assert_array_almost_equal(par_str_smoothing.cov,\n",
    "                                     par_sqrt_smoothing.chol @ np.transpose(par_sqrt_smoothing.chol, [0, 2, 1]),\n",
    "                                     decimal = 6) #??"
   ]
  },
  {
   "cell_type": "code",
   "execution_count": null,
   "id": "7dbf26de",
   "metadata": {},
   "outputs": [],
   "source": [
    "### Parallel - Smoothing has problems in sqrt mode"
   ]
  },
  {
   "cell_type": "markdown",
   "id": "b02c5d25",
   "metadata": {},
   "source": [
    "# Check sequential-str v.s parallel-str / sequential-sqrt v.s parallel-sqrt"
   ]
  },
  {
   "cell_type": "code",
   "execution_count": 43,
   "id": "17827ed8",
   "metadata": {},
   "outputs": [],
   "source": [
    "# Filtering standard\n",
    "np.testing.assert_array_almost_equal(seq_str_filtering.mean, \n",
    "                                     par_str_filtering.mean,\n",
    "                                     decimal=7) # OK\n",
    "\n",
    "np.testing.assert_array_almost_equal(seq_str_filtering.cov,\n",
    "                                     par_str_filtering.cov, \n",
    "                                     decimal = 7) # Ok"
   ]
  },
  {
   "cell_type": "code",
   "execution_count": 44,
   "id": "862f135b",
   "metadata": {},
   "outputs": [],
   "source": [
    "# Smoothing standard\n",
    "np.testing.assert_array_almost_equal(seq_str_smoothing.mean, \n",
    "                                     par_str_smoothing.mean,\n",
    "                                     decimal=7) # Ok\n",
    "\n",
    "np.testing.assert_array_almost_equal(seq_str_smoothing.cov, \n",
    "                                     par_str_smoothing.cov,\n",
    "                                     decimal=7) # OK"
   ]
  },
  {
   "cell_type": "code",
   "execution_count": 59,
   "id": "24dc4919",
   "metadata": {},
   "outputs": [],
   "source": [
    "# Filtering square-root\n",
    "np.testing.assert_array_almost_equal(seq_sqrt_filtering.mean, \n",
    "                                     par_sqrt_filtering.mean,\n",
    "                                     decimal=7) # OK\n",
    "\n"
   ]
  },
  {
   "cell_type": "code",
   "execution_count": 55,
   "id": "09249a95",
   "metadata": {},
   "outputs": [],
   "source": [
    "np.testing.assert_array_almost_equal(seq_sqrt_filtering.chol @ np.transpose(seq_sqrt_filtering.chol, [0,2,1]),\n",
    "                                     par_sqrt_filtering.chol @ np.transpose(par_sqrt_filtering.chol, [0,2,1]),\n",
    "                                     decimal=7)  # OK\n"
   ]
  },
  {
   "cell_type": "code",
   "execution_count": null,
   "id": "9f21e4d4",
   "metadata": {},
   "outputs": [],
   "source": [
    "### Filtering-sqrt: The computation of cholesky has problem (both parallel and sequential should be checked)\n",
    "#  This is OK"
   ]
  },
  {
   "cell_type": "code",
   "execution_count": 65,
   "id": "87bfdf59",
   "metadata": {},
   "outputs": [],
   "source": [
    "# Smoothing square-root\n",
    "np.testing.assert_array_almost_equal(seq_sqrt_smoothing.mean, \n",
    "                                     par_sqrt_smoothing.mean,\n",
    "                                     decimal=5) # OK"
   ]
  },
  {
   "cell_type": "code",
   "execution_count": 71,
   "id": "94a2a296",
   "metadata": {},
   "outputs": [],
   "source": [
    "np.testing.assert_array_almost_equal(seq_sqrt_smoothing.chol @ np.transpose(seq_sqrt_smoothing.chol, [0,2,1]), \n",
    "                                     par_sqrt_smoothing.chol @ np.transpose(par_sqrt_smoothing.chol, [0,2,1]),\n",
    "                                     decimal=7)  # OK"
   ]
  },
  {
   "cell_type": "code",
   "execution_count": null,
   "id": "7640dadd",
   "metadata": {},
   "outputs": [],
   "source": [
    "### Smoothing-sqrt: The computation of mean and cholesky has problem (both parallel and sequential should be checked)\n",
    "# almost ok"
   ]
  },
  {
   "cell_type": "markdown",
   "id": "70316fde",
   "metadata": {},
   "source": [
    "## Check str v.s sqrt"
   ]
  },
  {
   "cell_type": "code",
   "execution_count": 72,
   "id": "6df570d9",
   "metadata": {},
   "outputs": [],
   "source": [
    "# parallel-filtering\n",
    "np.testing.assert_array_almost_equal(par_str_filtering.mean, \n",
    "                                     par_sqrt_filtering.mean,\n",
    "                                     decimal=5)  # OK\n",
    "\n",
    "np.testing.assert_array_almost_equal(par_str_filtering.cov, \n",
    "                                     par_sqrt_filtering.chol @  np.transpose(par_sqrt_filtering.chol,[0,2,1]),\n",
    "                                     decimal=5)  # OK"
   ]
  },
  {
   "cell_type": "code",
   "execution_count": 82,
   "id": "2073bc5b",
   "metadata": {},
   "outputs": [],
   "source": [
    "# parallel-smoothing\n",
    "np.testing.assert_array_almost_equal(par_str_smoothing.mean, \n",
    "                                     par_sqrt_smoothing.mean,\n",
    "                                     decimal=4)  # NOT OK\n",
    "\n",
    "np.testing.assert_array_almost_equal(par_str_smoothing.cov, \n",
    "                                     par_sqrt_smoothing.chol @  np.transpose(par_sqrt_smoothing.chol,[0,2,1]),\n",
    "                                     decimal=6)  # NOT OK\n",
    "# changing the initial guess "
   ]
  },
  {
   "cell_type": "code",
   "execution_count": null,
   "id": "21b8c6e0",
   "metadata": {},
   "outputs": [],
   "source": [
    "# ^Expected, parallel smoothing in sqrt mode has problem"
   ]
  },
  {
   "cell_type": "code",
   "execution_count": 87,
   "id": "b16169be",
   "metadata": {},
   "outputs": [],
   "source": [
    "# sequential-filtering\n",
    "np.testing.assert_array_almost_equal(seq_str_filtering.mean, \n",
    "                                     seq_sqrt_filtering.mean,\n",
    "                                     decimal=7)  # OK\n"
   ]
  },
  {
   "cell_type": "code",
   "execution_count": 102,
   "id": "1a40da1c",
   "metadata": {},
   "outputs": [],
   "source": [
    "# np.testing.assert_array_almost_equal(seq_str_filtering.cov, \n",
    "#                                      seq_sqrt_filtering.chol @  np.transpose(par_sqrt_filtering.chol,[0,2,1]),\n",
    "#                                      decimal=0)  # NOT OK\n",
    "\n"
   ]
  },
  {
   "cell_type": "code",
   "execution_count": null,
   "id": "ebd53424",
   "metadata": {},
   "outputs": [],
   "source": [
    "# ^Expected, the choleskey of sequential filtering in sqrt mod has problem"
   ]
  },
  {
   "cell_type": "code",
   "execution_count": 96,
   "id": "f48d1cb2",
   "metadata": {},
   "outputs": [],
   "source": [
    "# sequential-smoothing\n",
    "np.testing.assert_array_almost_equal(seq_str_smoothing.mean, \n",
    "                                     seq_sqrt_smoothing.mean,\n",
    "                                     decimal=4)  # NOT OK\n",
    "\n",
    "np.testing.assert_array_almost_equal(seq_str_smoothing.cov, \n",
    "                                     seq_sqrt_smoothing.chol @  np.transpose(seq_sqrt_smoothing.chol,[0,2,1]),\n",
    "                                     decimal=6)  # OK\n",
    "# changing the initial guess"
   ]
  },
  {
   "cell_type": "code",
   "execution_count": null,
   "id": "23d96e3a",
   "metadata": {},
   "outputs": [],
   "source": [
    "# ^Expected, sequential smoothing in sqrt mode has problem"
   ]
  },
  {
   "cell_type": "markdown",
   "id": "771c82fa",
   "metadata": {},
   "source": [
    "# Iterated standard and sqrt"
   ]
  },
  {
   "cell_type": "code",
   "execution_count": 131,
   "id": "8c83a015",
   "metadata": {
    "scrolled": false
   },
   "outputs": [],
   "source": [
    "iteration = 100\n",
    "# standard\n",
    "iterated_res_seq = iterated_smoothing(ys, init, transition_model, observation_model,\n",
    "                                      linearization_method, initial_states, False,\n",
    "                                      criterion=lambda i, *_: i < iteration)"
   ]
  },
  {
   "cell_type": "code",
   "execution_count": null,
   "id": "ff245e09",
   "metadata": {
    "scrolled": false
   },
   "outputs": [],
   "source": [
    "iterated_res_par = iterated_smoothing(ys, init, transition_model, observation_model,\n",
    "                                      linearization_method, initial_states, True,\n",
    "                                      criterion=lambda i, *_: i < iteration)\n",
    "\n"
   ]
  },
  {
   "cell_type": "code",
   "execution_count": null,
   "id": "d16358f5",
   "metadata": {
    "scrolled": false
   },
   "outputs": [],
   "source": [
    "# square-root\n",
    "sqrt_iterated_res_seq = iterated_smoothing(ys, chol_init, sqrt_transition_model, sqrt_observation_model,\n",
    "                                  linearization_method, initial_states_sqrt, False,\n",
    "                                      criterion=lambda i, *_: i < iteration)"
   ]
  },
  {
   "cell_type": "code",
   "execution_count": null,
   "id": "163532be",
   "metadata": {
    "scrolled": false
   },
   "outputs": [],
   "source": [
    "sqrt_iterated_res_par = iterated_smoothing(ys, chol_init, sqrt_transition_model, sqrt_observation_model,\n",
    "                                       linearization_method, initial_states_sqrt, True,\n",
    "                                       criterion=lambda i, *_: i < iteration)"
   ]
  },
  {
   "cell_type": "code",
   "execution_count": null,
   "id": "fb75127a",
   "metadata": {},
   "outputs": [],
   "source": [
    "np.testing.assert_array_almost_equal(iterated_res_seq.mean, iterated_res_par.mean, decimal=10)\n",
    "\n",
    "np.testing.assert_array_almost_equal(iterated_res_seq.cov, iterated_res_par.cov, decimal=10)\n",
    "\n"
   ]
  },
  {
   "cell_type": "code",
   "execution_count": null,
   "id": "41aeca99",
   "metadata": {},
   "outputs": [],
   "source": [
    "np.testing.assert_array_almost_equal(sqrt_iterated_res_seq.mean, sqrt_iterated_res_par.mean, decimal=3)\n",
    "\n",
    "np.testing.assert_array_almost_equal(sqrt_iterated_res_seq.chol @ np.transpose(sqrt_iterated_res_seq.chol, [0,2,1]),\n",
    "                                     sqrt_iterated_res_par.chol @ np.transpose(sqrt_iterated_res_par.chol, [0,2,1]), \n",
    "                                     decimal=2)\n"
   ]
  },
  {
   "cell_type": "code",
   "execution_count": null,
   "id": "f6512121",
   "metadata": {},
   "outputs": [],
   "source": [
    "plt.figure(figsize=(15, 10))\n",
    "plt.plot(sqrt_iterated_res_seq.mean[:,0], sqrt_iterated_res_seq.mean[:,1],'g', label = \"sqrt_seq\")\n",
    "plt.plot(sqrt_iterated_res_par.mean[:,0], sqrt_iterated_res_par.mean[:,1],'k', label = \"sqrt_par\")\n",
    "plt.plot(iterated_res_seq.mean[:,0], iterated_res_seq.mean[:,1],'b', label = \"seq\")\n",
    "plt.plot(iterated_res_par.mean[:,0], iterated_res_par.mean[:,1],'r', label = \"par\")\n",
    "plt.legend();\n"
   ]
  },
  {
   "cell_type": "code",
   "execution_count": null,
   "id": "c5f89c78",
   "metadata": {},
   "outputs": [],
   "source": []
  },
  {
   "cell_type": "code",
   "execution_count": null,
   "id": "399d8035",
   "metadata": {},
   "outputs": [],
   "source": []
  }
 ],
 "metadata": {
  "kernelspec": {
   "display_name": "Python 3 (ipykernel)",
   "language": "python",
   "name": "python3"
  },
  "language_info": {
   "codemirror_mode": {
    "name": "ipython",
    "version": 3
   },
   "file_extension": ".py",
   "mimetype": "text/x-python",
   "name": "python",
   "nbconvert_exporter": "python",
   "pygments_lexer": "ipython3",
   "version": "3.9.5"
  }
 },
 "nbformat": 4,
 "nbformat_minor": 5
}